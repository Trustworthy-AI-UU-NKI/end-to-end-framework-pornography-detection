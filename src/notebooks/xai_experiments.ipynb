{
 "cells": [
  {
   "cell_type": "code",
   "execution_count": 1,
   "metadata": {},
   "outputs": [],
   "source": [
    "# So we can import our modules \n",
    "import sys\n",
    "sys.path.append('../..')\n",
    "\n",
    "import matplotlib.pyplot as plt\n",
    "\n",
    "import torch\n",
    "import torch.nn.functional as F\n",
    "\n",
    "from captum.attr import (\n",
    "  visualization as viz,\n",
    "  IntegratedGradients,\n",
    "  LayerIntegratedGradients,\n",
    "  DeepLift,\n",
    "  LayerDeepLift,\n",
    "  DeepLiftShap,\n",
    "  LayerDeepLiftShap,\n",
    "  GradientShap,\n",
    "  LayerGradientShap,\n",
    "  GuidedGradCam,\n",
    "  LayerGradCam,\n",
    "  LayerAttribution,\n",
    "  LRP,\n",
    "  LayerLRP,\n",
    "  NoiseTunnel\n",
    ")\n",
    "\n",
    "from src.utils.data import load_split, get_transforms\n",
    "from src.utils.model import init_model\n",
    "from src.datasets.pornography_frame_dataset import PornographyFrameDataset"
   ]
  },
  {
   "cell_type": "code",
   "execution_count": 2,
   "metadata": {},
   "outputs": [],
   "source": [
    "INPUT_SHAPE = 224\n",
    "MEAN = [0.485, 0.456, 0.406]\n",
    "STD = [0.229, 0.224, 0.225]\n",
    "\n",
    "DATA_LOC = \"/nas-ctm01/datasets/public/BIOMETRICS/pornography-2k-db/data-processed/even-20\"\n",
    "STATE_DICTS_LOC = \"../../results/even-20/data-aug/pornography-2k/models\"\n",
    "\n",
    "MODEL_NAME = \"vgg19\"\n",
    "state_dict_path = f\"{STATE_DICTS_LOC}/{MODEL_NAME}_freeze_False_epochs_50_batch_16_optim_sgd_aug_True_split_10_20.pth\""
   ]
  },
  {
   "cell_type": "code",
   "execution_count": 3,
   "metadata": {},
   "outputs": [
    {
     "name": "stdout",
     "output_type": "stream",
     "text": [
      "Loaded split.\n",
      "test: total (8000); porn (4020); non-porn (3980)\n"
     ]
    }
   ],
   "source": [
    "df_test = load_split(DATA_LOC, [0.1, 0.2], [\"test\"])[\"test\"]\n",
    "data_transforms = get_transforms(False, INPUT_SHAPE, MEAN, STD)[\"test\"]\n",
    "dataset = PornographyFrameDataset(DATA_LOC, df_test, data_transforms)"
   ]
  },
  {
   "cell_type": "code",
   "execution_count": 4,
   "metadata": {},
   "outputs": [
    {
     "name": "stdout",
     "output_type": "stream",
     "text": [
      "Device: cpu\n"
     ]
    },
    {
     "ename": "",
     "evalue": "",
     "output_type": "error",
     "traceback": [
      "\u001b[1;31mThe Kernel crashed while executing code in the current cell or a previous cell. \n",
      "\u001b[1;31mPlease review the code in the cell(s) to identify a possible cause of the failure. \n",
      "\u001b[1;31mClick <a href='https://aka.ms/vscodeJupyterKernelCrash'>here</a> for more info. \n",
      "\u001b[1;31mView Jupyter <a href='command:jupyter.viewOutput'>log</a> for further details."
     ]
    }
   ],
   "source": [
    "device = torch.device(\"cuda\" if torch.cuda.is_available() else \"cpu\")\n",
    "print(\"Device:\", device)\n",
    "\n",
    "state_dict = torch.load(state_dict_path, map_location=device)\n",
    "model = init_model(MODEL_NAME)\n",
    "model = torch.nn.DataParallel(model)\n",
    "model.load_state_dict(state_dict)\n",
    "model.eval()\n",
    "\n",
    "last_conv_layer = model.module.features[-3]"
   ]
  },
  {
   "cell_type": "code",
   "execution_count": null,
   "metadata": {},
   "outputs": [],
   "source": [
    "idx = 4140\n",
    "frame_name, frame_tensor, label = dataset[idx]\n",
    "print(f\"name (label): {frame_name} ({label})\")\n",
    "\n",
    "input = frame_tensor.unsqueeze(0)\n",
    "input.requires_grad = True\n",
    "\n",
    "output = model(input)\n",
    "pred_confidence, pred_label = torch.max(torch.sigmoid(output), dim=1)\n",
    "print(f\"{MODEL_NAME} - ground-truth: {label} | predicted: {pred_label.squeeze().item()} ({pred_confidence.squeeze().item()})\")"
   ]
  },
  {
   "cell_type": "code",
   "execution_count": null,
   "metadata": {},
   "outputs": [],
   "source": [
    "model.module.features"
   ]
  },
  {
   "cell_type": "markdown",
   "metadata": {},
   "source": [
    "## GradCAM"
   ]
  },
  {
   "cell_type": "code",
   "execution_count": null,
   "metadata": {},
   "outputs": [],
   "source": [
    "grad_cam = LayerGradCam(model, last_conv_layer)\n",
    "lgc_attr = grad_cam.attribute(input, target=pred_label)\n",
    "lgc_attr_upsampled = LayerAttribution.interpolate(lgc_attr, input.shape[2:])\n",
    "\n",
    "guided_grad_cam = GuidedGradCam(model, last_conv_layer)\n",
    "gcc_attr = guided_grad_cam.attribute(input, target=pred_label)"
   ]
  },
  {
   "cell_type": "code",
   "execution_count": null,
   "metadata": {},
   "outputs": [],
   "source": [
    "fig, axes = plt.subplots(1, 2, figsize=(12,6))\n",
    "\n",
    "viz.visualize_image_attr(\n",
    "  lgc_attr_upsampled[0].cpu().permute(1,2,0).detach().numpy(),\n",
    "  input.squeeze().cpu().permute(1,2,0).detach().numpy(),\n",
    "  method=\"blended_heat_map\",\n",
    "  sign=\"positive\",\n",
    "  cmap=\"jet\",\n",
    "  show_colorbar=True,\n",
    "  title=\"GradCAM\",\n",
    "  use_pyplot=False,\n",
    "  plt_fig_axis=(fig,axes[0])\n",
    ")\n",
    "\n",
    "viz.visualize_image_attr(\n",
    "  gcc_attr[0].cpu().permute(1,2,0).detach().numpy(),\n",
    "  input.squeeze().cpu().permute(1,2,0).detach().numpy(),\n",
    "  method=\"blended_heat_map\",\n",
    "  sign=\"positive\",\n",
    "  cmap=\"jet\",\n",
    "  show_colorbar=True,\n",
    "  title=\"Guided GradCAM\",\n",
    "  use_pyplot=False,\n",
    "  plt_fig_axis=(fig,axes[1])\n",
    ")\n",
    "\n",
    "plt.show()"
   ]
  },
  {
   "cell_type": "markdown",
   "metadata": {},
   "source": [
    "## Integrated Gradients"
   ]
  },
  {
   "cell_type": "code",
   "execution_count": null,
   "metadata": {},
   "outputs": [],
   "source": [
    "integrated_gradients = IntegratedGradients(model)\n",
    "ig_attr = integrated_gradients.attribute(input, target=pred_label, n_steps=10) # TODO: change number of steps\n",
    "\n",
    "layer_integrated_gradients = LayerIntegratedGradients(model, model.module.features[-3])\n",
    "lig_attr = layer_integrated_gradients.attribute(input, target=pred_label, n_steps=10)\n",
    "lig_attr_upsampled = LayerAttribution.interpolate(lig_attr, input.shape[2:])"
   ]
  },
  {
   "cell_type": "code",
   "execution_count": null,
   "metadata": {},
   "outputs": [],
   "source": [
    "fig, axes = plt.subplots(1, 2, figsize=(12,12))\n",
    "\n",
    "viz.visualize_image_attr(\n",
    "  ig_attr[0].cpu().permute(1,2,0).detach().numpy(),\n",
    "  input.squeeze().cpu().permute(1,2,0).detach().numpy(),\n",
    "  method=\"blended_heat_map\",\n",
    "  sign=\"positive\",\n",
    "  show_colorbar=True,\n",
    "  title=\"Integrated Gradients\",\n",
    "  use_pyplot=False,\n",
    "  plt_fig_axis=(fig,axes[0])\n",
    ")\n",
    "\n",
    "viz.visualize_image_attr(\n",
    "  lig_attr_upsampled[0].cpu().permute(1,2,0).detach().numpy(),\n",
    "  input.squeeze().cpu().permute(1,2,0).detach().numpy(),\n",
    "  method=\"blended_heat_map\",\n",
    "  sign=\"positive\",\n",
    "  show_colorbar=True,\n",
    "  title=\"Integrated Gradients\",\n",
    "  use_pyplot=False,\n",
    "  plt_fig_axis=(fig,axes[1])\n",
    ")\n",
    "\n",
    "fig.show()"
   ]
  },
  {
   "cell_type": "code",
   "execution_count": null,
   "metadata": {},
   "outputs": [],
   "source": [
    "noise_tunnel = NoiseTunnel(integrated_gradients)\n",
    "ig_nt_attr = noise_tunnel.attribute(input, target=pred_label, nt_samples=10, nt_type=\"smoothgrad_sq\")"
   ]
  },
  {
   "cell_type": "code",
   "execution_count": null,
   "metadata": {},
   "outputs": [],
   "source": [
    "viz.visualize_image_attr(\n",
    "  ig_nt_attr[0].cpu().permute(1,2,0).detach().numpy(),\n",
    "  input.squeeze().cpu().permute(1,2,0).detach().numpy(),\n",
    "  method=\"blended_heat_map\",\n",
    "  sign=\"positive\",\n",
    "  cmap=\"jet\",\n",
    "  show_colorbar=True,\n",
    "  title=\"Noise Tunnel\"\n",
    ")"
   ]
  },
  {
   "cell_type": "markdown",
   "metadata": {},
   "source": [
    "## DeepLIFT "
   ]
  },
  {
   "cell_type": "markdown",
   "metadata": {},
   "source": [
    "DeepLIFT is a backpropagation-based approach which takes a fundamental different perspective"
   ]
  },
  {
   "cell_type": "code",
   "execution_count": null,
   "metadata": {},
   "outputs": [],
   "source": [
    "# TODO: understand baselines\n",
    "\n",
    "# Definition of baseline distribution of images\n",
    "rand_dist = torch.cat([input * 0, input * 1])\n",
    "\n",
    "deep_lift = DeepLift(model) \n",
    "dl_attr = deep_lift.attribute(input, target=pred_label)\n",
    "\n",
    "layer_deep_lift = LayerDeepLift(model, layer=last_conv_layer)\n",
    "ldl_attr = layer_deep_lift.attribute(input, target=pred_label)\n",
    "ldl_attr_upsampled = LayerAttribution.interpolate(ldl_attr, input.shape[2:])\n",
    "\n",
    "deep_lift_shap = DeepLiftShap(model)\n",
    "dls_attr = deep_lift_shap.attribute(input, baselines=rand_dist, target=pred_label)\n",
    "\n",
    "layer_deep_lift_shap = LayerDeepLiftShap(model, layer=last_conv_layer)\n",
    "ldls_attr = layer_deep_lift_shap.attribute(input, baselines=rand_dist, target=pred_label)\n",
    "ldls_attr_upsampled = LayerAttribution.interpolate(ldls_attr, input.shape[2:])"
   ]
  },
  {
   "cell_type": "code",
   "execution_count": null,
   "metadata": {},
   "outputs": [],
   "source": [
    "fig, axes = plt.subplots(2, 2, figsize=(12,12))\n",
    "\n",
    "viz.visualize_image_attr(\n",
    "  dl_attr[0].cpu().permute(1,2,0).detach().numpy(),\n",
    "  input.squeeze().cpu().permute(1,2,0).detach().numpy(),\n",
    "  method=\"blended_heat_map\",\n",
    "  sign=\"positive\",\n",
    "  show_colorbar=True,\n",
    "  title=\"DeepLIFT\",\n",
    "  use_pyplot=False,\n",
    "  plt_fig_axis=(fig,axes[0][0])\n",
    ")\n",
    "\n",
    "viz.visualize_image_attr(\n",
    "  ldl_attr_upsampled[0].cpu().permute(1,2,0).detach().numpy(),\n",
    "  input.squeeze().cpu().permute(1,2,0).detach().numpy(),\n",
    "  method=\"blended_heat_map\",\n",
    "  sign=\"positive\",\n",
    "  show_colorbar=True,\n",
    "  title=\"Layer DeepLIFT\",\n",
    "  use_pyplot=False,\n",
    "  plt_fig_axis=(fig,axes[0][1])\n",
    ")\n",
    "\n",
    "viz.visualize_image_attr(\n",
    "  dls_attr[0].cpu().permute(1,2,0).detach().numpy(),\n",
    "  input.squeeze().cpu().permute(1,2,0).detach().numpy(),\n",
    "  method=\"blended_heat_map\",\n",
    "  sign=\"positive\",\n",
    "  show_colorbar=True,\n",
    "  title=\"DeepLIFT Shap\",\n",
    "  use_pyplot=False,\n",
    "  plt_fig_axis=(fig,axes[1][0])\n",
    ")\n",
    "\n",
    "viz.visualize_image_attr(\n",
    "  ldls_attr_upsampled[0].cpu().permute(1,2,0).detach().numpy(),\n",
    "  input.squeeze().cpu().permute(1,2,0).detach().numpy(),\n",
    "  method=\"blended_heat_map\",\n",
    "  sign=\"positive\",\n",
    "  show_colorbar=True,\n",
    "  title=\"Layer DeepLIFT Shap\",\n",
    "  use_pyplot=False,\n",
    "  plt_fig_axis=(fig,axes[1][1])\n",
    ")\n",
    "\n",
    "fig.show()"
   ]
  },
  {
   "cell_type": "markdown",
   "metadata": {},
   "source": [
    "## Gradient Shap"
   ]
  },
  {
   "cell_type": "code",
   "execution_count": null,
   "metadata": {},
   "outputs": [],
   "source": [
    "# Definition of baseline distribution of images\n",
    "rand_dist = torch.cat([input * 0, input * 1])\n",
    "\n",
    "gradient_shap = GradientShap(model)\n",
    "gs_attr = gradient_shap.attribute(input, baselines=rand_dist, target=pred_label)\n",
    "\n",
    "layer_gradient_shap = LayerGradientShap(model, layer=last_conv_layer)\n",
    "lgs_attr = layer_gradient_shap.attribute(input, baselines=rand_dist, target=pred_label)\n",
    "lgs_attr_upsampled = LayerAttribution.interpolate(lgs_attr, input.shape[2:])"
   ]
  },
  {
   "cell_type": "code",
   "execution_count": null,
   "metadata": {},
   "outputs": [],
   "source": [
    "fig, axes = plt.subplots(1, 2, figsize=(12,6))\n",
    "\n",
    "viz.visualize_image_attr(\n",
    "  gs_attr[0].cpu().permute(1,2,0).detach().numpy(),\n",
    "  input.squeeze().cpu().permute(1,2,0).detach().numpy(),\n",
    "  method=\"blended_heat_map\",\n",
    "  sign=\"positive\",\n",
    "  show_colorbar=True,\n",
    "  title=\"Gradient Shap\",\n",
    "  use_pyplot=False,\n",
    "  plt_fig_axis=(fig,axes[0])\n",
    ")\n",
    "\n",
    "viz.visualize_image_attr(\n",
    "  lgs_attr_upsampled[0].cpu().permute(1,2,0).detach().numpy(),\n",
    "  input.squeeze().cpu().permute(1,2,0).detach().numpy(),\n",
    "  method=\"blended_heat_map\",\n",
    "  sign=\"positive\",\n",
    "  show_colorbar=True,\n",
    "  title=\"Layer Gradient Shap\",\n",
    "  use_pyplot=False,\n",
    "  plt_fig_axis=(fig,axes[1])\n",
    ")"
   ]
  },
  {
   "cell_type": "markdown",
   "metadata": {},
   "source": [
    "## LRP"
   ]
  },
  {
   "cell_type": "code",
   "execution_count": null,
   "metadata": {},
   "outputs": [],
   "source": [
    "lrp = LRP(model)\n",
    "lrp_attr = lrp.attribute(input, target=pred_label)\n",
    "\n",
    "layer_lrp = LayerLRP(model, layer=last_conv_layer)\n",
    "llrp_attr = layer_lrp.attribute(input, target=pred_label)\n",
    "llrp_attr_upsampled = LayerAttribution.interpolate(llrp_attr, input.shape[2:])"
   ]
  },
  {
   "cell_type": "code",
   "execution_count": null,
   "metadata": {},
   "outputs": [],
   "source": [
    "fig, axes = plt.subplots(1, 2, figsize=(12,6))\n",
    "\n",
    "viz.visualize_image_attr(\n",
    "  lrp_attr[0].cpu().permute(1,2,0).detach().numpy(),\n",
    "  input.squeeze().cpu().permute(1,2,0).detach().numpy(),\n",
    "  method=\"blended_heat_map\",\n",
    "  sign=\"positive\",\n",
    "  cmap=\"jet\",\n",
    "  show_colorbar=True,\n",
    "  title=\"LRP\",\n",
    "  use_pyplot=False,\n",
    "  plt_fig_axis=(fig,axes[0])\n",
    ")\n",
    "\n",
    "viz.visualize_image_attr(\n",
    "  llrp_attr_upsampled[0].cpu().permute(1,2,0).detach().numpy(),\n",
    "  input.squeeze().cpu().permute(1,2,0).detach().numpy(),\n",
    "  method=\"blended_heat_map\",\n",
    "  sign=\"positive\",\n",
    "  cmap=\"jet\",\n",
    "  show_colorbar=True,\n",
    "  title=\"Layer LRP\",\n",
    "  use_pyplot=False,\n",
    "  plt_fig_axis=(fig,axes[1])\n",
    ")"
   ]
  }
 ],
 "metadata": {
  "kernelspec": {
   "display_name": "Python 3 (ipykernel)",
   "language": "python",
   "name": "python3"
  },
  "language_info": {
   "codemirror_mode": {
    "name": "ipython",
    "version": 3
   },
   "file_extension": ".py",
   "mimetype": "text/x-python",
   "name": "python",
   "nbconvert_exporter": "python",
   "pygments_lexer": "ipython3",
   "version": "3.8.10"
  }
 },
 "nbformat": 4,
 "nbformat_minor": 4
}
