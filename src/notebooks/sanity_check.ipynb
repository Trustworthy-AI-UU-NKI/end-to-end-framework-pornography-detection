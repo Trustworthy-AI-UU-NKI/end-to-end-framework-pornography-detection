{
 "cells": [
  {
   "cell_type": "markdown",
   "id": "746d12ed",
   "metadata": {},
   "source": [
    "# Sanity checks"
   ]
  },
  {
   "cell_type": "code",
   "execution_count": 1,
   "id": "8c1b5e93",
   "metadata": {},
   "outputs": [
    {
     "name": "stdout",
     "output_type": "stream",
     "text": [
      "/nas-ctm01/homes/mjvieira/classify-protect-illegal-porn-xai\n"
     ]
    }
   ],
   "source": [
    "import os\n",
    "\n",
    "os.chdir(os.path.abspath(os.path.join(os.getcwd(), \"../..\")))\n",
    "print(os.getcwd())\n",
    "\n",
    "import pandas as pd"
   ]
  },
  {
   "cell_type": "markdown",
   "id": "8a2d95c0",
   "metadata": {},
   "source": [
    "## Frame extraction"
   ]
  },
  {
   "cell_type": "markdown",
   "id": "b1408635",
   "metadata": {},
   "source": [
    "### Pornography-800"
   ]
  },
  {
   "cell_type": "code",
   "execution_count": 3,
   "id": "f641c35d",
   "metadata": {},
   "outputs": [],
   "source": [
    "paths = [\n",
    "    \"/nas-ctm01/datasets/public/BIOMETRICS/pornography-database/data/Database/vNonPornEasy\",\n",
    "    \"/nas-ctm01/datasets/public/BIOMETRICS/pornography-database/data/Database/vNonPornDifficulty\",\n",
    "    \"/nas-ctm01/datasets/public/BIOMETRICS/pornography-database/data/Database/vPorn\",\n",
    "]"
   ]
  },
  {
   "cell_type": "markdown",
   "id": "d5fc710e",
   "metadata": {},
   "source": [
    "#### even-20"
   ]
  },
  {
   "cell_type": "code",
   "execution_count": 31,
   "id": "98817283-da9c-4d88-948f-496e251045ee",
   "metadata": {},
   "outputs": [
    {
     "data": {
      "text/plain": [
       "True"
      ]
     },
     "execution_count": 31,
     "metadata": {},
     "output_type": "execute_result"
    }
   ],
   "source": [
    "# check if data file is available\n",
    "data_loc_800_even_20 = \"/nas-ctm01/datasets/public/BIOMETRICS/pornography-database/data-processed/even-20\"\n",
    "os.path.isfile(f\"{data_loc_800_even_20}/data.csv\")"
   ]
  },
  {
   "cell_type": "code",
   "execution_count": 32,
   "id": "660d5d64-7df5-47f5-8083-5cc4dd0b3cc5",
   "metadata": {},
   "outputs": [
    {
     "data": {
      "text/html": [
       "<div>\n",
       "<style scoped>\n",
       "    .dataframe tbody tr th:only-of-type {\n",
       "        vertical-align: middle;\n",
       "    }\n",
       "\n",
       "    .dataframe tbody tr th {\n",
       "        vertical-align: top;\n",
       "    }\n",
       "\n",
       "    .dataframe thead th {\n",
       "        text-align: right;\n",
       "    }\n",
       "</style>\n",
       "<table border=\"1\" class=\"dataframe\">\n",
       "  <thead>\n",
       "    <tr style=\"text-align: right;\">\n",
       "      <th></th>\n",
       "      <th>frame</th>\n",
       "      <th>label</th>\n",
       "      <th>video</th>\n",
       "    </tr>\n",
       "  </thead>\n",
       "  <tbody>\n",
       "    <tr>\n",
       "      <th>0</th>\n",
       "      <td>vNonPorn152#0.jpg</td>\n",
       "      <td>0</td>\n",
       "      <td>vNonPorn152</td>\n",
       "    </tr>\n",
       "    <tr>\n",
       "      <th>1</th>\n",
       "      <td>vNonPorn152#1.jpg</td>\n",
       "      <td>0</td>\n",
       "      <td>vNonPorn152</td>\n",
       "    </tr>\n",
       "    <tr>\n",
       "      <th>2</th>\n",
       "      <td>vNonPorn152#2.jpg</td>\n",
       "      <td>0</td>\n",
       "      <td>vNonPorn152</td>\n",
       "    </tr>\n",
       "    <tr>\n",
       "      <th>3</th>\n",
       "      <td>vNonPorn152#3.jpg</td>\n",
       "      <td>0</td>\n",
       "      <td>vNonPorn152</td>\n",
       "    </tr>\n",
       "    <tr>\n",
       "      <th>4</th>\n",
       "      <td>vNonPorn152#4.jpg</td>\n",
       "      <td>0</td>\n",
       "      <td>vNonPorn152</td>\n",
       "    </tr>\n",
       "    <tr>\n",
       "      <th>...</th>\n",
       "      <td>...</td>\n",
       "      <td>...</td>\n",
       "      <td>...</td>\n",
       "    </tr>\n",
       "    <tr>\n",
       "      <th>15955</th>\n",
       "      <td>vPorn346#15.jpg</td>\n",
       "      <td>1</td>\n",
       "      <td>vPorn346</td>\n",
       "    </tr>\n",
       "    <tr>\n",
       "      <th>15956</th>\n",
       "      <td>vPorn346#16.jpg</td>\n",
       "      <td>1</td>\n",
       "      <td>vPorn346</td>\n",
       "    </tr>\n",
       "    <tr>\n",
       "      <th>15957</th>\n",
       "      <td>vPorn346#17.jpg</td>\n",
       "      <td>1</td>\n",
       "      <td>vPorn346</td>\n",
       "    </tr>\n",
       "    <tr>\n",
       "      <th>15958</th>\n",
       "      <td>vPorn346#18.jpg</td>\n",
       "      <td>1</td>\n",
       "      <td>vPorn346</td>\n",
       "    </tr>\n",
       "    <tr>\n",
       "      <th>15959</th>\n",
       "      <td>vPorn346#19.jpg</td>\n",
       "      <td>1</td>\n",
       "      <td>vPorn346</td>\n",
       "    </tr>\n",
       "  </tbody>\n",
       "</table>\n",
       "<p>15960 rows × 3 columns</p>\n",
       "</div>"
      ],
      "text/plain": [
       "                   frame  label        video\n",
       "0      vNonPorn152#0.jpg      0  vNonPorn152\n",
       "1      vNonPorn152#1.jpg      0  vNonPorn152\n",
       "2      vNonPorn152#2.jpg      0  vNonPorn152\n",
       "3      vNonPorn152#3.jpg      0  vNonPorn152\n",
       "4      vNonPorn152#4.jpg      0  vNonPorn152\n",
       "...                  ...    ...          ...\n",
       "15955    vPorn346#15.jpg      1     vPorn346\n",
       "15956    vPorn346#16.jpg      1     vPorn346\n",
       "15957    vPorn346#17.jpg      1     vPorn346\n",
       "15958    vPorn346#18.jpg      1     vPorn346\n",
       "15959    vPorn346#19.jpg      1     vPorn346\n",
       "\n",
       "[15960 rows x 3 columns]"
      ]
     },
     "execution_count": 32,
     "metadata": {},
     "output_type": "execute_result"
    }
   ],
   "source": [
    "df_800_even_20 = pd.read_csv(f\"{data_loc_800_even_20}/data.csv\")\n",
    "df_800_even_20[\"video\"] = [frame_name.split(\"#\")[0] for frame_name in df_800_even_20[\"frame\"]]\n",
    "df_800_even_20"
   ]
  },
  {
   "cell_type": "code",
   "execution_count": 33,
   "id": "143c5924",
   "metadata": {},
   "outputs": [
    {
     "data": {
      "text/html": [
       "<div>\n",
       "<style scoped>\n",
       "    .dataframe tbody tr th:only-of-type {\n",
       "        vertical-align: middle;\n",
       "    }\n",
       "\n",
       "    .dataframe tbody tr th {\n",
       "        vertical-align: top;\n",
       "    }\n",
       "\n",
       "    .dataframe thead th {\n",
       "        text-align: right;\n",
       "    }\n",
       "</style>\n",
       "<table border=\"1\" class=\"dataframe\">\n",
       "  <thead>\n",
       "    <tr style=\"text-align: right;\">\n",
       "      <th></th>\n",
       "      <th>video</th>\n",
       "      <th>label</th>\n",
       "      <th>frame_count</th>\n",
       "    </tr>\n",
       "  </thead>\n",
       "  <tbody>\n",
       "    <tr>\n",
       "      <th>0</th>\n",
       "      <td>vNonPorn1</td>\n",
       "      <td>0</td>\n",
       "      <td>20</td>\n",
       "    </tr>\n",
       "    <tr>\n",
       "      <th>1</th>\n",
       "      <td>vNonPorn10</td>\n",
       "      <td>0</td>\n",
       "      <td>20</td>\n",
       "    </tr>\n",
       "    <tr>\n",
       "      <th>2</th>\n",
       "      <td>vNonPorn100</td>\n",
       "      <td>0</td>\n",
       "      <td>20</td>\n",
       "    </tr>\n",
       "    <tr>\n",
       "      <th>3</th>\n",
       "      <td>vNonPorn1006</td>\n",
       "      <td>0</td>\n",
       "      <td>20</td>\n",
       "    </tr>\n",
       "    <tr>\n",
       "      <th>4</th>\n",
       "      <td>vNonPorn1007</td>\n",
       "      <td>0</td>\n",
       "      <td>20</td>\n",
       "    </tr>\n",
       "    <tr>\n",
       "      <th>...</th>\n",
       "      <td>...</td>\n",
       "      <td>...</td>\n",
       "      <td>...</td>\n",
       "    </tr>\n",
       "    <tr>\n",
       "      <th>793</th>\n",
       "      <td>vPorn94</td>\n",
       "      <td>1</td>\n",
       "      <td>20</td>\n",
       "    </tr>\n",
       "    <tr>\n",
       "      <th>794</th>\n",
       "      <td>vPorn95</td>\n",
       "      <td>1</td>\n",
       "      <td>20</td>\n",
       "    </tr>\n",
       "    <tr>\n",
       "      <th>795</th>\n",
       "      <td>vPorn96</td>\n",
       "      <td>1</td>\n",
       "      <td>20</td>\n",
       "    </tr>\n",
       "    <tr>\n",
       "      <th>796</th>\n",
       "      <td>vPorn97</td>\n",
       "      <td>1</td>\n",
       "      <td>20</td>\n",
       "    </tr>\n",
       "    <tr>\n",
       "      <th>797</th>\n",
       "      <td>vPorn98</td>\n",
       "      <td>1</td>\n",
       "      <td>20</td>\n",
       "    </tr>\n",
       "  </tbody>\n",
       "</table>\n",
       "<p>798 rows × 3 columns</p>\n",
       "</div>"
      ],
      "text/plain": [
       "            video  label  frame_count\n",
       "0       vNonPorn1      0           20\n",
       "1      vNonPorn10      0           20\n",
       "2     vNonPorn100      0           20\n",
       "3    vNonPorn1006      0           20\n",
       "4    vNonPorn1007      0           20\n",
       "..            ...    ...          ...\n",
       "793       vPorn94      1           20\n",
       "794       vPorn95      1           20\n",
       "795       vPorn96      1           20\n",
       "796       vPorn97      1           20\n",
       "797       vPorn98      1           20\n",
       "\n",
       "[798 rows x 3 columns]"
      ]
     },
     "execution_count": 33,
     "metadata": {},
     "output_type": "execute_result"
    }
   ],
   "source": [
    "agg = {\"video\": \"first\", \"label\": \"first\", \"frame\": \"size\"}\n",
    "df_800_even_20_videos = df_800_even_20[[\"video\", \"frame\", \"label\"]]\n",
    "df_800_even_20_videos = df_800_even_20_videos.groupby(\"video\").aggregate(agg).reset_index(drop=True)\n",
    "df_800_even_20_videos = df_800_even_20_videos.rename(columns={\"frame\": \"frame_count\"})\n",
    "df_800_even_20_videos"
   ]
  },
  {
   "cell_type": "code",
   "execution_count": 34,
   "id": "0e717a3f",
   "metadata": {},
   "outputs": [
    {
     "name": "stdout",
     "output_type": "stream",
     "text": [
      "videos in /nas-ctm01/datasets/public/BIOMETRICS/pornography-database/data/Database/vNonPornEasy: 200\n",
      "videos in /nas-ctm01/datasets/public/BIOMETRICS/pornography-database/data/Database/vNonPornDifficulty: 198\n",
      "videos in /nas-ctm01/datasets/public/BIOMETRICS/pornography-database/data/Database/vPorn: 400\n"
     ]
    }
   ],
   "source": [
    "for path in paths:\n",
    "    videos_in_path = 0\n",
    "    for v in os.listdir(path):\n",
    "        if v.startswith(\".\"):\n",
    "            continue\n",
    "        \n",
    "        videos_in_path += 1\n",
    "        v_name = os.path.splitext(v)[0]\n",
    "        \n",
    "        if len(df_800_even_20_videos[df_800_even_20_videos[\"video\"] == v_name]) == 0:\n",
    "            print(f\"{v_name} not in dataset (it belongs to {path})\")\n",
    "        else:\n",
    "            df_800_even_20_videos.loc[df_800_even_20_videos[\"video\"] == v_name, \"folder\"] = os.path.basename(path)\n",
    "    \n",
    "    print(f\"videos in {path}: {videos_in_path}\")"
   ]
  },
  {
   "cell_type": "code",
   "execution_count": 35,
   "id": "272bd1a6",
   "metadata": {},
   "outputs": [
    {
     "data": {
      "text/html": [
       "<div>\n",
       "<style scoped>\n",
       "    .dataframe tbody tr th:only-of-type {\n",
       "        vertical-align: middle;\n",
       "    }\n",
       "\n",
       "    .dataframe tbody tr th {\n",
       "        vertical-align: top;\n",
       "    }\n",
       "\n",
       "    .dataframe thead th {\n",
       "        text-align: right;\n",
       "    }\n",
       "</style>\n",
       "<table border=\"1\" class=\"dataframe\">\n",
       "  <thead>\n",
       "    <tr style=\"text-align: right;\">\n",
       "      <th></th>\n",
       "      <th>video</th>\n",
       "      <th>label</th>\n",
       "      <th>frame_count</th>\n",
       "      <th>folder</th>\n",
       "    </tr>\n",
       "  </thead>\n",
       "  <tbody>\n",
       "    <tr>\n",
       "      <th>0</th>\n",
       "      <td>vNonPorn1</td>\n",
       "      <td>0</td>\n",
       "      <td>20</td>\n",
       "      <td>vNonPornEasy</td>\n",
       "    </tr>\n",
       "    <tr>\n",
       "      <th>1</th>\n",
       "      <td>vNonPorn10</td>\n",
       "      <td>0</td>\n",
       "      <td>20</td>\n",
       "      <td>vNonPornDifficulty</td>\n",
       "    </tr>\n",
       "    <tr>\n",
       "      <th>2</th>\n",
       "      <td>vNonPorn100</td>\n",
       "      <td>0</td>\n",
       "      <td>20</td>\n",
       "      <td>vNonPornEasy</td>\n",
       "    </tr>\n",
       "    <tr>\n",
       "      <th>3</th>\n",
       "      <td>vNonPorn1006</td>\n",
       "      <td>0</td>\n",
       "      <td>20</td>\n",
       "      <td>vNonPornDifficulty</td>\n",
       "    </tr>\n",
       "    <tr>\n",
       "      <th>4</th>\n",
       "      <td>vNonPorn1007</td>\n",
       "      <td>0</td>\n",
       "      <td>20</td>\n",
       "      <td>vNonPornDifficulty</td>\n",
       "    </tr>\n",
       "    <tr>\n",
       "      <th>...</th>\n",
       "      <td>...</td>\n",
       "      <td>...</td>\n",
       "      <td>...</td>\n",
       "      <td>...</td>\n",
       "    </tr>\n",
       "    <tr>\n",
       "      <th>793</th>\n",
       "      <td>vPorn94</td>\n",
       "      <td>1</td>\n",
       "      <td>20</td>\n",
       "      <td>vPorn</td>\n",
       "    </tr>\n",
       "    <tr>\n",
       "      <th>794</th>\n",
       "      <td>vPorn95</td>\n",
       "      <td>1</td>\n",
       "      <td>20</td>\n",
       "      <td>vPorn</td>\n",
       "    </tr>\n",
       "    <tr>\n",
       "      <th>795</th>\n",
       "      <td>vPorn96</td>\n",
       "      <td>1</td>\n",
       "      <td>20</td>\n",
       "      <td>vPorn</td>\n",
       "    </tr>\n",
       "    <tr>\n",
       "      <th>796</th>\n",
       "      <td>vPorn97</td>\n",
       "      <td>1</td>\n",
       "      <td>20</td>\n",
       "      <td>vPorn</td>\n",
       "    </tr>\n",
       "    <tr>\n",
       "      <th>797</th>\n",
       "      <td>vPorn98</td>\n",
       "      <td>1</td>\n",
       "      <td>20</td>\n",
       "      <td>vPorn</td>\n",
       "    </tr>\n",
       "  </tbody>\n",
       "</table>\n",
       "<p>798 rows × 4 columns</p>\n",
       "</div>"
      ],
      "text/plain": [
       "            video  label  frame_count              folder\n",
       "0       vNonPorn1      0           20        vNonPornEasy\n",
       "1      vNonPorn10      0           20  vNonPornDifficulty\n",
       "2     vNonPorn100      0           20        vNonPornEasy\n",
       "3    vNonPorn1006      0           20  vNonPornDifficulty\n",
       "4    vNonPorn1007      0           20  vNonPornDifficulty\n",
       "..            ...    ...          ...                 ...\n",
       "793       vPorn94      1           20               vPorn\n",
       "794       vPorn95      1           20               vPorn\n",
       "795       vPorn96      1           20               vPorn\n",
       "796       vPorn97      1           20               vPorn\n",
       "797       vPorn98      1           20               vPorn\n",
       "\n",
       "[798 rows x 4 columns]"
      ]
     },
     "execution_count": 35,
     "metadata": {},
     "output_type": "execute_result"
    }
   ],
   "source": [
    "df_800_even_20_videos"
   ]
  },
  {
   "cell_type": "code",
   "execution_count": 36,
   "id": "5acf01f6",
   "metadata": {},
   "outputs": [
    {
     "data": {
      "text/html": [
       "<div>\n",
       "<style scoped>\n",
       "    .dataframe tbody tr th:only-of-type {\n",
       "        vertical-align: middle;\n",
       "    }\n",
       "\n",
       "    .dataframe tbody tr th {\n",
       "        vertical-align: top;\n",
       "    }\n",
       "\n",
       "    .dataframe thead th {\n",
       "        text-align: right;\n",
       "    }\n",
       "</style>\n",
       "<table border=\"1\" class=\"dataframe\">\n",
       "  <thead>\n",
       "    <tr style=\"text-align: right;\">\n",
       "      <th></th>\n",
       "      <th>video</th>\n",
       "      <th>label</th>\n",
       "      <th>frame_count</th>\n",
       "      <th>folder</th>\n",
       "    </tr>\n",
       "  </thead>\n",
       "  <tbody>\n",
       "  </tbody>\n",
       "</table>\n",
       "</div>"
      ],
      "text/plain": [
       "Empty DataFrame\n",
       "Columns: [video, label, frame_count, folder]\n",
       "Index: []"
      ]
     },
     "execution_count": 36,
     "metadata": {},
     "output_type": "execute_result"
    }
   ],
   "source": [
    "# videos from which it was not possible to extract 20 frames\n",
    "df_800_even_20_videos[df_800_even_20_videos[\"frame_count\"] < 20]"
   ]
  },
  {
   "cell_type": "code",
   "execution_count": 37,
   "id": "148e595f-1b06-41e5-84da-e679214741de",
   "metadata": {},
   "outputs": [
    {
     "name": "stdout",
     "output_type": "stream",
     "text": [
      "number of videos: 798\n",
      "number of non-porn frames: 7960\n",
      "number of porn frames: 8000\n"
     ]
    }
   ],
   "source": [
    "# NOTE: I accidentally removed one video from its original location\n",
    "\n",
    "print(\"number of videos:\", len(df_800_even_20_videos))\n",
    "print(\"number of non-porn frames:\", len(df_800_even_20[df_800_even_20[\"label\"] == 0]))\n",
    "print(\"number of porn frames:\", len(df_800_even_20[df_800_even_20[\"label\"] == 1]))"
   ]
  },
  {
   "cell_type": "markdown",
   "id": "d898e00d",
   "metadata": {},
   "source": [
    "#### middle-20"
   ]
  },
  {
   "cell_type": "code",
   "execution_count": 23,
   "id": "90e176a2",
   "metadata": {},
   "outputs": [
    {
     "data": {
      "text/plain": [
       "True"
      ]
     },
     "execution_count": 23,
     "metadata": {},
     "output_type": "execute_result"
    }
   ],
   "source": [
    "# check if data file is available\n",
    "data_loc_800_middle_20 = \"/nas-ctm01/datasets/public/BIOMETRICS/pornography-database/data-processed/middle-20\"\n",
    "os.path.isfile(f\"{data_loc_800_middle_20}/data.csv\")"
   ]
  },
  {
   "cell_type": "code",
   "execution_count": 24,
   "id": "b2a943f8",
   "metadata": {},
   "outputs": [
    {
     "data": {
      "text/html": [
       "<div>\n",
       "<style scoped>\n",
       "    .dataframe tbody tr th:only-of-type {\n",
       "        vertical-align: middle;\n",
       "    }\n",
       "\n",
       "    .dataframe tbody tr th {\n",
       "        vertical-align: top;\n",
       "    }\n",
       "\n",
       "    .dataframe thead th {\n",
       "        text-align: right;\n",
       "    }\n",
       "</style>\n",
       "<table border=\"1\" class=\"dataframe\">\n",
       "  <thead>\n",
       "    <tr style=\"text-align: right;\">\n",
       "      <th></th>\n",
       "      <th>frame</th>\n",
       "      <th>label</th>\n",
       "      <th>video</th>\n",
       "    </tr>\n",
       "  </thead>\n",
       "  <tbody>\n",
       "    <tr>\n",
       "      <th>0</th>\n",
       "      <td>vNonPorn152#0.jpg</td>\n",
       "      <td>0</td>\n",
       "      <td>vNonPorn152</td>\n",
       "    </tr>\n",
       "    <tr>\n",
       "      <th>1</th>\n",
       "      <td>vNonPorn152#1.jpg</td>\n",
       "      <td>0</td>\n",
       "      <td>vNonPorn152</td>\n",
       "    </tr>\n",
       "    <tr>\n",
       "      <th>2</th>\n",
       "      <td>vNonPorn152#2.jpg</td>\n",
       "      <td>0</td>\n",
       "      <td>vNonPorn152</td>\n",
       "    </tr>\n",
       "    <tr>\n",
       "      <th>3</th>\n",
       "      <td>vNonPorn152#3.jpg</td>\n",
       "      <td>0</td>\n",
       "      <td>vNonPorn152</td>\n",
       "    </tr>\n",
       "    <tr>\n",
       "      <th>4</th>\n",
       "      <td>vNonPorn152#4.jpg</td>\n",
       "      <td>0</td>\n",
       "      <td>vNonPorn152</td>\n",
       "    </tr>\n",
       "    <tr>\n",
       "      <th>...</th>\n",
       "      <td>...</td>\n",
       "      <td>...</td>\n",
       "      <td>...</td>\n",
       "    </tr>\n",
       "    <tr>\n",
       "      <th>15955</th>\n",
       "      <td>vPorn346#15.jpg</td>\n",
       "      <td>1</td>\n",
       "      <td>vPorn346</td>\n",
       "    </tr>\n",
       "    <tr>\n",
       "      <th>15956</th>\n",
       "      <td>vPorn346#16.jpg</td>\n",
       "      <td>1</td>\n",
       "      <td>vPorn346</td>\n",
       "    </tr>\n",
       "    <tr>\n",
       "      <th>15957</th>\n",
       "      <td>vPorn346#17.jpg</td>\n",
       "      <td>1</td>\n",
       "      <td>vPorn346</td>\n",
       "    </tr>\n",
       "    <tr>\n",
       "      <th>15958</th>\n",
       "      <td>vPorn346#18.jpg</td>\n",
       "      <td>1</td>\n",
       "      <td>vPorn346</td>\n",
       "    </tr>\n",
       "    <tr>\n",
       "      <th>15959</th>\n",
       "      <td>vPorn346#19.jpg</td>\n",
       "      <td>1</td>\n",
       "      <td>vPorn346</td>\n",
       "    </tr>\n",
       "  </tbody>\n",
       "</table>\n",
       "<p>15960 rows × 3 columns</p>\n",
       "</div>"
      ],
      "text/plain": [
       "                   frame  label        video\n",
       "0      vNonPorn152#0.jpg      0  vNonPorn152\n",
       "1      vNonPorn152#1.jpg      0  vNonPorn152\n",
       "2      vNonPorn152#2.jpg      0  vNonPorn152\n",
       "3      vNonPorn152#3.jpg      0  vNonPorn152\n",
       "4      vNonPorn152#4.jpg      0  vNonPorn152\n",
       "...                  ...    ...          ...\n",
       "15955    vPorn346#15.jpg      1     vPorn346\n",
       "15956    vPorn346#16.jpg      1     vPorn346\n",
       "15957    vPorn346#17.jpg      1     vPorn346\n",
       "15958    vPorn346#18.jpg      1     vPorn346\n",
       "15959    vPorn346#19.jpg      1     vPorn346\n",
       "\n",
       "[15960 rows x 3 columns]"
      ]
     },
     "execution_count": 24,
     "metadata": {},
     "output_type": "execute_result"
    }
   ],
   "source": [
    "df_800_middle_20 = pd.read_csv(f\"{data_loc_800_middle_20}/data.csv\")\n",
    "df_800_middle_20[\"video\"] = [frame_name.split(\"#\")[0] for frame_name in df_800_middle_20[\"frame\"]]\n",
    "df_800_middle_20"
   ]
  },
  {
   "cell_type": "code",
   "execution_count": 25,
   "id": "2b3ac32e",
   "metadata": {},
   "outputs": [
    {
     "data": {
      "text/html": [
       "<div>\n",
       "<style scoped>\n",
       "    .dataframe tbody tr th:only-of-type {\n",
       "        vertical-align: middle;\n",
       "    }\n",
       "\n",
       "    .dataframe tbody tr th {\n",
       "        vertical-align: top;\n",
       "    }\n",
       "\n",
       "    .dataframe thead th {\n",
       "        text-align: right;\n",
       "    }\n",
       "</style>\n",
       "<table border=\"1\" class=\"dataframe\">\n",
       "  <thead>\n",
       "    <tr style=\"text-align: right;\">\n",
       "      <th></th>\n",
       "      <th>video</th>\n",
       "      <th>label</th>\n",
       "      <th>frame_count</th>\n",
       "    </tr>\n",
       "  </thead>\n",
       "  <tbody>\n",
       "    <tr>\n",
       "      <th>0</th>\n",
       "      <td>vNonPorn1</td>\n",
       "      <td>0</td>\n",
       "      <td>20</td>\n",
       "    </tr>\n",
       "    <tr>\n",
       "      <th>1</th>\n",
       "      <td>vNonPorn10</td>\n",
       "      <td>0</td>\n",
       "      <td>20</td>\n",
       "    </tr>\n",
       "    <tr>\n",
       "      <th>2</th>\n",
       "      <td>vNonPorn100</td>\n",
       "      <td>0</td>\n",
       "      <td>20</td>\n",
       "    </tr>\n",
       "    <tr>\n",
       "      <th>3</th>\n",
       "      <td>vNonPorn1006</td>\n",
       "      <td>0</td>\n",
       "      <td>20</td>\n",
       "    </tr>\n",
       "    <tr>\n",
       "      <th>4</th>\n",
       "      <td>vNonPorn1007</td>\n",
       "      <td>0</td>\n",
       "      <td>20</td>\n",
       "    </tr>\n",
       "    <tr>\n",
       "      <th>...</th>\n",
       "      <td>...</td>\n",
       "      <td>...</td>\n",
       "      <td>...</td>\n",
       "    </tr>\n",
       "    <tr>\n",
       "      <th>793</th>\n",
       "      <td>vPorn94</td>\n",
       "      <td>1</td>\n",
       "      <td>20</td>\n",
       "    </tr>\n",
       "    <tr>\n",
       "      <th>794</th>\n",
       "      <td>vPorn95</td>\n",
       "      <td>1</td>\n",
       "      <td>20</td>\n",
       "    </tr>\n",
       "    <tr>\n",
       "      <th>795</th>\n",
       "      <td>vPorn96</td>\n",
       "      <td>1</td>\n",
       "      <td>20</td>\n",
       "    </tr>\n",
       "    <tr>\n",
       "      <th>796</th>\n",
       "      <td>vPorn97</td>\n",
       "      <td>1</td>\n",
       "      <td>20</td>\n",
       "    </tr>\n",
       "    <tr>\n",
       "      <th>797</th>\n",
       "      <td>vPorn98</td>\n",
       "      <td>1</td>\n",
       "      <td>20</td>\n",
       "    </tr>\n",
       "  </tbody>\n",
       "</table>\n",
       "<p>798 rows × 3 columns</p>\n",
       "</div>"
      ],
      "text/plain": [
       "            video  label  frame_count\n",
       "0       vNonPorn1      0           20\n",
       "1      vNonPorn10      0           20\n",
       "2     vNonPorn100      0           20\n",
       "3    vNonPorn1006      0           20\n",
       "4    vNonPorn1007      0           20\n",
       "..            ...    ...          ...\n",
       "793       vPorn94      1           20\n",
       "794       vPorn95      1           20\n",
       "795       vPorn96      1           20\n",
       "796       vPorn97      1           20\n",
       "797       vPorn98      1           20\n",
       "\n",
       "[798 rows x 3 columns]"
      ]
     },
     "execution_count": 25,
     "metadata": {},
     "output_type": "execute_result"
    }
   ],
   "source": [
    "agg = {\"video\": \"first\", \"label\": \"first\", \"frame\": \"size\"}\n",
    "df_800_middle_20_videos = df_800_middle_20[[\"video\", \"frame\", \"label\"]]\n",
    "df_800_middle_20_videos = df_800_middle_20_videos.groupby(\"video\").aggregate(agg).reset_index(drop=True)\n",
    "df_800_middle_20_videos = df_800_middle_20_videos.rename(columns={\"frame\": \"frame_count\"})\n",
    "df_800_middle_20_videos"
   ]
  },
  {
   "cell_type": "code",
   "execution_count": 26,
   "id": "0db5a0fa",
   "metadata": {},
   "outputs": [
    {
     "name": "stdout",
     "output_type": "stream",
     "text": [
      "videos in /nas-ctm01/datasets/public/BIOMETRICS/pornography-database/data/Database/vNonPornEasy: 200\n",
      "videos in /nas-ctm01/datasets/public/BIOMETRICS/pornography-database/data/Database/vNonPornDifficulty: 198\n",
      "videos in /nas-ctm01/datasets/public/BIOMETRICS/pornography-database/data/Database/vPorn: 400\n"
     ]
    }
   ],
   "source": [
    "for path in paths:\n",
    "    videos_in_path = 0\n",
    "    for v in os.listdir(path):\n",
    "        if v.startswith(\".\"):\n",
    "            continue\n",
    "        \n",
    "        videos_in_path += 1\n",
    "        v_name = os.path.splitext(v)[0]\n",
    "        \n",
    "        if len(df_800_middle_20_videos[df_800_middle_20_videos[\"video\"] == v_name]) == 0:\n",
    "            print(f\"{v_name} not in dataset (it belongs to {path})\")\n",
    "        else:\n",
    "            df_800_middle_20_videos.loc[df_800_middle_20_videos[\"video\"] == v_name, \"folder\"] = os.path.basename(path)\n",
    "    \n",
    "    print(f\"videos in {path}: {videos_in_path}\")"
   ]
  },
  {
   "cell_type": "code",
   "execution_count": 27,
   "id": "6b9914ad",
   "metadata": {},
   "outputs": [
    {
     "data": {
      "text/html": [
       "<div>\n",
       "<style scoped>\n",
       "    .dataframe tbody tr th:only-of-type {\n",
       "        vertical-align: middle;\n",
       "    }\n",
       "\n",
       "    .dataframe tbody tr th {\n",
       "        vertical-align: top;\n",
       "    }\n",
       "\n",
       "    .dataframe thead th {\n",
       "        text-align: right;\n",
       "    }\n",
       "</style>\n",
       "<table border=\"1\" class=\"dataframe\">\n",
       "  <thead>\n",
       "    <tr style=\"text-align: right;\">\n",
       "      <th></th>\n",
       "      <th>video</th>\n",
       "      <th>label</th>\n",
       "      <th>frame_count</th>\n",
       "      <th>folder</th>\n",
       "    </tr>\n",
       "  </thead>\n",
       "  <tbody>\n",
       "    <tr>\n",
       "      <th>0</th>\n",
       "      <td>vNonPorn1</td>\n",
       "      <td>0</td>\n",
       "      <td>20</td>\n",
       "      <td>vNonPornEasy</td>\n",
       "    </tr>\n",
       "    <tr>\n",
       "      <th>1</th>\n",
       "      <td>vNonPorn10</td>\n",
       "      <td>0</td>\n",
       "      <td>20</td>\n",
       "      <td>vNonPornDifficulty</td>\n",
       "    </tr>\n",
       "    <tr>\n",
       "      <th>2</th>\n",
       "      <td>vNonPorn100</td>\n",
       "      <td>0</td>\n",
       "      <td>20</td>\n",
       "      <td>vNonPornEasy</td>\n",
       "    </tr>\n",
       "    <tr>\n",
       "      <th>3</th>\n",
       "      <td>vNonPorn1006</td>\n",
       "      <td>0</td>\n",
       "      <td>20</td>\n",
       "      <td>vNonPornDifficulty</td>\n",
       "    </tr>\n",
       "    <tr>\n",
       "      <th>4</th>\n",
       "      <td>vNonPorn1007</td>\n",
       "      <td>0</td>\n",
       "      <td>20</td>\n",
       "      <td>vNonPornDifficulty</td>\n",
       "    </tr>\n",
       "    <tr>\n",
       "      <th>...</th>\n",
       "      <td>...</td>\n",
       "      <td>...</td>\n",
       "      <td>...</td>\n",
       "      <td>...</td>\n",
       "    </tr>\n",
       "    <tr>\n",
       "      <th>793</th>\n",
       "      <td>vPorn94</td>\n",
       "      <td>1</td>\n",
       "      <td>20</td>\n",
       "      <td>vPorn</td>\n",
       "    </tr>\n",
       "    <tr>\n",
       "      <th>794</th>\n",
       "      <td>vPorn95</td>\n",
       "      <td>1</td>\n",
       "      <td>20</td>\n",
       "      <td>vPorn</td>\n",
       "    </tr>\n",
       "    <tr>\n",
       "      <th>795</th>\n",
       "      <td>vPorn96</td>\n",
       "      <td>1</td>\n",
       "      <td>20</td>\n",
       "      <td>vPorn</td>\n",
       "    </tr>\n",
       "    <tr>\n",
       "      <th>796</th>\n",
       "      <td>vPorn97</td>\n",
       "      <td>1</td>\n",
       "      <td>20</td>\n",
       "      <td>vPorn</td>\n",
       "    </tr>\n",
       "    <tr>\n",
       "      <th>797</th>\n",
       "      <td>vPorn98</td>\n",
       "      <td>1</td>\n",
       "      <td>20</td>\n",
       "      <td>vPorn</td>\n",
       "    </tr>\n",
       "  </tbody>\n",
       "</table>\n",
       "<p>798 rows × 4 columns</p>\n",
       "</div>"
      ],
      "text/plain": [
       "            video  label  frame_count              folder\n",
       "0       vNonPorn1      0           20        vNonPornEasy\n",
       "1      vNonPorn10      0           20  vNonPornDifficulty\n",
       "2     vNonPorn100      0           20        vNonPornEasy\n",
       "3    vNonPorn1006      0           20  vNonPornDifficulty\n",
       "4    vNonPorn1007      0           20  vNonPornDifficulty\n",
       "..            ...    ...          ...                 ...\n",
       "793       vPorn94      1           20               vPorn\n",
       "794       vPorn95      1           20               vPorn\n",
       "795       vPorn96      1           20               vPorn\n",
       "796       vPorn97      1           20               vPorn\n",
       "797       vPorn98      1           20               vPorn\n",
       "\n",
       "[798 rows x 4 columns]"
      ]
     },
     "execution_count": 27,
     "metadata": {},
     "output_type": "execute_result"
    }
   ],
   "source": [
    "df_800_middle_20_videos"
   ]
  },
  {
   "cell_type": "code",
   "execution_count": 28,
   "id": "4ae2b8b4",
   "metadata": {},
   "outputs": [
    {
     "data": {
      "text/html": [
       "<div>\n",
       "<style scoped>\n",
       "    .dataframe tbody tr th:only-of-type {\n",
       "        vertical-align: middle;\n",
       "    }\n",
       "\n",
       "    .dataframe tbody tr th {\n",
       "        vertical-align: top;\n",
       "    }\n",
       "\n",
       "    .dataframe thead th {\n",
       "        text-align: right;\n",
       "    }\n",
       "</style>\n",
       "<table border=\"1\" class=\"dataframe\">\n",
       "  <thead>\n",
       "    <tr style=\"text-align: right;\">\n",
       "      <th></th>\n",
       "      <th>video</th>\n",
       "      <th>label</th>\n",
       "      <th>frame_count</th>\n",
       "      <th>folder</th>\n",
       "    </tr>\n",
       "  </thead>\n",
       "  <tbody>\n",
       "  </tbody>\n",
       "</table>\n",
       "</div>"
      ],
      "text/plain": [
       "Empty DataFrame\n",
       "Columns: [video, label, frame_count, folder]\n",
       "Index: []"
      ]
     },
     "execution_count": 28,
     "metadata": {},
     "output_type": "execute_result"
    }
   ],
   "source": [
    "# videos from which it was not possible to extract 20 frames\n",
    "df_800_middle_20_videos[df_800_middle_20_videos[\"frame_count\"] < 20]"
   ]
  },
  {
   "cell_type": "code",
   "execution_count": 29,
   "id": "8f2a43a1",
   "metadata": {},
   "outputs": [
    {
     "name": "stdout",
     "output_type": "stream",
     "text": [
      "number of videos: 798\n",
      "number of non-porn frames: 7960\n",
      "number of porn frames: 8000\n"
     ]
    }
   ],
   "source": [
    "# NOTE: I accidentally removed one video from its original location\n",
    "\n",
    "print(\"number of videos:\", len(df_800_middle_20_videos))\n",
    "print(\"number of non-porn frames:\", len(df_800_middle_20[df_800_middle_20[\"label\"] == 0]))\n",
    "print(\"number of porn frames:\", len(df_800_middle_20[df_800_middle_20[\"label\"] == 1]))"
   ]
  },
  {
   "cell_type": "markdown",
   "id": "2c82a454",
   "metadata": {},
   "source": [
    "### Pornography-2k"
   ]
  },
  {
   "cell_type": "markdown",
   "id": "35af07b0",
   "metadata": {},
   "source": [
    "#### middle-20"
   ]
  },
  {
   "cell_type": "code",
   "execution_count": 44,
   "id": "6bba45e5",
   "metadata": {},
   "outputs": [
    {
     "data": {
      "text/plain": [
       "True"
      ]
     },
     "execution_count": 44,
     "metadata": {},
     "output_type": "execute_result"
    }
   ],
   "source": [
    "# check if data file is available\n",
    "data_loc_2k_middle_20 = \"/nas-ctm01/datasets/public/BIOMETRICS/pornography-2k-db/data-processed/middle-20\"\n",
    "os.path.isfile(f\"{data_loc_2k_middle_20}/data.csv\")"
   ]
  },
  {
   "cell_type": "code",
   "execution_count": 45,
   "id": "f266e61e",
   "metadata": {},
   "outputs": [
    {
     "data": {
      "text/html": [
       "<div>\n",
       "<style scoped>\n",
       "    .dataframe tbody tr th:only-of-type {\n",
       "        vertical-align: middle;\n",
       "    }\n",
       "\n",
       "    .dataframe tbody tr th {\n",
       "        vertical-align: top;\n",
       "    }\n",
       "\n",
       "    .dataframe thead th {\n",
       "        text-align: right;\n",
       "    }\n",
       "</style>\n",
       "<table border=\"1\" class=\"dataframe\">\n",
       "  <thead>\n",
       "    <tr style=\"text-align: right;\">\n",
       "      <th></th>\n",
       "      <th>frame</th>\n",
       "      <th>label</th>\n",
       "      <th>video</th>\n",
       "    </tr>\n",
       "  </thead>\n",
       "  <tbody>\n",
       "    <tr>\n",
       "      <th>0</th>\n",
       "      <td>vPorn000842#0.jpg</td>\n",
       "      <td>1</td>\n",
       "      <td>vPorn000842</td>\n",
       "    </tr>\n",
       "    <tr>\n",
       "      <th>1</th>\n",
       "      <td>vPorn000842#1.jpg</td>\n",
       "      <td>1</td>\n",
       "      <td>vPorn000842</td>\n",
       "    </tr>\n",
       "    <tr>\n",
       "      <th>2</th>\n",
       "      <td>vPorn000842#2.jpg</td>\n",
       "      <td>1</td>\n",
       "      <td>vPorn000842</td>\n",
       "    </tr>\n",
       "    <tr>\n",
       "      <th>3</th>\n",
       "      <td>vPorn000842#3.jpg</td>\n",
       "      <td>1</td>\n",
       "      <td>vPorn000842</td>\n",
       "    </tr>\n",
       "    <tr>\n",
       "      <th>4</th>\n",
       "      <td>vPorn000842#4.jpg</td>\n",
       "      <td>1</td>\n",
       "      <td>vPorn000842</td>\n",
       "    </tr>\n",
       "    <tr>\n",
       "      <th>...</th>\n",
       "      <td>...</td>\n",
       "      <td>...</td>\n",
       "      <td>...</td>\n",
       "    </tr>\n",
       "    <tr>\n",
       "      <th>39995</th>\n",
       "      <td>vPorn000431#15.jpg</td>\n",
       "      <td>1</td>\n",
       "      <td>vPorn000431</td>\n",
       "    </tr>\n",
       "    <tr>\n",
       "      <th>39996</th>\n",
       "      <td>vPorn000431#16.jpg</td>\n",
       "      <td>1</td>\n",
       "      <td>vPorn000431</td>\n",
       "    </tr>\n",
       "    <tr>\n",
       "      <th>39997</th>\n",
       "      <td>vPorn000431#17.jpg</td>\n",
       "      <td>1</td>\n",
       "      <td>vPorn000431</td>\n",
       "    </tr>\n",
       "    <tr>\n",
       "      <th>39998</th>\n",
       "      <td>vPorn000431#18.jpg</td>\n",
       "      <td>1</td>\n",
       "      <td>vPorn000431</td>\n",
       "    </tr>\n",
       "    <tr>\n",
       "      <th>39999</th>\n",
       "      <td>vPorn000431#19.jpg</td>\n",
       "      <td>1</td>\n",
       "      <td>vPorn000431</td>\n",
       "    </tr>\n",
       "  </tbody>\n",
       "</table>\n",
       "<p>40000 rows × 3 columns</p>\n",
       "</div>"
      ],
      "text/plain": [
       "                    frame  label        video\n",
       "0       vPorn000842#0.jpg      1  vPorn000842\n",
       "1       vPorn000842#1.jpg      1  vPorn000842\n",
       "2       vPorn000842#2.jpg      1  vPorn000842\n",
       "3       vPorn000842#3.jpg      1  vPorn000842\n",
       "4       vPorn000842#4.jpg      1  vPorn000842\n",
       "...                   ...    ...          ...\n",
       "39995  vPorn000431#15.jpg      1  vPorn000431\n",
       "39996  vPorn000431#16.jpg      1  vPorn000431\n",
       "39997  vPorn000431#17.jpg      1  vPorn000431\n",
       "39998  vPorn000431#18.jpg      1  vPorn000431\n",
       "39999  vPorn000431#19.jpg      1  vPorn000431\n",
       "\n",
       "[40000 rows x 3 columns]"
      ]
     },
     "execution_count": 45,
     "metadata": {},
     "output_type": "execute_result"
    }
   ],
   "source": [
    "df_2k_middle_20 = pd.read_csv(f\"{data_loc_2k_middle_20}/data.csv\")\n",
    "df_2k_middle_20[\"video\"] = [frame_name.split(\"#\")[0] for frame_name in df_2k_middle_20[\"frame\"]]\n",
    "df_2k_middle_20"
   ]
  },
  {
   "cell_type": "code",
   "execution_count": 46,
   "id": "ed6cb156",
   "metadata": {},
   "outputs": [
    {
     "data": {
      "text/html": [
       "<div>\n",
       "<style scoped>\n",
       "    .dataframe tbody tr th:only-of-type {\n",
       "        vertical-align: middle;\n",
       "    }\n",
       "\n",
       "    .dataframe tbody tr th {\n",
       "        vertical-align: top;\n",
       "    }\n",
       "\n",
       "    .dataframe thead th {\n",
       "        text-align: right;\n",
       "    }\n",
       "</style>\n",
       "<table border=\"1\" class=\"dataframe\">\n",
       "  <thead>\n",
       "    <tr style=\"text-align: right;\">\n",
       "      <th></th>\n",
       "      <th>video</th>\n",
       "      <th>label</th>\n",
       "      <th>frame_count</th>\n",
       "    </tr>\n",
       "  </thead>\n",
       "  <tbody>\n",
       "    <tr>\n",
       "      <th>0</th>\n",
       "      <td>vNonPorn000001</td>\n",
       "      <td>0</td>\n",
       "      <td>20</td>\n",
       "    </tr>\n",
       "    <tr>\n",
       "      <th>1</th>\n",
       "      <td>vNonPorn000002</td>\n",
       "      <td>0</td>\n",
       "      <td>20</td>\n",
       "    </tr>\n",
       "    <tr>\n",
       "      <th>2</th>\n",
       "      <td>vNonPorn000003</td>\n",
       "      <td>0</td>\n",
       "      <td>20</td>\n",
       "    </tr>\n",
       "    <tr>\n",
       "      <th>3</th>\n",
       "      <td>vNonPorn000004</td>\n",
       "      <td>0</td>\n",
       "      <td>20</td>\n",
       "    </tr>\n",
       "    <tr>\n",
       "      <th>4</th>\n",
       "      <td>vNonPorn000005</td>\n",
       "      <td>0</td>\n",
       "      <td>20</td>\n",
       "    </tr>\n",
       "    <tr>\n",
       "      <th>...</th>\n",
       "      <td>...</td>\n",
       "      <td>...</td>\n",
       "      <td>...</td>\n",
       "    </tr>\n",
       "    <tr>\n",
       "      <th>1995</th>\n",
       "      <td>vPorn000996</td>\n",
       "      <td>1</td>\n",
       "      <td>20</td>\n",
       "    </tr>\n",
       "    <tr>\n",
       "      <th>1996</th>\n",
       "      <td>vPorn000997</td>\n",
       "      <td>1</td>\n",
       "      <td>20</td>\n",
       "    </tr>\n",
       "    <tr>\n",
       "      <th>1997</th>\n",
       "      <td>vPorn000998</td>\n",
       "      <td>1</td>\n",
       "      <td>20</td>\n",
       "    </tr>\n",
       "    <tr>\n",
       "      <th>1998</th>\n",
       "      <td>vPorn000999</td>\n",
       "      <td>1</td>\n",
       "      <td>20</td>\n",
       "    </tr>\n",
       "    <tr>\n",
       "      <th>1999</th>\n",
       "      <td>vPorn001000</td>\n",
       "      <td>1</td>\n",
       "      <td>20</td>\n",
       "    </tr>\n",
       "  </tbody>\n",
       "</table>\n",
       "<p>2000 rows × 3 columns</p>\n",
       "</div>"
      ],
      "text/plain": [
       "               video  label  frame_count\n",
       "0     vNonPorn000001      0           20\n",
       "1     vNonPorn000002      0           20\n",
       "2     vNonPorn000003      0           20\n",
       "3     vNonPorn000004      0           20\n",
       "4     vNonPorn000005      0           20\n",
       "...              ...    ...          ...\n",
       "1995     vPorn000996      1           20\n",
       "1996     vPorn000997      1           20\n",
       "1997     vPorn000998      1           20\n",
       "1998     vPorn000999      1           20\n",
       "1999     vPorn001000      1           20\n",
       "\n",
       "[2000 rows x 3 columns]"
      ]
     },
     "execution_count": 46,
     "metadata": {},
     "output_type": "execute_result"
    }
   ],
   "source": [
    "agg = {\"video\": \"first\", \"label\": \"first\", \"frame\": \"size\"}\n",
    "df_2k_middle_20_videos = df_2k_middle_20[[\"video\", \"frame\", \"label\"]]\n",
    "df_2k_middle_20_videos = df_2k_middle_20_videos.groupby(\"video\").aggregate(agg).reset_index(drop=True)\n",
    "df_2k_middle_20_videos = df_2k_middle_20_videos.rename(columns={\"frame\": \"frame_count\"})\n",
    "df_2k_middle_20_videos"
   ]
  },
  {
   "cell_type": "code",
   "execution_count": 47,
   "id": "c3803d34",
   "metadata": {},
   "outputs": [
    {
     "data": {
      "text/html": [
       "<div>\n",
       "<style scoped>\n",
       "    .dataframe tbody tr th:only-of-type {\n",
       "        vertical-align: middle;\n",
       "    }\n",
       "\n",
       "    .dataframe tbody tr th {\n",
       "        vertical-align: top;\n",
       "    }\n",
       "\n",
       "    .dataframe thead th {\n",
       "        text-align: right;\n",
       "    }\n",
       "</style>\n",
       "<table border=\"1\" class=\"dataframe\">\n",
       "  <thead>\n",
       "    <tr style=\"text-align: right;\">\n",
       "      <th></th>\n",
       "      <th>video</th>\n",
       "      <th>label</th>\n",
       "      <th>frame_count</th>\n",
       "    </tr>\n",
       "  </thead>\n",
       "  <tbody>\n",
       "  </tbody>\n",
       "</table>\n",
       "</div>"
      ],
      "text/plain": [
       "Empty DataFrame\n",
       "Columns: [video, label, frame_count]\n",
       "Index: []"
      ]
     },
     "execution_count": 47,
     "metadata": {},
     "output_type": "execute_result"
    }
   ],
   "source": [
    "# videos from which it was not possible to extract 20 frames\n",
    "df_2k_middle_20_videos[df_2k_middle_20_videos[\"frame_count\"] < 20]"
   ]
  },
  {
   "cell_type": "code",
   "execution_count": 48,
   "id": "05928321",
   "metadata": {},
   "outputs": [
    {
     "name": "stdout",
     "output_type": "stream",
     "text": [
      "number of videos: 2000\n",
      "number of non-porn frames: 20000\n",
      "number of porn frames: 20000\n"
     ]
    }
   ],
   "source": [
    "print(\"number of videos:\", len(df_2k_middle_20_videos))\n",
    "print(\"number of non-porn frames:\", len(df_2k_middle_20[df_2k_middle_20[\"label\"] == 0]))\n",
    "print(\"number of porn frames:\", len(df_2k_middle_20[df_2k_middle_20[\"label\"] == 1]))"
   ]
  },
  {
   "cell_type": "markdown",
   "id": "ea9904e9",
   "metadata": {},
   "source": [
    "#### even-20"
   ]
  },
  {
   "cell_type": "code",
   "execution_count": 49,
   "id": "c297f048",
   "metadata": {},
   "outputs": [
    {
     "data": {
      "text/plain": [
       "True"
      ]
     },
     "execution_count": 49,
     "metadata": {},
     "output_type": "execute_result"
    }
   ],
   "source": [
    "# check if data file is available\n",
    "data_loc_2k_even_20 = \"/nas-ctm01/datasets/public/BIOMETRICS/pornography-2k-db/data-processed/even-20\"\n",
    "os.path.isfile(f\"{data_loc_2k_even_20}/data.csv\")"
   ]
  },
  {
   "cell_type": "code",
   "execution_count": 50,
   "id": "59ac27ab",
   "metadata": {},
   "outputs": [
    {
     "data": {
      "text/html": [
       "<div>\n",
       "<style scoped>\n",
       "    .dataframe tbody tr th:only-of-type {\n",
       "        vertical-align: middle;\n",
       "    }\n",
       "\n",
       "    .dataframe tbody tr th {\n",
       "        vertical-align: top;\n",
       "    }\n",
       "\n",
       "    .dataframe thead th {\n",
       "        text-align: right;\n",
       "    }\n",
       "</style>\n",
       "<table border=\"1\" class=\"dataframe\">\n",
       "  <thead>\n",
       "    <tr style=\"text-align: right;\">\n",
       "      <th></th>\n",
       "      <th>frame</th>\n",
       "      <th>label</th>\n",
       "      <th>video</th>\n",
       "    </tr>\n",
       "  </thead>\n",
       "  <tbody>\n",
       "    <tr>\n",
       "      <th>0</th>\n",
       "      <td>vPorn000842#0.jpg</td>\n",
       "      <td>1</td>\n",
       "      <td>vPorn000842</td>\n",
       "    </tr>\n",
       "    <tr>\n",
       "      <th>1</th>\n",
       "      <td>vPorn000842#1.jpg</td>\n",
       "      <td>1</td>\n",
       "      <td>vPorn000842</td>\n",
       "    </tr>\n",
       "    <tr>\n",
       "      <th>2</th>\n",
       "      <td>vPorn000842#2.jpg</td>\n",
       "      <td>1</td>\n",
       "      <td>vPorn000842</td>\n",
       "    </tr>\n",
       "    <tr>\n",
       "      <th>3</th>\n",
       "      <td>vPorn000842#3.jpg</td>\n",
       "      <td>1</td>\n",
       "      <td>vPorn000842</td>\n",
       "    </tr>\n",
       "    <tr>\n",
       "      <th>4</th>\n",
       "      <td>vPorn000842#4.jpg</td>\n",
       "      <td>1</td>\n",
       "      <td>vPorn000842</td>\n",
       "    </tr>\n",
       "    <tr>\n",
       "      <th>...</th>\n",
       "      <td>...</td>\n",
       "      <td>...</td>\n",
       "      <td>...</td>\n",
       "    </tr>\n",
       "    <tr>\n",
       "      <th>39995</th>\n",
       "      <td>vPorn000431#15.jpg</td>\n",
       "      <td>1</td>\n",
       "      <td>vPorn000431</td>\n",
       "    </tr>\n",
       "    <tr>\n",
       "      <th>39996</th>\n",
       "      <td>vPorn000431#16.jpg</td>\n",
       "      <td>1</td>\n",
       "      <td>vPorn000431</td>\n",
       "    </tr>\n",
       "    <tr>\n",
       "      <th>39997</th>\n",
       "      <td>vPorn000431#17.jpg</td>\n",
       "      <td>1</td>\n",
       "      <td>vPorn000431</td>\n",
       "    </tr>\n",
       "    <tr>\n",
       "      <th>39998</th>\n",
       "      <td>vPorn000431#18.jpg</td>\n",
       "      <td>1</td>\n",
       "      <td>vPorn000431</td>\n",
       "    </tr>\n",
       "    <tr>\n",
       "      <th>39999</th>\n",
       "      <td>vPorn000431#19.jpg</td>\n",
       "      <td>1</td>\n",
       "      <td>vPorn000431</td>\n",
       "    </tr>\n",
       "  </tbody>\n",
       "</table>\n",
       "<p>40000 rows × 3 columns</p>\n",
       "</div>"
      ],
      "text/plain": [
       "                    frame  label        video\n",
       "0       vPorn000842#0.jpg      1  vPorn000842\n",
       "1       vPorn000842#1.jpg      1  vPorn000842\n",
       "2       vPorn000842#2.jpg      1  vPorn000842\n",
       "3       vPorn000842#3.jpg      1  vPorn000842\n",
       "4       vPorn000842#4.jpg      1  vPorn000842\n",
       "...                   ...    ...          ...\n",
       "39995  vPorn000431#15.jpg      1  vPorn000431\n",
       "39996  vPorn000431#16.jpg      1  vPorn000431\n",
       "39997  vPorn000431#17.jpg      1  vPorn000431\n",
       "39998  vPorn000431#18.jpg      1  vPorn000431\n",
       "39999  vPorn000431#19.jpg      1  vPorn000431\n",
       "\n",
       "[40000 rows x 3 columns]"
      ]
     },
     "execution_count": 50,
     "metadata": {},
     "output_type": "execute_result"
    }
   ],
   "source": [
    "df_2k_even_20 = pd.read_csv(f\"{data_loc_2k_even_20}/data.csv\")\n",
    "df_2k_even_20[\"video\"] = [frame_name.split(\"#\")[0] for frame_name in df_2k_even_20[\"frame\"]]\n",
    "df_2k_even_20"
   ]
  },
  {
   "cell_type": "code",
   "execution_count": 51,
   "id": "56980670",
   "metadata": {},
   "outputs": [
    {
     "data": {
      "text/html": [
       "<div>\n",
       "<style scoped>\n",
       "    .dataframe tbody tr th:only-of-type {\n",
       "        vertical-align: middle;\n",
       "    }\n",
       "\n",
       "    .dataframe tbody tr th {\n",
       "        vertical-align: top;\n",
       "    }\n",
       "\n",
       "    .dataframe thead th {\n",
       "        text-align: right;\n",
       "    }\n",
       "</style>\n",
       "<table border=\"1\" class=\"dataframe\">\n",
       "  <thead>\n",
       "    <tr style=\"text-align: right;\">\n",
       "      <th></th>\n",
       "      <th>video</th>\n",
       "      <th>label</th>\n",
       "      <th>frame_count</th>\n",
       "    </tr>\n",
       "  </thead>\n",
       "  <tbody>\n",
       "    <tr>\n",
       "      <th>0</th>\n",
       "      <td>vNonPorn000001</td>\n",
       "      <td>0</td>\n",
       "      <td>20</td>\n",
       "    </tr>\n",
       "    <tr>\n",
       "      <th>1</th>\n",
       "      <td>vNonPorn000002</td>\n",
       "      <td>0</td>\n",
       "      <td>20</td>\n",
       "    </tr>\n",
       "    <tr>\n",
       "      <th>2</th>\n",
       "      <td>vNonPorn000003</td>\n",
       "      <td>0</td>\n",
       "      <td>20</td>\n",
       "    </tr>\n",
       "    <tr>\n",
       "      <th>3</th>\n",
       "      <td>vNonPorn000004</td>\n",
       "      <td>0</td>\n",
       "      <td>20</td>\n",
       "    </tr>\n",
       "    <tr>\n",
       "      <th>4</th>\n",
       "      <td>vNonPorn000005</td>\n",
       "      <td>0</td>\n",
       "      <td>20</td>\n",
       "    </tr>\n",
       "    <tr>\n",
       "      <th>...</th>\n",
       "      <td>...</td>\n",
       "      <td>...</td>\n",
       "      <td>...</td>\n",
       "    </tr>\n",
       "    <tr>\n",
       "      <th>1995</th>\n",
       "      <td>vPorn000996</td>\n",
       "      <td>1</td>\n",
       "      <td>20</td>\n",
       "    </tr>\n",
       "    <tr>\n",
       "      <th>1996</th>\n",
       "      <td>vPorn000997</td>\n",
       "      <td>1</td>\n",
       "      <td>20</td>\n",
       "    </tr>\n",
       "    <tr>\n",
       "      <th>1997</th>\n",
       "      <td>vPorn000998</td>\n",
       "      <td>1</td>\n",
       "      <td>20</td>\n",
       "    </tr>\n",
       "    <tr>\n",
       "      <th>1998</th>\n",
       "      <td>vPorn000999</td>\n",
       "      <td>1</td>\n",
       "      <td>20</td>\n",
       "    </tr>\n",
       "    <tr>\n",
       "      <th>1999</th>\n",
       "      <td>vPorn001000</td>\n",
       "      <td>1</td>\n",
       "      <td>20</td>\n",
       "    </tr>\n",
       "  </tbody>\n",
       "</table>\n",
       "<p>2000 rows × 3 columns</p>\n",
       "</div>"
      ],
      "text/plain": [
       "               video  label  frame_count\n",
       "0     vNonPorn000001      0           20\n",
       "1     vNonPorn000002      0           20\n",
       "2     vNonPorn000003      0           20\n",
       "3     vNonPorn000004      0           20\n",
       "4     vNonPorn000005      0           20\n",
       "...              ...    ...          ...\n",
       "1995     vPorn000996      1           20\n",
       "1996     vPorn000997      1           20\n",
       "1997     vPorn000998      1           20\n",
       "1998     vPorn000999      1           20\n",
       "1999     vPorn001000      1           20\n",
       "\n",
       "[2000 rows x 3 columns]"
      ]
     },
     "execution_count": 51,
     "metadata": {},
     "output_type": "execute_result"
    }
   ],
   "source": [
    "agg = {\"video\": \"first\", \"label\": \"first\", \"frame\": \"size\"}\n",
    "df_2k_even_20_videos = df_2k_even_20[[\"video\", \"frame\", \"label\"]]\n",
    "df_2k_even_20_videos = df_2k_even_20_videos.groupby(\"video\").aggregate(agg).reset_index(drop=True)\n",
    "df_2k_even_20_videos = df_2k_even_20_videos.rename(columns={\"frame\": \"frame_count\"})\n",
    "df_2k_even_20_videos"
   ]
  },
  {
   "cell_type": "code",
   "execution_count": 52,
   "id": "c481ac2c",
   "metadata": {},
   "outputs": [
    {
     "data": {
      "text/html": [
       "<div>\n",
       "<style scoped>\n",
       "    .dataframe tbody tr th:only-of-type {\n",
       "        vertical-align: middle;\n",
       "    }\n",
       "\n",
       "    .dataframe tbody tr th {\n",
       "        vertical-align: top;\n",
       "    }\n",
       "\n",
       "    .dataframe thead th {\n",
       "        text-align: right;\n",
       "    }\n",
       "</style>\n",
       "<table border=\"1\" class=\"dataframe\">\n",
       "  <thead>\n",
       "    <tr style=\"text-align: right;\">\n",
       "      <th></th>\n",
       "      <th>video</th>\n",
       "      <th>label</th>\n",
       "      <th>frame_count</th>\n",
       "    </tr>\n",
       "  </thead>\n",
       "  <tbody>\n",
       "  </tbody>\n",
       "</table>\n",
       "</div>"
      ],
      "text/plain": [
       "Empty DataFrame\n",
       "Columns: [video, label, frame_count]\n",
       "Index: []"
      ]
     },
     "execution_count": 52,
     "metadata": {},
     "output_type": "execute_result"
    }
   ],
   "source": [
    "# videos from which it was not possible to extract 20 frames\n",
    "df_2k_even_20_videos[df_2k_even_20_videos[\"frame_count\"] < 20]"
   ]
  },
  {
   "cell_type": "code",
   "execution_count": 53,
   "id": "74522123",
   "metadata": {},
   "outputs": [
    {
     "name": "stdout",
     "output_type": "stream",
     "text": [
      "number of videos: 2000\n",
      "number of non-porn frames: 20000\n",
      "number of porn frames: 20000\n"
     ]
    }
   ],
   "source": [
    "print(\"number of videos:\", len(df_2k_even_20_videos))\n",
    "print(\"number of non-porn frames:\", len(df_2k_even_20[df_2k_even_20[\"label\"] == 0]))\n",
    "print(\"number of porn frames:\", len(df_2k_even_20[df_2k_even_20[\"label\"] == 1]))"
   ]
  },
  {
   "cell_type": "markdown",
   "id": "098b07a5",
   "metadata": {},
   "source": [
    "## Model training and testing"
   ]
  },
  {
   "cell_type": "code",
   "execution_count": 24,
   "id": "7b199d9a",
   "metadata": {},
   "outputs": [],
   "source": [
    "def separate_correct_and_incorrect(row):\n",
    "    target = row[\"Target\"]\n",
    "\n",
    "    correct_frames = []\n",
    "    incorrect_frames = []\n",
    "    correct_confidences = []\n",
    "    incorrect_confidences = []\n",
    "\n",
    "    for frame, prediction, confidence in zip(row[\"Frame\"], row[\"Prediction\"], row[\"Confidence\"]):\n",
    "        if target == prediction:\n",
    "            correct_frames.append(frame)\n",
    "            correct_confidences.append(confidence)\n",
    "        else:\n",
    "            incorrect_frames.append(frame)\n",
    "            incorrect_confidences.append(confidence)\n",
    "\n",
    "    return pd.Series(\n",
    "        [correct_frames, incorrect_frames, correct_confidences, incorrect_confidences],\n",
    "        index=[\n",
    "            \"Correct_frames\",\n",
    "            \"Incorrect_frames\",\n",
    "            \"Correct_confidences\",\n",
    "            \"Incorrect_confidences\",\n",
    "        ],\n",
    "    )\n",
    "\n",
    "\n",
    "def get_video_df_separated(df):\n",
    "    df[\"Video\"] = df[\"Frame\"].str.split(\"#\").str[0]\n",
    "\n",
    "    # Group by video and aggregate columns\n",
    "    video_df = (\n",
    "        df.groupby(\"Video\")\n",
    "        .agg(\n",
    "            {\n",
    "                \"Target\": \"first\",\n",
    "                \"Prediction\": lambda x: list(x),\n",
    "                \"Frame\": lambda x: list(x),\n",
    "                \"Confidence\": lambda x: list(x),\n",
    "            }\n",
    "        )\n",
    "        .reset_index()\n",
    "    )\n",
    "\n",
    "    # Apply aggregation function\n",
    "    video_df[\n",
    "        [\n",
    "            \"Correct_frames\",\n",
    "            \"Incorrect_frames\",\n",
    "            \"Correct_confidences\",\n",
    "            \"Incorrect_confidences\",\n",
    "        ]\n",
    "    ] = video_df.apply(separate_correct_and_incorrect, axis=1)\n",
    "\n",
    "    # Drop unnecessary columns\n",
    "    video_df.drop([\"Frame\", \"Prediction\", \"Confidence\"], axis=1, inplace=True)\n",
    "\n",
    "    return video_df\n",
    "\n",
    "\n",
    "def true_positives(df):\n",
    "    condition = lambda row: row[\"Target\"] == 1 and len(row[\"Correct_frames\"]) > len(row[\"Incorrect_frames\"])\n",
    "    return len(df[df.apply(condition, axis=1)])\n",
    "\n",
    "\n",
    "def true_positives_relaxed(df):\n",
    "    condition = lambda row: row[\"Target\"] == 1 and len(row[\"Correct_frames\"]) >= len(row[\"Incorrect_frames\"])\n",
    "    return len(df[df.apply(condition, axis=1)])\n",
    "\n",
    "\n",
    "def true_negatives(df):\n",
    "    condition = lambda row: row[\"Target\"] == 0 and len(row[\"Correct_frames\"]) > len(row[\"Incorrect_frames\"])\n",
    "    return len(df[df.apply(condition, axis=1)])\n",
    "\n",
    "\n",
    "def true_negatives_relaxed(df):\n",
    "    condition = lambda row: row[\"Target\"] == 0 and len(row[\"Correct_frames\"]) >= len(row[\"Incorrect_frames\"])\n",
    "    return len(df[df.apply(condition, axis=1)])\n",
    "\n",
    "\n",
    "def false_positives(df):\n",
    "    condition = lambda row: row[\"Target\"] == 0 and len(row[\"Correct_frames\"]) < len(row[\"Incorrect_frames\"])\n",
    "    return len(df[df.apply(condition, axis=1)])\n",
    "\n",
    "\n",
    "def false_negatives(df):\n",
    "    condition = lambda row: row[\"Target\"] == 1 and len(row[\"Correct_frames\"]) < len(row[\"Incorrect_frames\"])\n",
    "    return len(df[df.apply(condition, axis=1)])\n",
    "\n",
    "\n",
    "def videos_correctly_classified(df, relaxed=False):\n",
    "    return true_positives(df) + true_negatives(df) if not relaxed else true_positives_relaxed(df) + true_negatives_relaxed(df)\n",
    "\n",
    "\n",
    "def videos_incorrectly_classified(df):\n",
    "    return false_positives(df) + false_negatives(df)\n",
    "\n",
    "\n",
    "def accuracy(df, relaxed=False):\n",
    "    return videos_correctly_classified(df, relaxed) / len(df)\n",
    "\n",
    "\n",
    "def precision(df, relaxed=False):\n",
    "    tps = true_positives(df) if not relaxed else true_negatives_relaxed(df)\n",
    "    return tps / (tps + false_positives(df))\n",
    "\n",
    "\n",
    "def recall(df, relaxed=False):\n",
    "    tps = true_positives(df) if not relaxed else true_negatives_relaxed(df)\n",
    "    return tps / (tps + false_negatives(df))\n",
    "\n",
    "\n",
    "def f1_score(df, relaxed=False):\n",
    "    prec = precision(df, relaxed)\n",
    "    rec = recall(df, relaxed)\n",
    "    return 2 * (prec * rec) / (prec + rec)\n",
    "\n",
    "\n",
    "def get_full_report(df):\n",
    "    print(f\"Total videos: {len(df)}\\n\")\n",
    "    print(f\"TPs: {true_positives(df)} | TNs: {true_negatives(df)} | FPs: {false_positives(df)} | FNs: {false_negatives(df)}\\n\")\n",
    "    print(f\"Correctly classified (TPs + TNs): {videos_correctly_classified(df)} (relaxed: {videos_correctly_classified(df, True)})\")\n",
    "    print(f\"Incorrectly classified (FPs + FNs): {videos_incorrectly_classified(df)}\\n\")\n",
    "    print(\"Strict (i.e., a video is only correct if # correctly classified frames > # incorrectly classified frames)\")\n",
    "    print(f\"Accuracy: {accuracy(df):.5f} | Precision: {precision(df):.5f} | Recall: {recall(df):.5f} | F1-Score: {f1_score(df):.5f}\\n\")\n",
    "    print(\"Relaxed (i.e., a video is correct if # correctly classified frames >= # incorrectly classified frames)\")\n",
    "    print(f\"Accuracy: {accuracy(df, True):.5f} | Precision: {precision(df, True):.5f} | Recall: {recall(df, True):.5f} | F1-Score: {f1_score(df, True):.5f}\\n\")"
   ]
  },
  {
   "cell_type": "markdown",
   "id": "38300c95",
   "metadata": {},
   "source": [
    "### Pornography-800"
   ]
  },
  {
   "cell_type": "markdown",
   "id": "bb0b79f2",
   "metadata": {},
   "source": [
    "#### VGG19"
   ]
  },
  {
   "cell_type": "code",
   "execution_count": 25,
   "id": "aba2a3e2",
   "metadata": {},
   "outputs": [
    {
     "name": "stdout",
     "output_type": "stream",
     "text": [
      "Total videos: 160\n",
      "\n",
      "TPs: 78 | TNs: 75 | FPs: 5 | FNs: 1\n",
      "\n",
      "Correctly classified (TPs + TNs): 153 (relaxed: 154)\n",
      "Incorrectly classified (FPs + FNs): 6\n",
      "\n",
      "Strict (i.e., a video is only correct if # correctly classified frames > # incorrectly classified frames)\n",
      "Accuracy: 0.95625 | Precision: 0.93976 | Recall: 0.98734 | F1-Score: 0.96296\n",
      "\n",
      "Relaxed (i.e., a video is correct if # correctly classified frames >= # incorrectly classified frames)\n",
      "Accuracy: 0.96250 | Precision: 0.93750 | Recall: 0.98684 | F1-Score: 0.96154\n",
      "\n"
     ]
    }
   ],
   "source": [
    "df = pd.read_csv(\"results/pornography-800/cnns/no-freeze/even-20/results/vgg19_freeze_False_epochs_100_batch_16_optim_sgd_aug_False_split_10_20.csv\")\n",
    "df_videos = get_video_df_separated(df)\n",
    "get_full_report(df_videos)"
   ]
  },
  {
   "cell_type": "markdown",
   "id": "343b35e6",
   "metadata": {},
   "source": [
    "#### VGG19 cross-dataset tested on Pornography-2k"
   ]
  },
  {
   "cell_type": "code",
   "execution_count": 26,
   "id": "254d9420",
   "metadata": {},
   "outputs": [
    {
     "name": "stdout",
     "output_type": "stream",
     "text": [
      "Total videos: 400\n",
      "\n",
      "TPs: 169 | TNs: 191 | FPs: 6 | FNs: 26\n",
      "\n",
      "Correctly classified (TPs + TNs): 360 (relaxed: 368)\n",
      "Incorrectly classified (FPs + FNs): 32\n",
      "\n",
      "Strict (i.e., a video is only correct if # correctly classified frames > # incorrectly classified frames)\n",
      "Accuracy: 0.90000 | Precision: 0.96571 | Recall: 0.86667 | F1-Score: 0.91351\n",
      "\n",
      "Relaxed (i.e., a video is correct if # correctly classified frames >= # incorrectly classified frames)\n",
      "Accuracy: 0.92000 | Precision: 0.96985 | Recall: 0.88128 | F1-Score: 0.92344\n",
      "\n"
     ]
    }
   ],
   "source": [
    "df = pd.read_csv(\"results/cross-dataset-testing/train-800-test-2k/vgg19_freeze_False_epochs_100_batch_16_optim_sgd_aug_False_split_10_20.csv\")\n",
    "df_videos = get_video_df_separated(df)\n",
    "get_full_report(df_videos)"
   ]
  },
  {
   "cell_type": "markdown",
   "id": "c0e56cae",
   "metadata": {},
   "source": [
    "#### ViT"
   ]
  },
  {
   "cell_type": "code",
   "execution_count": 27,
   "id": "8b04120c",
   "metadata": {},
   "outputs": [
    {
     "name": "stdout",
     "output_type": "stream",
     "text": [
      "Total videos: 160\n",
      "\n",
      "TPs: 80 | TNs: 79 | FPs: 1 | FNs: 0\n",
      "\n",
      "Correctly classified (TPs + TNs): 159 (relaxed: 159)\n",
      "Incorrectly classified (FPs + FNs): 1\n",
      "\n",
      "Strict (i.e., a video is only correct if # correctly classified frames > # incorrectly classified frames)\n",
      "Accuracy: 0.99375 | Precision: 0.98765 | Recall: 1.00000 | F1-Score: 0.99379\n",
      "\n",
      "Relaxed (i.e., a video is correct if # correctly classified frames >= # incorrectly classified frames)\n",
      "Accuracy: 0.99375 | Precision: 0.98750 | Recall: 1.00000 | F1-Score: 0.99371\n",
      "\n"
     ]
    }
   ],
   "source": [
    "df = pd.read_csv(\"results/pornography-800/transformers/no-freeze/even-20/results/vit_base_patch16_224_epochs_50_batch_16_optim_sgd_aug_False_split_10_20.csv\")\n",
    "df_videos = get_video_df_separated(df)\n",
    "get_full_report(df_videos)"
   ]
  },
  {
   "cell_type": "markdown",
   "id": "7ec045bb",
   "metadata": {},
   "source": [
    "#### ViT cross-dataset tested on Pornography-2k"
   ]
  },
  {
   "cell_type": "code",
   "execution_count": 28,
   "id": "e4294453",
   "metadata": {},
   "outputs": [
    {
     "name": "stdout",
     "output_type": "stream",
     "text": [
      "Total videos: 400\n",
      "\n",
      "TPs: 189 | TNs: 196 | FPs: 3 | FNs: 11\n",
      "\n",
      "Correctly classified (TPs + TNs): 385 (relaxed: 386)\n",
      "Incorrectly classified (FPs + FNs): 14\n",
      "\n",
      "Strict (i.e., a video is only correct if # correctly classified frames > # incorrectly classified frames)\n",
      "Accuracy: 0.96250 | Precision: 0.98438 | Recall: 0.94500 | F1-Score: 0.96429\n",
      "\n",
      "Relaxed (i.e., a video is correct if # correctly classified frames >= # incorrectly classified frames)\n",
      "Accuracy: 0.96500 | Precision: 0.98492 | Recall: 0.94686 | F1-Score: 0.96552\n",
      "\n"
     ]
    }
   ],
   "source": [
    "df = pd.read_csv(\"results/cross-dataset-testing/train-800-test-2k/vit_base_patch16_224_epochs_50_batch_16_optim_sgd_aug_False_split_10_20.csv\")\n",
    "df_videos = get_video_df_separated(df)\n",
    "get_full_report(df_videos)"
   ]
  },
  {
   "cell_type": "markdown",
   "id": "40b8ea7f",
   "metadata": {},
   "source": [
    "### Pornography-2k"
   ]
  },
  {
   "cell_type": "markdown",
   "id": "f0e5f199",
   "metadata": {},
   "source": [
    "#### VGG19"
   ]
  },
  {
   "cell_type": "code",
   "execution_count": 29,
   "id": "2df05b2a",
   "metadata": {},
   "outputs": [
    {
     "name": "stdout",
     "output_type": "stream",
     "text": [
      "Total videos: 400\n",
      "\n",
      "TPs: 191 | TNs: 191 | FPs: 6 | FNs: 9\n",
      "\n",
      "Correctly classified (TPs + TNs): 382 (relaxed: 385)\n",
      "Incorrectly classified (FPs + FNs): 15\n",
      "\n",
      "Strict (i.e., a video is only correct if # correctly classified frames > # incorrectly classified frames)\n",
      "Accuracy: 0.95500 | Precision: 0.96954 | Recall: 0.95500 | F1-Score: 0.96222\n",
      "\n",
      "Relaxed (i.e., a video is correct if # correctly classified frames >= # incorrectly classified frames)\n",
      "Accuracy: 0.96250 | Precision: 0.96985 | Recall: 0.95545 | F1-Score: 0.96259\n",
      "\n"
     ]
    }
   ],
   "source": [
    "df = pd.read_csv(\"results/pornography-2k/cnns/data-aug/even-20/results/vgg19_freeze_False_epochs_50_batch_16_optim_sgd_aug_True_split_10_20.csv\")\n",
    "df_videos = get_video_df_separated(df)\n",
    "get_full_report(df_videos)"
   ]
  },
  {
   "cell_type": "markdown",
   "id": "f10a7d27",
   "metadata": {},
   "source": [
    "#### VGG19 cross-dataset tested on Pornography-800"
   ]
  },
  {
   "cell_type": "code",
   "execution_count": 30,
   "id": "73d8b2d0",
   "metadata": {},
   "outputs": [
    {
     "name": "stdout",
     "output_type": "stream",
     "text": [
      "Total videos: 160\n",
      "\n",
      "TPs: 80 | TNs: 78 | FPs: 2 | FNs: 0\n",
      "\n",
      "Correctly classified (TPs + TNs): 158 (relaxed: 158)\n",
      "Incorrectly classified (FPs + FNs): 2\n",
      "\n",
      "Strict (i.e., a video is only correct if # correctly classified frames > # incorrectly classified frames)\n",
      "Accuracy: 0.98750 | Precision: 0.97561 | Recall: 1.00000 | F1-Score: 0.98765\n",
      "\n",
      "Relaxed (i.e., a video is correct if # correctly classified frames >= # incorrectly classified frames)\n",
      "Accuracy: 0.98750 | Precision: 0.97500 | Recall: 1.00000 | F1-Score: 0.98734\n",
      "\n"
     ]
    }
   ],
   "source": [
    "df = pd.read_csv(\"results/cross-dataset-testing/train-2k-test-800/vgg19_freeze_False_epochs_50_batch_16_optim_sgd_aug_True_split_10_20.csv\")\n",
    "df_videos = get_video_df_separated(df)\n",
    "get_full_report(df_videos)"
   ]
  },
  {
   "cell_type": "markdown",
   "id": "1d7651e1",
   "metadata": {},
   "source": [
    "#### ViT "
   ]
  },
  {
   "cell_type": "code",
   "execution_count": 31,
   "id": "6428b169",
   "metadata": {},
   "outputs": [
    {
     "name": "stdout",
     "output_type": "stream",
     "text": [
      "Total videos: 400\n",
      "\n",
      "TPs: 196 | TNs: 196 | FPs: 3 | FNs: 5\n",
      "\n",
      "Correctly classified (TPs + TNs): 392 (relaxed: 392)\n",
      "Incorrectly classified (FPs + FNs): 8\n",
      "\n",
      "Strict (i.e., a video is only correct if # correctly classified frames > # incorrectly classified frames)\n",
      "Accuracy: 0.98000 | Precision: 0.98492 | Recall: 0.97512 | F1-Score: 0.98000\n",
      "\n",
      "Relaxed (i.e., a video is correct if # correctly classified frames >= # incorrectly classified frames)\n",
      "Accuracy: 0.98000 | Precision: 0.98492 | Recall: 0.97512 | F1-Score: 0.98000\n",
      "\n"
     ]
    }
   ],
   "source": [
    "df = pd.read_csv(\"results/pornography-2k/transformers/data-aug/even-20/results/vit_base_patch16_224_epochs_50_batch_16_optim_sgd_aug_True_split_10_20.csv\")\n",
    "df_videos = get_video_df_separated(df)\n",
    "get_full_report(df_videos)"
   ]
  },
  {
   "cell_type": "markdown",
   "id": "27bdea84",
   "metadata": {},
   "source": [
    "#### ViT cross-dataset tested on Pornography-800"
   ]
  },
  {
   "cell_type": "code",
   "execution_count": 32,
   "id": "3e52ace6",
   "metadata": {},
   "outputs": [
    {
     "name": "stdout",
     "output_type": "stream",
     "text": [
      "Total videos: 160\n",
      "\n",
      "TPs: 80 | TNs: 79 | FPs: 1 | FNs: 0\n",
      "\n",
      "Correctly classified (TPs + TNs): 159 (relaxed: 159)\n",
      "Incorrectly classified (FPs + FNs): 1\n",
      "\n",
      "Strict (i.e., a video is only correct if # correctly classified frames > # incorrectly classified frames)\n",
      "Accuracy: 0.99375 | Precision: 0.98765 | Recall: 1.00000 | F1-Score: 0.99379\n",
      "\n",
      "Relaxed (i.e., a video is correct if # correctly classified frames >= # incorrectly classified frames)\n",
      "Accuracy: 0.99375 | Precision: 0.98750 | Recall: 1.00000 | F1-Score: 0.99371\n",
      "\n"
     ]
    }
   ],
   "source": [
    "df = pd.read_csv(\"results/cross-dataset-testing/train-2k-test-800/vit_base_patch16_224_epochs_50_batch_16_optim_sgd_aug_True_split_10_20.csv\")\n",
    "df_videos = get_video_df_separated(df)\n",
    "get_full_report(df_videos)"
   ]
  },
  {
   "cell_type": "markdown",
   "id": "2555f55f",
   "metadata": {},
   "source": [
    "### APD-2M"
   ]
  },
  {
   "cell_type": "markdown",
   "id": "939a89e9",
   "metadata": {},
   "source": [
    "#### ResNet152 cross-dataset tested on Pornography-800"
   ]
  },
  {
   "cell_type": "code",
   "execution_count": 33,
   "id": "c244a117",
   "metadata": {},
   "outputs": [
    {
     "name": "stdout",
     "output_type": "stream",
     "text": [
      "Total videos: 160\n",
      "\n",
      "TPs: 66 | TNs: 73 | FPs: 6 | FNs: 10\n",
      "\n",
      "Correctly classified (TPs + TNs): 139 (relaxed: 144)\n",
      "Incorrectly classified (FPs + FNs): 16\n",
      "\n",
      "Strict (i.e., a video is only correct if # correctly classified frames > # incorrectly classified frames)\n",
      "Accuracy: 0.86875 | Precision: 0.91667 | Recall: 0.86842 | F1-Score: 0.89189\n",
      "\n",
      "Relaxed (i.e., a video is correct if # correctly classified frames >= # incorrectly classified frames)\n",
      "Accuracy: 0.90000 | Precision: 0.92500 | Recall: 0.88095 | F1-Score: 0.90244\n",
      "\n"
     ]
    }
   ],
   "source": [
    "df = pd.read_csv(\"results/cross-dataset-testing/train-apd-test-800/resnet152_freeze_False_epochs_5_batch_256_optim_sgd_aug_True_split_10_20.csv\")\n",
    "df_videos = get_video_df_separated(df)\n",
    "get_full_report(df_videos)"
   ]
  },
  {
   "cell_type": "markdown",
   "id": "b0cc9899",
   "metadata": {},
   "source": [
    "#### ResNet152 cross-dataset tested on Pornography-2k"
   ]
  },
  {
   "cell_type": "code",
   "execution_count": 34,
   "id": "713d2cbe",
   "metadata": {},
   "outputs": [
    {
     "name": "stdout",
     "output_type": "stream",
     "text": [
      "Total videos: 400\n",
      "\n",
      "TPs: 158 | TNs: 192 | FPs: 7 | FNs: 38\n",
      "\n",
      "Correctly classified (TPs + TNs): 350 (relaxed: 355)\n",
      "Incorrectly classified (FPs + FNs): 45\n",
      "\n",
      "Strict (i.e., a video is only correct if # correctly classified frames > # incorrectly classified frames)\n",
      "Accuracy: 0.87500 | Precision: 0.95758 | Recall: 0.80612 | F1-Score: 0.87535\n",
      "\n",
      "Relaxed (i.e., a video is correct if # correctly classified frames >= # incorrectly classified frames)\n",
      "Accuracy: 0.88750 | Precision: 0.96482 | Recall: 0.83478 | F1-Score: 0.89510\n",
      "\n"
     ]
    }
   ],
   "source": [
    "df = pd.read_csv(\"results/cross-dataset-testing/train-apd-test-2k/resnet152_freeze_False_epochs_5_batch_256_optim_sgd_aug_True_split_10_20.csv\")\n",
    "df_videos = get_video_df_separated(df)\n",
    "get_full_report(df_videos)"
   ]
  },
  {
   "cell_type": "markdown",
   "id": "bc936bb8",
   "metadata": {},
   "source": [
    "#### DenseNet201 cross-dataset tested on Pornography-800"
   ]
  },
  {
   "cell_type": "code",
   "execution_count": 35,
   "id": "1d48c6ba",
   "metadata": {},
   "outputs": [
    {
     "name": "stdout",
     "output_type": "stream",
     "text": [
      "Total videos: 160\n",
      "\n",
      "TPs: 59 | TNs: 70 | FPs: 9 | FNs: 20\n",
      "\n",
      "Correctly classified (TPs + TNs): 129 (relaxed: 131)\n",
      "Incorrectly classified (FPs + FNs): 29\n",
      "\n",
      "Strict (i.e., a video is only correct if # correctly classified frames > # incorrectly classified frames)\n",
      "Accuracy: 0.80625 | Precision: 0.86765 | Recall: 0.74684 | F1-Score: 0.80272\n",
      "\n",
      "Relaxed (i.e., a video is correct if # correctly classified frames >= # incorrectly classified frames)\n",
      "Accuracy: 0.81875 | Precision: 0.88750 | Recall: 0.78022 | F1-Score: 0.83041\n",
      "\n"
     ]
    }
   ],
   "source": [
    "df = pd.read_csv(\"results/cross-dataset-testing/train-apd-test-800/densenet201_freeze_False_epochs_5_batch_256_optim_sgd_aug_True_split_10_20.csv\")\n",
    "df_videos = get_video_df_separated(df)\n",
    "get_full_report(df_videos)"
   ]
  },
  {
   "cell_type": "markdown",
   "id": "38ca2b46",
   "metadata": {},
   "source": [
    "#### DenseNet201 cross-dataset tested on Pornography-2k"
   ]
  },
  {
   "cell_type": "code",
   "execution_count": 36,
   "id": "a32b97d5",
   "metadata": {},
   "outputs": [
    {
     "name": "stdout",
     "output_type": "stream",
     "text": [
      "Total videos: 400\n",
      "\n",
      "TPs: 156 | TNs: 191 | FPs: 7 | FNs: 41\n",
      "\n",
      "Correctly classified (TPs + TNs): 347 (relaxed: 352)\n",
      "Incorrectly classified (FPs + FNs): 48\n",
      "\n",
      "Strict (i.e., a video is only correct if # correctly classified frames > # incorrectly classified frames)\n",
      "Accuracy: 0.86750 | Precision: 0.95706 | Recall: 0.79188 | F1-Score: 0.86667\n",
      "\n",
      "Relaxed (i.e., a video is correct if # correctly classified frames >= # incorrectly classified frames)\n",
      "Accuracy: 0.88000 | Precision: 0.96482 | Recall: 0.82403 | F1-Score: 0.88889\n",
      "\n"
     ]
    }
   ],
   "source": [
    "df = pd.read_csv(\"results/cross-dataset-testing/train-apd-test-2k/densenet201_freeze_False_epochs_5_batch_256_optim_sgd_aug_True_split_10_20.csv\")\n",
    "df_videos = get_video_df_separated(df)\n",
    "get_full_report(df_videos)"
   ]
  },
  {
   "cell_type": "markdown",
   "id": "40e3c505",
   "metadata": {},
   "source": [
    "#### ViT (no aug) cross-dataset tested on Pornography-800"
   ]
  },
  {
   "cell_type": "code",
   "execution_count": 37,
   "id": "db61dc9e",
   "metadata": {},
   "outputs": [
    {
     "name": "stdout",
     "output_type": "stream",
     "text": [
      "Total videos: 160\n",
      "\n",
      "TPs: 73 | TNs: 73 | FPs: 7 | FNs: 6\n",
      "\n",
      "Correctly classified (TPs + TNs): 146 (relaxed: 147)\n",
      "Incorrectly classified (FPs + FNs): 13\n",
      "\n",
      "Strict (i.e., a video is only correct if # correctly classified frames > # incorrectly classified frames)\n",
      "Accuracy: 0.91250 | Precision: 0.91250 | Recall: 0.92405 | F1-Score: 0.91824\n",
      "\n",
      "Relaxed (i.e., a video is correct if # correctly classified frames >= # incorrectly classified frames)\n",
      "Accuracy: 0.91875 | Precision: 0.91250 | Recall: 0.92405 | F1-Score: 0.91824\n",
      "\n"
     ]
    }
   ],
   "source": [
    "df = pd.read_csv(\"results/cross-dataset-testing/train-apd-test-800/vit_base_patch16_224_epochs_5_batch_256_optim_sgd_aug_False_split_10_20.csv\")\n",
    "df_videos = get_video_df_separated(df)\n",
    "get_full_report(df_videos)"
   ]
  },
  {
   "cell_type": "markdown",
   "id": "236a3823",
   "metadata": {},
   "source": [
    "#### ViT (no aug) cross-dataset tested on Pornography-2k"
   ]
  },
  {
   "cell_type": "code",
   "execution_count": 38,
   "id": "2e9b0859",
   "metadata": {},
   "outputs": [
    {
     "name": "stdout",
     "output_type": "stream",
     "text": [
      "Total videos: 400\n",
      "\n",
      "TPs: 170 | TNs: 193 | FPs: 6 | FNs: 29\n",
      "\n",
      "Correctly classified (TPs + TNs): 363 (relaxed: 365)\n",
      "Incorrectly classified (FPs + FNs): 35\n",
      "\n",
      "Strict (i.e., a video is only correct if # correctly classified frames > # incorrectly classified frames)\n",
      "Accuracy: 0.90750 | Precision: 0.96591 | Recall: 0.85427 | F1-Score: 0.90667\n",
      "\n",
      "Relaxed (i.e., a video is correct if # correctly classified frames >= # incorrectly classified frames)\n",
      "Accuracy: 0.91250 | Precision: 0.96985 | Recall: 0.86937 | F1-Score: 0.91686\n",
      "\n"
     ]
    }
   ],
   "source": [
    "df = pd.read_csv(\"results/cross-dataset-testing/train-apd-test-2k/vit_base_patch16_224_epochs_5_batch_256_optim_sgd_aug_False_split_10_20.csv\")\n",
    "df_videos = get_video_df_separated(df)\n",
    "get_full_report(df_videos)"
   ]
  },
  {
   "cell_type": "markdown",
   "id": "f4a1b438",
   "metadata": {},
   "source": [
    "#### ViT (aug) cross-dataset tested on Pornography-800"
   ]
  },
  {
   "cell_type": "code",
   "execution_count": 39,
   "id": "aebe1d25",
   "metadata": {},
   "outputs": [
    {
     "name": "stdout",
     "output_type": "stream",
     "text": [
      "Total videos: 160\n",
      "\n",
      "TPs: 70 | TNs: 75 | FPs: 4 | FNs: 7\n",
      "\n",
      "Correctly classified (TPs + TNs): 145 (relaxed: 149)\n",
      "Incorrectly classified (FPs + FNs): 11\n",
      "\n",
      "Strict (i.e., a video is only correct if # correctly classified frames > # incorrectly classified frames)\n",
      "Accuracy: 0.90625 | Precision: 0.94595 | Recall: 0.90909 | F1-Score: 0.92715\n",
      "\n",
      "Relaxed (i.e., a video is correct if # correctly classified frames >= # incorrectly classified frames)\n",
      "Accuracy: 0.93125 | Precision: 0.95000 | Recall: 0.91566 | F1-Score: 0.93252\n",
      "\n"
     ]
    }
   ],
   "source": [
    "df = pd.read_csv(\"results/cross-dataset-testing/train-apd-test-800/vit_base_patch16_224_epochs_5_batch_256_optim_sgd_aug_True_split_10_20.csv\")\n",
    "df_videos = get_video_df_separated(df)\n",
    "get_full_report(df_videos)"
   ]
  },
  {
   "cell_type": "markdown",
   "id": "8363581f",
   "metadata": {},
   "source": [
    "#### ViT (aug) cross-dataset tested on Pornography-2k"
   ]
  },
  {
   "cell_type": "code",
   "execution_count": 40,
   "id": "7395a0a8",
   "metadata": {},
   "outputs": [
    {
     "name": "stdout",
     "output_type": "stream",
     "text": [
      "Total videos: 400\n",
      "\n",
      "TPs: 163 | TNs: 195 | FPs: 4 | FNs: 33\n",
      "\n",
      "Correctly classified (TPs + TNs): 358 (relaxed: 363)\n",
      "Incorrectly classified (FPs + FNs): 37\n",
      "\n",
      "Strict (i.e., a video is only correct if # correctly classified frames > # incorrectly classified frames)\n",
      "Accuracy: 0.89500 | Precision: 0.97605 | Recall: 0.83163 | F1-Score: 0.89807\n",
      "\n",
      "Relaxed (i.e., a video is correct if # correctly classified frames >= # incorrectly classified frames)\n",
      "Accuracy: 0.90750 | Precision: 0.97990 | Recall: 0.85526 | F1-Score: 0.91335\n",
      "\n"
     ]
    }
   ],
   "source": [
    "df = pd.read_csv(\"results/cross-dataset-testing/train-apd-test-2k/vit_base_patch16_224_epochs_5_batch_256_optim_sgd_aug_True_split_10_20.csv\")\n",
    "df_videos = get_video_df_separated(df)\n",
    "get_full_report(df_videos)"
   ]
  }
 ],
 "metadata": {
  "kernelspec": {
   "display_name": "Python 3 (ipykernel)",
   "language": "python",
   "name": "python3"
  },
  "language_info": {
   "codemirror_mode": {
    "name": "ipython",
    "version": 3
   },
   "file_extension": ".py",
   "mimetype": "text/x-python",
   "name": "python",
   "nbconvert_exporter": "python",
   "pygments_lexer": "ipython3",
   "version": "3.10.13"
  }
 },
 "nbformat": 4,
 "nbformat_minor": 5
}
