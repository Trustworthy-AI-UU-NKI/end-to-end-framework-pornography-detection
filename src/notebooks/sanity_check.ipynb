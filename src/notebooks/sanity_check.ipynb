{
 "cells": [
  {
   "cell_type": "code",
   "execution_count": 16,
   "id": "1c287a08-65c5-49d9-a339-d7a462d727f0",
   "metadata": {},
   "outputs": [],
   "source": [
    "import os\n",
    "import pandas as pd"
   ]
  },
  {
   "cell_type": "code",
   "execution_count": 17,
   "id": "98817283-da9c-4d88-948f-496e251045ee",
   "metadata": {},
   "outputs": [],
   "source": [
    "data_loc = \"/nas-ctm01/datasets/public/BIOMETRICS/pornography-database/data-processed/middle_40\""
   ]
  },
  {
   "cell_type": "code",
   "execution_count": 18,
   "id": "349d98e4-1e58-4598-b451-32b292564856",
   "metadata": {},
   "outputs": [
    {
     "data": {
      "text/plain": [
       "True"
      ]
     },
     "execution_count": 18,
     "metadata": {},
     "output_type": "execute_result"
    }
   ],
   "source": [
    "os.path.isfile(f\"{data_loc}/data.csv\")"
   ]
  },
  {
   "cell_type": "code",
   "execution_count": 19,
   "id": "660d5d64-7df5-47f5-8083-5cc4dd0b3cc5",
   "metadata": {},
   "outputs": [],
   "source": [
    "df_frames = pd.read_csv(f\"{data_loc}/data.csv\")"
   ]
  },
  {
   "cell_type": "code",
   "execution_count": 20,
   "id": "10712389-86a3-4f79-a97d-40516a3add1e",
   "metadata": {},
   "outputs": [
    {
     "data": {
      "text/html": [
       "<div>\n",
       "<style scoped>\n",
       "    .dataframe tbody tr th:only-of-type {\n",
       "        vertical-align: middle;\n",
       "    }\n",
       "\n",
       "    .dataframe tbody tr th {\n",
       "        vertical-align: top;\n",
       "    }\n",
       "\n",
       "    .dataframe thead th {\n",
       "        text-align: right;\n",
       "    }\n",
       "</style>\n",
       "<table border=\"1\" class=\"dataframe\">\n",
       "  <thead>\n",
       "    <tr style=\"text-align: right;\">\n",
       "      <th></th>\n",
       "      <th>frame</th>\n",
       "      <th>label</th>\n",
       "    </tr>\n",
       "  </thead>\n",
       "  <tbody>\n",
       "    <tr>\n",
       "      <th>0</th>\n",
       "      <td>vNonPorn152#0.jpg</td>\n",
       "      <td>0</td>\n",
       "    </tr>\n",
       "    <tr>\n",
       "      <th>1</th>\n",
       "      <td>vNonPorn152#1.jpg</td>\n",
       "      <td>0</td>\n",
       "    </tr>\n",
       "    <tr>\n",
       "      <th>2</th>\n",
       "      <td>vNonPorn152#2.jpg</td>\n",
       "      <td>0</td>\n",
       "    </tr>\n",
       "    <tr>\n",
       "      <th>3</th>\n",
       "      <td>vNonPorn152#3.jpg</td>\n",
       "      <td>0</td>\n",
       "    </tr>\n",
       "    <tr>\n",
       "      <th>4</th>\n",
       "      <td>vNonPorn152#4.jpg</td>\n",
       "      <td>0</td>\n",
       "    </tr>\n",
       "    <tr>\n",
       "      <th>...</th>\n",
       "      <td>...</td>\n",
       "      <td>...</td>\n",
       "    </tr>\n",
       "    <tr>\n",
       "      <th>31547</th>\n",
       "      <td>vPorn346#35.jpg</td>\n",
       "      <td>1</td>\n",
       "    </tr>\n",
       "    <tr>\n",
       "      <th>31548</th>\n",
       "      <td>vPorn346#36.jpg</td>\n",
       "      <td>1</td>\n",
       "    </tr>\n",
       "    <tr>\n",
       "      <th>31549</th>\n",
       "      <td>vPorn346#37.jpg</td>\n",
       "      <td>1</td>\n",
       "    </tr>\n",
       "    <tr>\n",
       "      <th>31550</th>\n",
       "      <td>vPorn346#38.jpg</td>\n",
       "      <td>1</td>\n",
       "    </tr>\n",
       "    <tr>\n",
       "      <th>31551</th>\n",
       "      <td>vPorn346#39.jpg</td>\n",
       "      <td>1</td>\n",
       "    </tr>\n",
       "  </tbody>\n",
       "</table>\n",
       "<p>31552 rows × 2 columns</p>\n",
       "</div>"
      ],
      "text/plain": [
       "                   frame  label\n",
       "0      vNonPorn152#0.jpg      0\n",
       "1      vNonPorn152#1.jpg      0\n",
       "2      vNonPorn152#2.jpg      0\n",
       "3      vNonPorn152#3.jpg      0\n",
       "4      vNonPorn152#4.jpg      0\n",
       "...                  ...    ...\n",
       "31547    vPorn346#35.jpg      1\n",
       "31548    vPorn346#36.jpg      1\n",
       "31549    vPorn346#37.jpg      1\n",
       "31550    vPorn346#38.jpg      1\n",
       "31551    vPorn346#39.jpg      1\n",
       "\n",
       "[31552 rows x 2 columns]"
      ]
     },
     "execution_count": 20,
     "metadata": {},
     "output_type": "execute_result"
    }
   ],
   "source": [
    "df_frames"
   ]
  },
  {
   "cell_type": "code",
   "execution_count": 21,
   "id": "d7c65515-657c-4fdb-a1cc-388f71da0c78",
   "metadata": {},
   "outputs": [
    {
     "data": {
      "text/html": [
       "<div>\n",
       "<style scoped>\n",
       "    .dataframe tbody tr th:only-of-type {\n",
       "        vertical-align: middle;\n",
       "    }\n",
       "\n",
       "    .dataframe tbody tr th {\n",
       "        vertical-align: top;\n",
       "    }\n",
       "\n",
       "    .dataframe thead th {\n",
       "        text-align: right;\n",
       "    }\n",
       "</style>\n",
       "<table border=\"1\" class=\"dataframe\">\n",
       "  <thead>\n",
       "    <tr style=\"text-align: right;\">\n",
       "      <th></th>\n",
       "      <th>frame</th>\n",
       "      <th>label</th>\n",
       "      <th>video</th>\n",
       "    </tr>\n",
       "  </thead>\n",
       "  <tbody>\n",
       "    <tr>\n",
       "      <th>0</th>\n",
       "      <td>vNonPorn152#0.jpg</td>\n",
       "      <td>0</td>\n",
       "      <td>vNonPorn152</td>\n",
       "    </tr>\n",
       "    <tr>\n",
       "      <th>1</th>\n",
       "      <td>vNonPorn152#1.jpg</td>\n",
       "      <td>0</td>\n",
       "      <td>vNonPorn152</td>\n",
       "    </tr>\n",
       "    <tr>\n",
       "      <th>2</th>\n",
       "      <td>vNonPorn152#2.jpg</td>\n",
       "      <td>0</td>\n",
       "      <td>vNonPorn152</td>\n",
       "    </tr>\n",
       "    <tr>\n",
       "      <th>3</th>\n",
       "      <td>vNonPorn152#3.jpg</td>\n",
       "      <td>0</td>\n",
       "      <td>vNonPorn152</td>\n",
       "    </tr>\n",
       "    <tr>\n",
       "      <th>4</th>\n",
       "      <td>vNonPorn152#4.jpg</td>\n",
       "      <td>0</td>\n",
       "      <td>vNonPorn152</td>\n",
       "    </tr>\n",
       "    <tr>\n",
       "      <th>...</th>\n",
       "      <td>...</td>\n",
       "      <td>...</td>\n",
       "      <td>...</td>\n",
       "    </tr>\n",
       "    <tr>\n",
       "      <th>31547</th>\n",
       "      <td>vPorn346#35.jpg</td>\n",
       "      <td>1</td>\n",
       "      <td>vPorn346</td>\n",
       "    </tr>\n",
       "    <tr>\n",
       "      <th>31548</th>\n",
       "      <td>vPorn346#36.jpg</td>\n",
       "      <td>1</td>\n",
       "      <td>vPorn346</td>\n",
       "    </tr>\n",
       "    <tr>\n",
       "      <th>31549</th>\n",
       "      <td>vPorn346#37.jpg</td>\n",
       "      <td>1</td>\n",
       "      <td>vPorn346</td>\n",
       "    </tr>\n",
       "    <tr>\n",
       "      <th>31550</th>\n",
       "      <td>vPorn346#38.jpg</td>\n",
       "      <td>1</td>\n",
       "      <td>vPorn346</td>\n",
       "    </tr>\n",
       "    <tr>\n",
       "      <th>31551</th>\n",
       "      <td>vPorn346#39.jpg</td>\n",
       "      <td>1</td>\n",
       "      <td>vPorn346</td>\n",
       "    </tr>\n",
       "  </tbody>\n",
       "</table>\n",
       "<p>31552 rows × 3 columns</p>\n",
       "</div>"
      ],
      "text/plain": [
       "                   frame  label        video\n",
       "0      vNonPorn152#0.jpg      0  vNonPorn152\n",
       "1      vNonPorn152#1.jpg      0  vNonPorn152\n",
       "2      vNonPorn152#2.jpg      0  vNonPorn152\n",
       "3      vNonPorn152#3.jpg      0  vNonPorn152\n",
       "4      vNonPorn152#4.jpg      0  vNonPorn152\n",
       "...                  ...    ...          ...\n",
       "31547    vPorn346#35.jpg      1     vPorn346\n",
       "31548    vPorn346#36.jpg      1     vPorn346\n",
       "31549    vPorn346#37.jpg      1     vPorn346\n",
       "31550    vPorn346#38.jpg      1     vPorn346\n",
       "31551    vPorn346#39.jpg      1     vPorn346\n",
       "\n",
       "[31552 rows x 3 columns]"
      ]
     },
     "execution_count": 21,
     "metadata": {},
     "output_type": "execute_result"
    }
   ],
   "source": [
    "df_frames[\"video\"] = [frame_name.split(\"#\")[0] for frame_name in df_frames[\"frame\"]]\n",
    "df_frames"
   ]
  },
  {
   "cell_type": "code",
   "execution_count": 30,
   "id": "7b6b42a4-d61e-45c9-9263-f363ca944e6b",
   "metadata": {},
   "outputs": [
    {
     "data": {
      "text/html": [
       "<div>\n",
       "<style scoped>\n",
       "    .dataframe tbody tr th:only-of-type {\n",
       "        vertical-align: middle;\n",
       "    }\n",
       "\n",
       "    .dataframe tbody tr th {\n",
       "        vertical-align: top;\n",
       "    }\n",
       "\n",
       "    .dataframe thead th {\n",
       "        text-align: right;\n",
       "    }\n",
       "</style>\n",
       "<table border=\"1\" class=\"dataframe\">\n",
       "  <thead>\n",
       "    <tr style=\"text-align: right;\">\n",
       "      <th></th>\n",
       "      <th>video</th>\n",
       "      <th>label</th>\n",
       "      <th>frame_count</th>\n",
       "    </tr>\n",
       "  </thead>\n",
       "  <tbody>\n",
       "    <tr>\n",
       "      <th>0</th>\n",
       "      <td>vNonPorn1</td>\n",
       "      <td>0</td>\n",
       "      <td>40</td>\n",
       "    </tr>\n",
       "    <tr>\n",
       "      <th>1</th>\n",
       "      <td>vNonPorn10</td>\n",
       "      <td>0</td>\n",
       "      <td>40</td>\n",
       "    </tr>\n",
       "    <tr>\n",
       "      <th>2</th>\n",
       "      <td>vNonPorn100</td>\n",
       "      <td>0</td>\n",
       "      <td>40</td>\n",
       "    </tr>\n",
       "    <tr>\n",
       "      <th>3</th>\n",
       "      <td>vNonPorn1006</td>\n",
       "      <td>0</td>\n",
       "      <td>40</td>\n",
       "    </tr>\n",
       "    <tr>\n",
       "      <th>4</th>\n",
       "      <td>vNonPorn1007</td>\n",
       "      <td>0</td>\n",
       "      <td>40</td>\n",
       "    </tr>\n",
       "    <tr>\n",
       "      <th>...</th>\n",
       "      <td>...</td>\n",
       "      <td>...</td>\n",
       "      <td>...</td>\n",
       "    </tr>\n",
       "    <tr>\n",
       "      <th>788</th>\n",
       "      <td>vPorn94</td>\n",
       "      <td>1</td>\n",
       "      <td>40</td>\n",
       "    </tr>\n",
       "    <tr>\n",
       "      <th>789</th>\n",
       "      <td>vPorn95</td>\n",
       "      <td>1</td>\n",
       "      <td>40</td>\n",
       "    </tr>\n",
       "    <tr>\n",
       "      <th>790</th>\n",
       "      <td>vPorn96</td>\n",
       "      <td>1</td>\n",
       "      <td>40</td>\n",
       "    </tr>\n",
       "    <tr>\n",
       "      <th>791</th>\n",
       "      <td>vPorn97</td>\n",
       "      <td>1</td>\n",
       "      <td>40</td>\n",
       "    </tr>\n",
       "    <tr>\n",
       "      <th>792</th>\n",
       "      <td>vPorn98</td>\n",
       "      <td>1</td>\n",
       "      <td>40</td>\n",
       "    </tr>\n",
       "  </tbody>\n",
       "</table>\n",
       "<p>793 rows × 3 columns</p>\n",
       "</div>"
      ],
      "text/plain": [
       "            video  label  frame_count\n",
       "0       vNonPorn1      0           40\n",
       "1      vNonPorn10      0           40\n",
       "2     vNonPorn100      0           40\n",
       "3    vNonPorn1006      0           40\n",
       "4    vNonPorn1007      0           40\n",
       "..            ...    ...          ...\n",
       "788       vPorn94      1           40\n",
       "789       vPorn95      1           40\n",
       "790       vPorn96      1           40\n",
       "791       vPorn97      1           40\n",
       "792       vPorn98      1           40\n",
       "\n",
       "[793 rows x 3 columns]"
      ]
     },
     "execution_count": 30,
     "metadata": {},
     "output_type": "execute_result"
    }
   ],
   "source": [
    "agg = {\"video\": \"first\", \"label\": \"first\", \"frame\": \"size\"}\n",
    "df_videos = df_frames[[\"video\", \"frame\", \"label\"]]\n",
    "df_videos = df_videos.groupby(\"video\").aggregate(agg).reset_index(drop=True)\n",
    "df_videos = df_videos.rename(columns={\"frame\": \"frame_count\"})\n",
    "df_videos"
   ]
  },
  {
   "cell_type": "code",
   "execution_count": 31,
   "id": "87518e03-5a76-4d80-843d-013f3df3307d",
   "metadata": {},
   "outputs": [
    {
     "data": {
      "text/html": [
       "<div>\n",
       "<style scoped>\n",
       "    .dataframe tbody tr th:only-of-type {\n",
       "        vertical-align: middle;\n",
       "    }\n",
       "\n",
       "    .dataframe tbody tr th {\n",
       "        vertical-align: top;\n",
       "    }\n",
       "\n",
       "    .dataframe thead th {\n",
       "        text-align: right;\n",
       "    }\n",
       "</style>\n",
       "<table border=\"1\" class=\"dataframe\">\n",
       "  <thead>\n",
       "    <tr style=\"text-align: right;\">\n",
       "      <th></th>\n",
       "      <th>video</th>\n",
       "      <th>label</th>\n",
       "      <th>frame_count</th>\n",
       "    </tr>\n",
       "  </thead>\n",
       "  <tbody>\n",
       "    <tr>\n",
       "      <th>83</th>\n",
       "      <td>vNonPorn1080</td>\n",
       "      <td>0</td>\n",
       "      <td>21</td>\n",
       "    </tr>\n",
       "    <tr>\n",
       "      <th>85</th>\n",
       "      <td>vNonPorn1082</td>\n",
       "      <td>0</td>\n",
       "      <td>22</td>\n",
       "    </tr>\n",
       "    <tr>\n",
       "      <th>90</th>\n",
       "      <td>vNonPorn1087</td>\n",
       "      <td>0</td>\n",
       "      <td>22</td>\n",
       "    </tr>\n",
       "    <tr>\n",
       "      <th>110</th>\n",
       "      <td>vNonPorn1107</td>\n",
       "      <td>0</td>\n",
       "      <td>21</td>\n",
       "    </tr>\n",
       "    <tr>\n",
       "      <th>146</th>\n",
       "      <td>vNonPorn1141</td>\n",
       "      <td>0</td>\n",
       "      <td>21</td>\n",
       "    </tr>\n",
       "    <tr>\n",
       "      <th>177</th>\n",
       "      <td>vNonPorn1173</td>\n",
       "      <td>0</td>\n",
       "      <td>21</td>\n",
       "    </tr>\n",
       "    <tr>\n",
       "      <th>179</th>\n",
       "      <td>vNonPorn1175</td>\n",
       "      <td>0</td>\n",
       "      <td>21</td>\n",
       "    </tr>\n",
       "    <tr>\n",
       "      <th>182</th>\n",
       "      <td>vNonPorn1179</td>\n",
       "      <td>0</td>\n",
       "      <td>21</td>\n",
       "    </tr>\n",
       "    <tr>\n",
       "      <th>188</th>\n",
       "      <td>vNonPorn1186</td>\n",
       "      <td>0</td>\n",
       "      <td>22</td>\n",
       "    </tr>\n",
       "  </tbody>\n",
       "</table>\n",
       "</div>"
      ],
      "text/plain": [
       "            video  label  frame_count\n",
       "83   vNonPorn1080      0           21\n",
       "85   vNonPorn1082      0           22\n",
       "90   vNonPorn1087      0           22\n",
       "110  vNonPorn1107      0           21\n",
       "146  vNonPorn1141      0           21\n",
       "177  vNonPorn1173      0           21\n",
       "179  vNonPorn1175      0           21\n",
       "182  vNonPorn1179      0           21\n",
       "188  vNonPorn1186      0           22"
      ]
     },
     "execution_count": 31,
     "metadata": {},
     "output_type": "execute_result"
    }
   ],
   "source": [
    "# Videos from which it was not possible to extract 40 frames\n",
    "df_videos[df_videos[\"frame_count\"] < 40]"
   ]
  },
  {
   "cell_type": "code",
   "execution_count": 34,
   "id": "148e595f-1b06-41e5-84da-e679214741de",
   "metadata": {},
   "outputs": [
    {
     "data": {
      "text/plain": [
       "793"
      ]
     },
     "execution_count": 34,
     "metadata": {},
     "output_type": "execute_result"
    }
   ],
   "source": [
    "len(df_videos) # 7 videos with 0 frames extracted"
   ]
  },
  {
   "cell_type": "code",
   "execution_count": 32,
   "id": "4654f819-7946-49e8-b497-9dadfc8f3b30",
   "metadata": {},
   "outputs": [
    {
     "data": {
      "text/plain": [
       "15552"
      ]
     },
     "execution_count": 32,
     "metadata": {},
     "output_type": "execute_result"
    }
   ],
   "source": [
    "len(df_frames[df_frames[\"label\"] == 0]) # Number of non-porn frames"
   ]
  },
  {
   "cell_type": "code",
   "execution_count": 33,
   "id": "617ed2f8-47d5-41ed-a07b-40cf3237412b",
   "metadata": {},
   "outputs": [
    {
     "data": {
      "text/plain": [
       "16000"
      ]
     },
     "execution_count": 33,
     "metadata": {},
     "output_type": "execute_result"
    }
   ],
   "source": [
    "len(df_frames[df_frames[\"label\"] == 1]) # Number of porn frames"
   ]
  }
 ],
 "metadata": {
  "kernelspec": {
   "display_name": "Python 3 (ipykernel)",
   "language": "python",
   "name": "python3"
  },
  "language_info": {
   "codemirror_mode": {
    "name": "ipython",
    "version": 3
   },
   "file_extension": ".py",
   "mimetype": "text/x-python",
   "name": "python",
   "nbconvert_exporter": "python",
   "pygments_lexer": "ipython3",
   "version": "3.8.10"
  }
 },
 "nbformat": 4,
 "nbformat_minor": 5
}
