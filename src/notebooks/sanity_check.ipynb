{
 "cells": [
  {
   "cell_type": "markdown",
   "id": "746d12ed",
   "metadata": {},
   "source": [
    "# Sanity checks"
   ]
  },
  {
   "cell_type": "code",
   "execution_count": 1,
   "id": "8c1b5e93",
   "metadata": {},
   "outputs": [
    {
     "name": "stdout",
     "output_type": "stream",
     "text": [
      "/nas-ctm01/homes/mjvieira/classify-protect-illegal-porn-xai\n"
     ]
    }
   ],
   "source": [
    "import os\n",
    "\n",
    "os.chdir(os.path.abspath(os.path.join(os.getcwd(), \"../..\")))\n",
    "print(os.getcwd())\n",
    "\n",
    "import pandas as pd"
   ]
  },
  {
   "cell_type": "markdown",
   "id": "8a2d95c0",
   "metadata": {},
   "source": [
    "## Frame extraction"
   ]
  },
  {
   "cell_type": "markdown",
   "id": "b1408635",
   "metadata": {},
   "source": [
    "### Pornography-800"
   ]
  },
  {
   "cell_type": "code",
   "execution_count": 3,
   "id": "f641c35d",
   "metadata": {},
   "outputs": [],
   "source": [
    "paths = [\n",
    "    \"/nas-ctm01/datasets/public/BIOMETRICS/pornography-database/data/Database/vNonPornEasy\",\n",
    "    \"/nas-ctm01/datasets/public/BIOMETRICS/pornography-database/data/Database/vNonPornDifficulty\",\n",
    "    \"/nas-ctm01/datasets/public/BIOMETRICS/pornography-database/data/Database/vPorn\",\n",
    "]"
   ]
  },
  {
   "cell_type": "markdown",
   "id": "d5fc710e",
   "metadata": {},
   "source": [
    "#### even-20"
   ]
  },
  {
   "cell_type": "code",
   "execution_count": 31,
   "id": "98817283-da9c-4d88-948f-496e251045ee",
   "metadata": {},
   "outputs": [
    {
     "data": {
      "text/plain": [
       "True"
      ]
     },
     "execution_count": 31,
     "metadata": {},
     "output_type": "execute_result"
    }
   ],
   "source": [
    "# check if data file is available\n",
    "data_loc_800_even_20 = \"/nas-ctm01/datasets/public/BIOMETRICS/pornography-database/data-processed/even-20\"\n",
    "os.path.isfile(f\"{data_loc_800_even_20}/data.csv\")"
   ]
  },
  {
   "cell_type": "code",
   "execution_count": 32,
   "id": "660d5d64-7df5-47f5-8083-5cc4dd0b3cc5",
   "metadata": {},
   "outputs": [
    {
     "data": {
      "text/html": [
       "<div>\n",
       "<style scoped>\n",
       "    .dataframe tbody tr th:only-of-type {\n",
       "        vertical-align: middle;\n",
       "    }\n",
       "\n",
       "    .dataframe tbody tr th {\n",
       "        vertical-align: top;\n",
       "    }\n",
       "\n",
       "    .dataframe thead th {\n",
       "        text-align: right;\n",
       "    }\n",
       "</style>\n",
       "<table border=\"1\" class=\"dataframe\">\n",
       "  <thead>\n",
       "    <tr style=\"text-align: right;\">\n",
       "      <th></th>\n",
       "      <th>frame</th>\n",
       "      <th>label</th>\n",
       "      <th>video</th>\n",
       "    </tr>\n",
       "  </thead>\n",
       "  <tbody>\n",
       "    <tr>\n",
       "      <th>0</th>\n",
       "      <td>vNonPorn152#0.jpg</td>\n",
       "      <td>0</td>\n",
       "      <td>vNonPorn152</td>\n",
       "    </tr>\n",
       "    <tr>\n",
       "      <th>1</th>\n",
       "      <td>vNonPorn152#1.jpg</td>\n",
       "      <td>0</td>\n",
       "      <td>vNonPorn152</td>\n",
       "    </tr>\n",
       "    <tr>\n",
       "      <th>2</th>\n",
       "      <td>vNonPorn152#2.jpg</td>\n",
       "      <td>0</td>\n",
       "      <td>vNonPorn152</td>\n",
       "    </tr>\n",
       "    <tr>\n",
       "      <th>3</th>\n",
       "      <td>vNonPorn152#3.jpg</td>\n",
       "      <td>0</td>\n",
       "      <td>vNonPorn152</td>\n",
       "    </tr>\n",
       "    <tr>\n",
       "      <th>4</th>\n",
       "      <td>vNonPorn152#4.jpg</td>\n",
       "      <td>0</td>\n",
       "      <td>vNonPorn152</td>\n",
       "    </tr>\n",
       "    <tr>\n",
       "      <th>...</th>\n",
       "      <td>...</td>\n",
       "      <td>...</td>\n",
       "      <td>...</td>\n",
       "    </tr>\n",
       "    <tr>\n",
       "      <th>15955</th>\n",
       "      <td>vPorn346#15.jpg</td>\n",
       "      <td>1</td>\n",
       "      <td>vPorn346</td>\n",
       "    </tr>\n",
       "    <tr>\n",
       "      <th>15956</th>\n",
       "      <td>vPorn346#16.jpg</td>\n",
       "      <td>1</td>\n",
       "      <td>vPorn346</td>\n",
       "    </tr>\n",
       "    <tr>\n",
       "      <th>15957</th>\n",
       "      <td>vPorn346#17.jpg</td>\n",
       "      <td>1</td>\n",
       "      <td>vPorn346</td>\n",
       "    </tr>\n",
       "    <tr>\n",
       "      <th>15958</th>\n",
       "      <td>vPorn346#18.jpg</td>\n",
       "      <td>1</td>\n",
       "      <td>vPorn346</td>\n",
       "    </tr>\n",
       "    <tr>\n",
       "      <th>15959</th>\n",
       "      <td>vPorn346#19.jpg</td>\n",
       "      <td>1</td>\n",
       "      <td>vPorn346</td>\n",
       "    </tr>\n",
       "  </tbody>\n",
       "</table>\n",
       "<p>15960 rows × 3 columns</p>\n",
       "</div>"
      ],
      "text/plain": [
       "                   frame  label        video\n",
       "0      vNonPorn152#0.jpg      0  vNonPorn152\n",
       "1      vNonPorn152#1.jpg      0  vNonPorn152\n",
       "2      vNonPorn152#2.jpg      0  vNonPorn152\n",
       "3      vNonPorn152#3.jpg      0  vNonPorn152\n",
       "4      vNonPorn152#4.jpg      0  vNonPorn152\n",
       "...                  ...    ...          ...\n",
       "15955    vPorn346#15.jpg      1     vPorn346\n",
       "15956    vPorn346#16.jpg      1     vPorn346\n",
       "15957    vPorn346#17.jpg      1     vPorn346\n",
       "15958    vPorn346#18.jpg      1     vPorn346\n",
       "15959    vPorn346#19.jpg      1     vPorn346\n",
       "\n",
       "[15960 rows x 3 columns]"
      ]
     },
     "execution_count": 32,
     "metadata": {},
     "output_type": "execute_result"
    }
   ],
   "source": [
    "df_800_even_20 = pd.read_csv(f\"{data_loc_800_even_20}/data.csv\")\n",
    "df_800_even_20[\"video\"] = [frame_name.split(\"#\")[0] for frame_name in df_800_even_20[\"frame\"]]\n",
    "df_800_even_20"
   ]
  },
  {
   "cell_type": "code",
   "execution_count": 33,
   "id": "143c5924",
   "metadata": {},
   "outputs": [
    {
     "data": {
      "text/html": [
       "<div>\n",
       "<style scoped>\n",
       "    .dataframe tbody tr th:only-of-type {\n",
       "        vertical-align: middle;\n",
       "    }\n",
       "\n",
       "    .dataframe tbody tr th {\n",
       "        vertical-align: top;\n",
       "    }\n",
       "\n",
       "    .dataframe thead th {\n",
       "        text-align: right;\n",
       "    }\n",
       "</style>\n",
       "<table border=\"1\" class=\"dataframe\">\n",
       "  <thead>\n",
       "    <tr style=\"text-align: right;\">\n",
       "      <th></th>\n",
       "      <th>video</th>\n",
       "      <th>label</th>\n",
       "      <th>frame_count</th>\n",
       "    </tr>\n",
       "  </thead>\n",
       "  <tbody>\n",
       "    <tr>\n",
       "      <th>0</th>\n",
       "      <td>vNonPorn1</td>\n",
       "      <td>0</td>\n",
       "      <td>20</td>\n",
       "    </tr>\n",
       "    <tr>\n",
       "      <th>1</th>\n",
       "      <td>vNonPorn10</td>\n",
       "      <td>0</td>\n",
       "      <td>20</td>\n",
       "    </tr>\n",
       "    <tr>\n",
       "      <th>2</th>\n",
       "      <td>vNonPorn100</td>\n",
       "      <td>0</td>\n",
       "      <td>20</td>\n",
       "    </tr>\n",
       "    <tr>\n",
       "      <th>3</th>\n",
       "      <td>vNonPorn1006</td>\n",
       "      <td>0</td>\n",
       "      <td>20</td>\n",
       "    </tr>\n",
       "    <tr>\n",
       "      <th>4</th>\n",
       "      <td>vNonPorn1007</td>\n",
       "      <td>0</td>\n",
       "      <td>20</td>\n",
       "    </tr>\n",
       "    <tr>\n",
       "      <th>...</th>\n",
       "      <td>...</td>\n",
       "      <td>...</td>\n",
       "      <td>...</td>\n",
       "    </tr>\n",
       "    <tr>\n",
       "      <th>793</th>\n",
       "      <td>vPorn94</td>\n",
       "      <td>1</td>\n",
       "      <td>20</td>\n",
       "    </tr>\n",
       "    <tr>\n",
       "      <th>794</th>\n",
       "      <td>vPorn95</td>\n",
       "      <td>1</td>\n",
       "      <td>20</td>\n",
       "    </tr>\n",
       "    <tr>\n",
       "      <th>795</th>\n",
       "      <td>vPorn96</td>\n",
       "      <td>1</td>\n",
       "      <td>20</td>\n",
       "    </tr>\n",
       "    <tr>\n",
       "      <th>796</th>\n",
       "      <td>vPorn97</td>\n",
       "      <td>1</td>\n",
       "      <td>20</td>\n",
       "    </tr>\n",
       "    <tr>\n",
       "      <th>797</th>\n",
       "      <td>vPorn98</td>\n",
       "      <td>1</td>\n",
       "      <td>20</td>\n",
       "    </tr>\n",
       "  </tbody>\n",
       "</table>\n",
       "<p>798 rows × 3 columns</p>\n",
       "</div>"
      ],
      "text/plain": [
       "            video  label  frame_count\n",
       "0       vNonPorn1      0           20\n",
       "1      vNonPorn10      0           20\n",
       "2     vNonPorn100      0           20\n",
       "3    vNonPorn1006      0           20\n",
       "4    vNonPorn1007      0           20\n",
       "..            ...    ...          ...\n",
       "793       vPorn94      1           20\n",
       "794       vPorn95      1           20\n",
       "795       vPorn96      1           20\n",
       "796       vPorn97      1           20\n",
       "797       vPorn98      1           20\n",
       "\n",
       "[798 rows x 3 columns]"
      ]
     },
     "execution_count": 33,
     "metadata": {},
     "output_type": "execute_result"
    }
   ],
   "source": [
    "agg = {\"video\": \"first\", \"label\": \"first\", \"frame\": \"size\"}\n",
    "df_800_even_20_videos = df_800_even_20[[\"video\", \"frame\", \"label\"]]\n",
    "df_800_even_20_videos = df_800_even_20_videos.groupby(\"video\").aggregate(agg).reset_index(drop=True)\n",
    "df_800_even_20_videos = df_800_even_20_videos.rename(columns={\"frame\": \"frame_count\"})\n",
    "df_800_even_20_videos"
   ]
  },
  {
   "cell_type": "code",
   "execution_count": 34,
   "id": "0e717a3f",
   "metadata": {},
   "outputs": [
    {
     "name": "stdout",
     "output_type": "stream",
     "text": [
      "videos in /nas-ctm01/datasets/public/BIOMETRICS/pornography-database/data/Database/vNonPornEasy: 200\n",
      "videos in /nas-ctm01/datasets/public/BIOMETRICS/pornography-database/data/Database/vNonPornDifficulty: 198\n",
      "videos in /nas-ctm01/datasets/public/BIOMETRICS/pornography-database/data/Database/vPorn: 400\n"
     ]
    }
   ],
   "source": [
    "for path in paths:\n",
    "    videos_in_path = 0\n",
    "    for v in os.listdir(path):\n",
    "        if v.startswith(\".\"):\n",
    "            continue\n",
    "        \n",
    "        videos_in_path += 1\n",
    "        v_name = os.path.splitext(v)[0]\n",
    "        \n",
    "        if len(df_800_even_20_videos[df_800_even_20_videos[\"video\"] == v_name]) == 0:\n",
    "            print(f\"{v_name} not in dataset (it belongs to {path})\")\n",
    "        else:\n",
    "            df_800_even_20_videos.loc[df_800_even_20_videos[\"video\"] == v_name, \"folder\"] = os.path.basename(path)\n",
    "    \n",
    "    print(f\"videos in {path}: {videos_in_path}\")"
   ]
  },
  {
   "cell_type": "code",
   "execution_count": 35,
   "id": "272bd1a6",
   "metadata": {},
   "outputs": [
    {
     "data": {
      "text/html": [
       "<div>\n",
       "<style scoped>\n",
       "    .dataframe tbody tr th:only-of-type {\n",
       "        vertical-align: middle;\n",
       "    }\n",
       "\n",
       "    .dataframe tbody tr th {\n",
       "        vertical-align: top;\n",
       "    }\n",
       "\n",
       "    .dataframe thead th {\n",
       "        text-align: right;\n",
       "    }\n",
       "</style>\n",
       "<table border=\"1\" class=\"dataframe\">\n",
       "  <thead>\n",
       "    <tr style=\"text-align: right;\">\n",
       "      <th></th>\n",
       "      <th>video</th>\n",
       "      <th>label</th>\n",
       "      <th>frame_count</th>\n",
       "      <th>folder</th>\n",
       "    </tr>\n",
       "  </thead>\n",
       "  <tbody>\n",
       "    <tr>\n",
       "      <th>0</th>\n",
       "      <td>vNonPorn1</td>\n",
       "      <td>0</td>\n",
       "      <td>20</td>\n",
       "      <td>vNonPornEasy</td>\n",
       "    </tr>\n",
       "    <tr>\n",
       "      <th>1</th>\n",
       "      <td>vNonPorn10</td>\n",
       "      <td>0</td>\n",
       "      <td>20</td>\n",
       "      <td>vNonPornDifficulty</td>\n",
       "    </tr>\n",
       "    <tr>\n",
       "      <th>2</th>\n",
       "      <td>vNonPorn100</td>\n",
       "      <td>0</td>\n",
       "      <td>20</td>\n",
       "      <td>vNonPornEasy</td>\n",
       "    </tr>\n",
       "    <tr>\n",
       "      <th>3</th>\n",
       "      <td>vNonPorn1006</td>\n",
       "      <td>0</td>\n",
       "      <td>20</td>\n",
       "      <td>vNonPornDifficulty</td>\n",
       "    </tr>\n",
       "    <tr>\n",
       "      <th>4</th>\n",
       "      <td>vNonPorn1007</td>\n",
       "      <td>0</td>\n",
       "      <td>20</td>\n",
       "      <td>vNonPornDifficulty</td>\n",
       "    </tr>\n",
       "    <tr>\n",
       "      <th>...</th>\n",
       "      <td>...</td>\n",
       "      <td>...</td>\n",
       "      <td>...</td>\n",
       "      <td>...</td>\n",
       "    </tr>\n",
       "    <tr>\n",
       "      <th>793</th>\n",
       "      <td>vPorn94</td>\n",
       "      <td>1</td>\n",
       "      <td>20</td>\n",
       "      <td>vPorn</td>\n",
       "    </tr>\n",
       "    <tr>\n",
       "      <th>794</th>\n",
       "      <td>vPorn95</td>\n",
       "      <td>1</td>\n",
       "      <td>20</td>\n",
       "      <td>vPorn</td>\n",
       "    </tr>\n",
       "    <tr>\n",
       "      <th>795</th>\n",
       "      <td>vPorn96</td>\n",
       "      <td>1</td>\n",
       "      <td>20</td>\n",
       "      <td>vPorn</td>\n",
       "    </tr>\n",
       "    <tr>\n",
       "      <th>796</th>\n",
       "      <td>vPorn97</td>\n",
       "      <td>1</td>\n",
       "      <td>20</td>\n",
       "      <td>vPorn</td>\n",
       "    </tr>\n",
       "    <tr>\n",
       "      <th>797</th>\n",
       "      <td>vPorn98</td>\n",
       "      <td>1</td>\n",
       "      <td>20</td>\n",
       "      <td>vPorn</td>\n",
       "    </tr>\n",
       "  </tbody>\n",
       "</table>\n",
       "<p>798 rows × 4 columns</p>\n",
       "</div>"
      ],
      "text/plain": [
       "            video  label  frame_count              folder\n",
       "0       vNonPorn1      0           20        vNonPornEasy\n",
       "1      vNonPorn10      0           20  vNonPornDifficulty\n",
       "2     vNonPorn100      0           20        vNonPornEasy\n",
       "3    vNonPorn1006      0           20  vNonPornDifficulty\n",
       "4    vNonPorn1007      0           20  vNonPornDifficulty\n",
       "..            ...    ...          ...                 ...\n",
       "793       vPorn94      1           20               vPorn\n",
       "794       vPorn95      1           20               vPorn\n",
       "795       vPorn96      1           20               vPorn\n",
       "796       vPorn97      1           20               vPorn\n",
       "797       vPorn98      1           20               vPorn\n",
       "\n",
       "[798 rows x 4 columns]"
      ]
     },
     "execution_count": 35,
     "metadata": {},
     "output_type": "execute_result"
    }
   ],
   "source": [
    "df_800_even_20_videos"
   ]
  },
  {
   "cell_type": "code",
   "execution_count": 36,
   "id": "5acf01f6",
   "metadata": {},
   "outputs": [
    {
     "data": {
      "text/html": [
       "<div>\n",
       "<style scoped>\n",
       "    .dataframe tbody tr th:only-of-type {\n",
       "        vertical-align: middle;\n",
       "    }\n",
       "\n",
       "    .dataframe tbody tr th {\n",
       "        vertical-align: top;\n",
       "    }\n",
       "\n",
       "    .dataframe thead th {\n",
       "        text-align: right;\n",
       "    }\n",
       "</style>\n",
       "<table border=\"1\" class=\"dataframe\">\n",
       "  <thead>\n",
       "    <tr style=\"text-align: right;\">\n",
       "      <th></th>\n",
       "      <th>video</th>\n",
       "      <th>label</th>\n",
       "      <th>frame_count</th>\n",
       "      <th>folder</th>\n",
       "    </tr>\n",
       "  </thead>\n",
       "  <tbody>\n",
       "  </tbody>\n",
       "</table>\n",
       "</div>"
      ],
      "text/plain": [
       "Empty DataFrame\n",
       "Columns: [video, label, frame_count, folder]\n",
       "Index: []"
      ]
     },
     "execution_count": 36,
     "metadata": {},
     "output_type": "execute_result"
    }
   ],
   "source": [
    "# videos from which it was not possible to extract 20 frames\n",
    "df_800_even_20_videos[df_800_even_20_videos[\"frame_count\"] < 20]"
   ]
  },
  {
   "cell_type": "code",
   "execution_count": 37,
   "id": "148e595f-1b06-41e5-84da-e679214741de",
   "metadata": {},
   "outputs": [
    {
     "name": "stdout",
     "output_type": "stream",
     "text": [
      "number of videos: 798\n",
      "number of non-porn frames: 7960\n",
      "number of porn frames: 8000\n"
     ]
    }
   ],
   "source": [
    "# NOTE: I accidentally removed one video from its original location\n",
    "\n",
    "print(\"number of videos:\", len(df_800_even_20_videos))\n",
    "print(\"number of non-porn frames:\", len(df_800_even_20[df_800_even_20[\"label\"] == 0]))\n",
    "print(\"number of porn frames:\", len(df_800_even_20[df_800_even_20[\"label\"] == 1]))"
   ]
  },
  {
   "cell_type": "markdown",
   "id": "d898e00d",
   "metadata": {},
   "source": [
    "#### middle-20"
   ]
  },
  {
   "cell_type": "code",
   "execution_count": 23,
   "id": "90e176a2",
   "metadata": {},
   "outputs": [
    {
     "data": {
      "text/plain": [
       "True"
      ]
     },
     "execution_count": 23,
     "metadata": {},
     "output_type": "execute_result"
    }
   ],
   "source": [
    "# check if data file is available\n",
    "data_loc_800_middle_20 = \"/nas-ctm01/datasets/public/BIOMETRICS/pornography-database/data-processed/middle-20\"\n",
    "os.path.isfile(f\"{data_loc_800_middle_20}/data.csv\")"
   ]
  },
  {
   "cell_type": "code",
   "execution_count": 24,
   "id": "b2a943f8",
   "metadata": {},
   "outputs": [
    {
     "data": {
      "text/html": [
       "<div>\n",
       "<style scoped>\n",
       "    .dataframe tbody tr th:only-of-type {\n",
       "        vertical-align: middle;\n",
       "    }\n",
       "\n",
       "    .dataframe tbody tr th {\n",
       "        vertical-align: top;\n",
       "    }\n",
       "\n",
       "    .dataframe thead th {\n",
       "        text-align: right;\n",
       "    }\n",
       "</style>\n",
       "<table border=\"1\" class=\"dataframe\">\n",
       "  <thead>\n",
       "    <tr style=\"text-align: right;\">\n",
       "      <th></th>\n",
       "      <th>frame</th>\n",
       "      <th>label</th>\n",
       "      <th>video</th>\n",
       "    </tr>\n",
       "  </thead>\n",
       "  <tbody>\n",
       "    <tr>\n",
       "      <th>0</th>\n",
       "      <td>vNonPorn152#0.jpg</td>\n",
       "      <td>0</td>\n",
       "      <td>vNonPorn152</td>\n",
       "    </tr>\n",
       "    <tr>\n",
       "      <th>1</th>\n",
       "      <td>vNonPorn152#1.jpg</td>\n",
       "      <td>0</td>\n",
       "      <td>vNonPorn152</td>\n",
       "    </tr>\n",
       "    <tr>\n",
       "      <th>2</th>\n",
       "      <td>vNonPorn152#2.jpg</td>\n",
       "      <td>0</td>\n",
       "      <td>vNonPorn152</td>\n",
       "    </tr>\n",
       "    <tr>\n",
       "      <th>3</th>\n",
       "      <td>vNonPorn152#3.jpg</td>\n",
       "      <td>0</td>\n",
       "      <td>vNonPorn152</td>\n",
       "    </tr>\n",
       "    <tr>\n",
       "      <th>4</th>\n",
       "      <td>vNonPorn152#4.jpg</td>\n",
       "      <td>0</td>\n",
       "      <td>vNonPorn152</td>\n",
       "    </tr>\n",
       "    <tr>\n",
       "      <th>...</th>\n",
       "      <td>...</td>\n",
       "      <td>...</td>\n",
       "      <td>...</td>\n",
       "    </tr>\n",
       "    <tr>\n",
       "      <th>15955</th>\n",
       "      <td>vPorn346#15.jpg</td>\n",
       "      <td>1</td>\n",
       "      <td>vPorn346</td>\n",
       "    </tr>\n",
       "    <tr>\n",
       "      <th>15956</th>\n",
       "      <td>vPorn346#16.jpg</td>\n",
       "      <td>1</td>\n",
       "      <td>vPorn346</td>\n",
       "    </tr>\n",
       "    <tr>\n",
       "      <th>15957</th>\n",
       "      <td>vPorn346#17.jpg</td>\n",
       "      <td>1</td>\n",
       "      <td>vPorn346</td>\n",
       "    </tr>\n",
       "    <tr>\n",
       "      <th>15958</th>\n",
       "      <td>vPorn346#18.jpg</td>\n",
       "      <td>1</td>\n",
       "      <td>vPorn346</td>\n",
       "    </tr>\n",
       "    <tr>\n",
       "      <th>15959</th>\n",
       "      <td>vPorn346#19.jpg</td>\n",
       "      <td>1</td>\n",
       "      <td>vPorn346</td>\n",
       "    </tr>\n",
       "  </tbody>\n",
       "</table>\n",
       "<p>15960 rows × 3 columns</p>\n",
       "</div>"
      ],
      "text/plain": [
       "                   frame  label        video\n",
       "0      vNonPorn152#0.jpg      0  vNonPorn152\n",
       "1      vNonPorn152#1.jpg      0  vNonPorn152\n",
       "2      vNonPorn152#2.jpg      0  vNonPorn152\n",
       "3      vNonPorn152#3.jpg      0  vNonPorn152\n",
       "4      vNonPorn152#4.jpg      0  vNonPorn152\n",
       "...                  ...    ...          ...\n",
       "15955    vPorn346#15.jpg      1     vPorn346\n",
       "15956    vPorn346#16.jpg      1     vPorn346\n",
       "15957    vPorn346#17.jpg      1     vPorn346\n",
       "15958    vPorn346#18.jpg      1     vPorn346\n",
       "15959    vPorn346#19.jpg      1     vPorn346\n",
       "\n",
       "[15960 rows x 3 columns]"
      ]
     },
     "execution_count": 24,
     "metadata": {},
     "output_type": "execute_result"
    }
   ],
   "source": [
    "df_800_middle_20 = pd.read_csv(f\"{data_loc_800_middle_20}/data.csv\")\n",
    "df_800_middle_20[\"video\"] = [frame_name.split(\"#\")[0] for frame_name in df_800_middle_20[\"frame\"]]\n",
    "df_800_middle_20"
   ]
  },
  {
   "cell_type": "code",
   "execution_count": 25,
   "id": "2b3ac32e",
   "metadata": {},
   "outputs": [
    {
     "data": {
      "text/html": [
       "<div>\n",
       "<style scoped>\n",
       "    .dataframe tbody tr th:only-of-type {\n",
       "        vertical-align: middle;\n",
       "    }\n",
       "\n",
       "    .dataframe tbody tr th {\n",
       "        vertical-align: top;\n",
       "    }\n",
       "\n",
       "    .dataframe thead th {\n",
       "        text-align: right;\n",
       "    }\n",
       "</style>\n",
       "<table border=\"1\" class=\"dataframe\">\n",
       "  <thead>\n",
       "    <tr style=\"text-align: right;\">\n",
       "      <th></th>\n",
       "      <th>video</th>\n",
       "      <th>label</th>\n",
       "      <th>frame_count</th>\n",
       "    </tr>\n",
       "  </thead>\n",
       "  <tbody>\n",
       "    <tr>\n",
       "      <th>0</th>\n",
       "      <td>vNonPorn1</td>\n",
       "      <td>0</td>\n",
       "      <td>20</td>\n",
       "    </tr>\n",
       "    <tr>\n",
       "      <th>1</th>\n",
       "      <td>vNonPorn10</td>\n",
       "      <td>0</td>\n",
       "      <td>20</td>\n",
       "    </tr>\n",
       "    <tr>\n",
       "      <th>2</th>\n",
       "      <td>vNonPorn100</td>\n",
       "      <td>0</td>\n",
       "      <td>20</td>\n",
       "    </tr>\n",
       "    <tr>\n",
       "      <th>3</th>\n",
       "      <td>vNonPorn1006</td>\n",
       "      <td>0</td>\n",
       "      <td>20</td>\n",
       "    </tr>\n",
       "    <tr>\n",
       "      <th>4</th>\n",
       "      <td>vNonPorn1007</td>\n",
       "      <td>0</td>\n",
       "      <td>20</td>\n",
       "    </tr>\n",
       "    <tr>\n",
       "      <th>...</th>\n",
       "      <td>...</td>\n",
       "      <td>...</td>\n",
       "      <td>...</td>\n",
       "    </tr>\n",
       "    <tr>\n",
       "      <th>793</th>\n",
       "      <td>vPorn94</td>\n",
       "      <td>1</td>\n",
       "      <td>20</td>\n",
       "    </tr>\n",
       "    <tr>\n",
       "      <th>794</th>\n",
       "      <td>vPorn95</td>\n",
       "      <td>1</td>\n",
       "      <td>20</td>\n",
       "    </tr>\n",
       "    <tr>\n",
       "      <th>795</th>\n",
       "      <td>vPorn96</td>\n",
       "      <td>1</td>\n",
       "      <td>20</td>\n",
       "    </tr>\n",
       "    <tr>\n",
       "      <th>796</th>\n",
       "      <td>vPorn97</td>\n",
       "      <td>1</td>\n",
       "      <td>20</td>\n",
       "    </tr>\n",
       "    <tr>\n",
       "      <th>797</th>\n",
       "      <td>vPorn98</td>\n",
       "      <td>1</td>\n",
       "      <td>20</td>\n",
       "    </tr>\n",
       "  </tbody>\n",
       "</table>\n",
       "<p>798 rows × 3 columns</p>\n",
       "</div>"
      ],
      "text/plain": [
       "            video  label  frame_count\n",
       "0       vNonPorn1      0           20\n",
       "1      vNonPorn10      0           20\n",
       "2     vNonPorn100      0           20\n",
       "3    vNonPorn1006      0           20\n",
       "4    vNonPorn1007      0           20\n",
       "..            ...    ...          ...\n",
       "793       vPorn94      1           20\n",
       "794       vPorn95      1           20\n",
       "795       vPorn96      1           20\n",
       "796       vPorn97      1           20\n",
       "797       vPorn98      1           20\n",
       "\n",
       "[798 rows x 3 columns]"
      ]
     },
     "execution_count": 25,
     "metadata": {},
     "output_type": "execute_result"
    }
   ],
   "source": [
    "agg = {\"video\": \"first\", \"label\": \"first\", \"frame\": \"size\"}\n",
    "df_800_middle_20_videos = df_800_middle_20[[\"video\", \"frame\", \"label\"]]\n",
    "df_800_middle_20_videos = df_800_middle_20_videos.groupby(\"video\").aggregate(agg).reset_index(drop=True)\n",
    "df_800_middle_20_videos = df_800_middle_20_videos.rename(columns={\"frame\": \"frame_count\"})\n",
    "df_800_middle_20_videos"
   ]
  },
  {
   "cell_type": "code",
   "execution_count": 26,
   "id": "0db5a0fa",
   "metadata": {},
   "outputs": [
    {
     "name": "stdout",
     "output_type": "stream",
     "text": [
      "videos in /nas-ctm01/datasets/public/BIOMETRICS/pornography-database/data/Database/vNonPornEasy: 200\n",
      "videos in /nas-ctm01/datasets/public/BIOMETRICS/pornography-database/data/Database/vNonPornDifficulty: 198\n",
      "videos in /nas-ctm01/datasets/public/BIOMETRICS/pornography-database/data/Database/vPorn: 400\n"
     ]
    }
   ],
   "source": [
    "for path in paths:\n",
    "    videos_in_path = 0\n",
    "    for v in os.listdir(path):\n",
    "        if v.startswith(\".\"):\n",
    "            continue\n",
    "        \n",
    "        videos_in_path += 1\n",
    "        v_name = os.path.splitext(v)[0]\n",
    "        \n",
    "        if len(df_800_middle_20_videos[df_800_middle_20_videos[\"video\"] == v_name]) == 0:\n",
    "            print(f\"{v_name} not in dataset (it belongs to {path})\")\n",
    "        else:\n",
    "            df_800_middle_20_videos.loc[df_800_middle_20_videos[\"video\"] == v_name, \"folder\"] = os.path.basename(path)\n",
    "    \n",
    "    print(f\"videos in {path}: {videos_in_path}\")"
   ]
  },
  {
   "cell_type": "code",
   "execution_count": 27,
   "id": "6b9914ad",
   "metadata": {},
   "outputs": [
    {
     "data": {
      "text/html": [
       "<div>\n",
       "<style scoped>\n",
       "    .dataframe tbody tr th:only-of-type {\n",
       "        vertical-align: middle;\n",
       "    }\n",
       "\n",
       "    .dataframe tbody tr th {\n",
       "        vertical-align: top;\n",
       "    }\n",
       "\n",
       "    .dataframe thead th {\n",
       "        text-align: right;\n",
       "    }\n",
       "</style>\n",
       "<table border=\"1\" class=\"dataframe\">\n",
       "  <thead>\n",
       "    <tr style=\"text-align: right;\">\n",
       "      <th></th>\n",
       "      <th>video</th>\n",
       "      <th>label</th>\n",
       "      <th>frame_count</th>\n",
       "      <th>folder</th>\n",
       "    </tr>\n",
       "  </thead>\n",
       "  <tbody>\n",
       "    <tr>\n",
       "      <th>0</th>\n",
       "      <td>vNonPorn1</td>\n",
       "      <td>0</td>\n",
       "      <td>20</td>\n",
       "      <td>vNonPornEasy</td>\n",
       "    </tr>\n",
       "    <tr>\n",
       "      <th>1</th>\n",
       "      <td>vNonPorn10</td>\n",
       "      <td>0</td>\n",
       "      <td>20</td>\n",
       "      <td>vNonPornDifficulty</td>\n",
       "    </tr>\n",
       "    <tr>\n",
       "      <th>2</th>\n",
       "      <td>vNonPorn100</td>\n",
       "      <td>0</td>\n",
       "      <td>20</td>\n",
       "      <td>vNonPornEasy</td>\n",
       "    </tr>\n",
       "    <tr>\n",
       "      <th>3</th>\n",
       "      <td>vNonPorn1006</td>\n",
       "      <td>0</td>\n",
       "      <td>20</td>\n",
       "      <td>vNonPornDifficulty</td>\n",
       "    </tr>\n",
       "    <tr>\n",
       "      <th>4</th>\n",
       "      <td>vNonPorn1007</td>\n",
       "      <td>0</td>\n",
       "      <td>20</td>\n",
       "      <td>vNonPornDifficulty</td>\n",
       "    </tr>\n",
       "    <tr>\n",
       "      <th>...</th>\n",
       "      <td>...</td>\n",
       "      <td>...</td>\n",
       "      <td>...</td>\n",
       "      <td>...</td>\n",
       "    </tr>\n",
       "    <tr>\n",
       "      <th>793</th>\n",
       "      <td>vPorn94</td>\n",
       "      <td>1</td>\n",
       "      <td>20</td>\n",
       "      <td>vPorn</td>\n",
       "    </tr>\n",
       "    <tr>\n",
       "      <th>794</th>\n",
       "      <td>vPorn95</td>\n",
       "      <td>1</td>\n",
       "      <td>20</td>\n",
       "      <td>vPorn</td>\n",
       "    </tr>\n",
       "    <tr>\n",
       "      <th>795</th>\n",
       "      <td>vPorn96</td>\n",
       "      <td>1</td>\n",
       "      <td>20</td>\n",
       "      <td>vPorn</td>\n",
       "    </tr>\n",
       "    <tr>\n",
       "      <th>796</th>\n",
       "      <td>vPorn97</td>\n",
       "      <td>1</td>\n",
       "      <td>20</td>\n",
       "      <td>vPorn</td>\n",
       "    </tr>\n",
       "    <tr>\n",
       "      <th>797</th>\n",
       "      <td>vPorn98</td>\n",
       "      <td>1</td>\n",
       "      <td>20</td>\n",
       "      <td>vPorn</td>\n",
       "    </tr>\n",
       "  </tbody>\n",
       "</table>\n",
       "<p>798 rows × 4 columns</p>\n",
       "</div>"
      ],
      "text/plain": [
       "            video  label  frame_count              folder\n",
       "0       vNonPorn1      0           20        vNonPornEasy\n",
       "1      vNonPorn10      0           20  vNonPornDifficulty\n",
       "2     vNonPorn100      0           20        vNonPornEasy\n",
       "3    vNonPorn1006      0           20  vNonPornDifficulty\n",
       "4    vNonPorn1007      0           20  vNonPornDifficulty\n",
       "..            ...    ...          ...                 ...\n",
       "793       vPorn94      1           20               vPorn\n",
       "794       vPorn95      1           20               vPorn\n",
       "795       vPorn96      1           20               vPorn\n",
       "796       vPorn97      1           20               vPorn\n",
       "797       vPorn98      1           20               vPorn\n",
       "\n",
       "[798 rows x 4 columns]"
      ]
     },
     "execution_count": 27,
     "metadata": {},
     "output_type": "execute_result"
    }
   ],
   "source": [
    "df_800_middle_20_videos"
   ]
  },
  {
   "cell_type": "code",
   "execution_count": 28,
   "id": "4ae2b8b4",
   "metadata": {},
   "outputs": [
    {
     "data": {
      "text/html": [
       "<div>\n",
       "<style scoped>\n",
       "    .dataframe tbody tr th:only-of-type {\n",
       "        vertical-align: middle;\n",
       "    }\n",
       "\n",
       "    .dataframe tbody tr th {\n",
       "        vertical-align: top;\n",
       "    }\n",
       "\n",
       "    .dataframe thead th {\n",
       "        text-align: right;\n",
       "    }\n",
       "</style>\n",
       "<table border=\"1\" class=\"dataframe\">\n",
       "  <thead>\n",
       "    <tr style=\"text-align: right;\">\n",
       "      <th></th>\n",
       "      <th>video</th>\n",
       "      <th>label</th>\n",
       "      <th>frame_count</th>\n",
       "      <th>folder</th>\n",
       "    </tr>\n",
       "  </thead>\n",
       "  <tbody>\n",
       "  </tbody>\n",
       "</table>\n",
       "</div>"
      ],
      "text/plain": [
       "Empty DataFrame\n",
       "Columns: [video, label, frame_count, folder]\n",
       "Index: []"
      ]
     },
     "execution_count": 28,
     "metadata": {},
     "output_type": "execute_result"
    }
   ],
   "source": [
    "# videos from which it was not possible to extract 20 frames\n",
    "df_800_middle_20_videos[df_800_middle_20_videos[\"frame_count\"] < 20]"
   ]
  },
  {
   "cell_type": "code",
   "execution_count": 29,
   "id": "8f2a43a1",
   "metadata": {},
   "outputs": [
    {
     "name": "stdout",
     "output_type": "stream",
     "text": [
      "number of videos: 798\n",
      "number of non-porn frames: 7960\n",
      "number of porn frames: 8000\n"
     ]
    }
   ],
   "source": [
    "# NOTE: I accidentally removed one video from its original location\n",
    "\n",
    "print(\"number of videos:\", len(df_800_middle_20_videos))\n",
    "print(\"number of non-porn frames:\", len(df_800_middle_20[df_800_middle_20[\"label\"] == 0]))\n",
    "print(\"number of porn frames:\", len(df_800_middle_20[df_800_middle_20[\"label\"] == 1]))"
   ]
  },
  {
   "cell_type": "markdown",
   "id": "3861a29b",
   "metadata": {},
   "source": [
    "#### even-40"
   ]
  },
  {
   "cell_type": "code",
   "execution_count": 38,
   "id": "b946b779",
   "metadata": {},
   "outputs": [
    {
     "data": {
      "text/plain": [
       "True"
      ]
     },
     "execution_count": 38,
     "metadata": {},
     "output_type": "execute_result"
    }
   ],
   "source": [
    "# check if data file is available\n",
    "data_loc_800_even_40 = \"/nas-ctm01/datasets/public/BIOMETRICS/pornography-database/data-processed/even-40\"\n",
    "os.path.isfile(f\"{data_loc_800_even_40}/data.csv\")"
   ]
  },
  {
   "cell_type": "code",
   "execution_count": 39,
   "id": "bc66ed6a",
   "metadata": {},
   "outputs": [
    {
     "data": {
      "text/html": [
       "<div>\n",
       "<style scoped>\n",
       "    .dataframe tbody tr th:only-of-type {\n",
       "        vertical-align: middle;\n",
       "    }\n",
       "\n",
       "    .dataframe tbody tr th {\n",
       "        vertical-align: top;\n",
       "    }\n",
       "\n",
       "    .dataframe thead th {\n",
       "        text-align: right;\n",
       "    }\n",
       "</style>\n",
       "<table border=\"1\" class=\"dataframe\">\n",
       "  <thead>\n",
       "    <tr style=\"text-align: right;\">\n",
       "      <th></th>\n",
       "      <th>frame</th>\n",
       "      <th>label</th>\n",
       "      <th>video</th>\n",
       "    </tr>\n",
       "  </thead>\n",
       "  <tbody>\n",
       "    <tr>\n",
       "      <th>0</th>\n",
       "      <td>vNonPorn152#0.jpg</td>\n",
       "      <td>0</td>\n",
       "      <td>vNonPorn152</td>\n",
       "    </tr>\n",
       "    <tr>\n",
       "      <th>1</th>\n",
       "      <td>vNonPorn152#1.jpg</td>\n",
       "      <td>0</td>\n",
       "      <td>vNonPorn152</td>\n",
       "    </tr>\n",
       "    <tr>\n",
       "      <th>2</th>\n",
       "      <td>vNonPorn152#2.jpg</td>\n",
       "      <td>0</td>\n",
       "      <td>vNonPorn152</td>\n",
       "    </tr>\n",
       "    <tr>\n",
       "      <th>3</th>\n",
       "      <td>vNonPorn152#3.jpg</td>\n",
       "      <td>0</td>\n",
       "      <td>vNonPorn152</td>\n",
       "    </tr>\n",
       "    <tr>\n",
       "      <th>4</th>\n",
       "      <td>vNonPorn152#4.jpg</td>\n",
       "      <td>0</td>\n",
       "      <td>vNonPorn152</td>\n",
       "    </tr>\n",
       "    <tr>\n",
       "      <th>...</th>\n",
       "      <td>...</td>\n",
       "      <td>...</td>\n",
       "      <td>...</td>\n",
       "    </tr>\n",
       "    <tr>\n",
       "      <th>31915</th>\n",
       "      <td>vPorn346#35.jpg</td>\n",
       "      <td>1</td>\n",
       "      <td>vPorn346</td>\n",
       "    </tr>\n",
       "    <tr>\n",
       "      <th>31916</th>\n",
       "      <td>vPorn346#36.jpg</td>\n",
       "      <td>1</td>\n",
       "      <td>vPorn346</td>\n",
       "    </tr>\n",
       "    <tr>\n",
       "      <th>31917</th>\n",
       "      <td>vPorn346#37.jpg</td>\n",
       "      <td>1</td>\n",
       "      <td>vPorn346</td>\n",
       "    </tr>\n",
       "    <tr>\n",
       "      <th>31918</th>\n",
       "      <td>vPorn346#38.jpg</td>\n",
       "      <td>1</td>\n",
       "      <td>vPorn346</td>\n",
       "    </tr>\n",
       "    <tr>\n",
       "      <th>31919</th>\n",
       "      <td>vPorn346#39.jpg</td>\n",
       "      <td>1</td>\n",
       "      <td>vPorn346</td>\n",
       "    </tr>\n",
       "  </tbody>\n",
       "</table>\n",
       "<p>31920 rows × 3 columns</p>\n",
       "</div>"
      ],
      "text/plain": [
       "                   frame  label        video\n",
       "0      vNonPorn152#0.jpg      0  vNonPorn152\n",
       "1      vNonPorn152#1.jpg      0  vNonPorn152\n",
       "2      vNonPorn152#2.jpg      0  vNonPorn152\n",
       "3      vNonPorn152#3.jpg      0  vNonPorn152\n",
       "4      vNonPorn152#4.jpg      0  vNonPorn152\n",
       "...                  ...    ...          ...\n",
       "31915    vPorn346#35.jpg      1     vPorn346\n",
       "31916    vPorn346#36.jpg      1     vPorn346\n",
       "31917    vPorn346#37.jpg      1     vPorn346\n",
       "31918    vPorn346#38.jpg      1     vPorn346\n",
       "31919    vPorn346#39.jpg      1     vPorn346\n",
       "\n",
       "[31920 rows x 3 columns]"
      ]
     },
     "execution_count": 39,
     "metadata": {},
     "output_type": "execute_result"
    }
   ],
   "source": [
    "df_800_even_40 = pd.read_csv(f\"{data_loc_800_even_40}/data.csv\")\n",
    "df_800_even_40[\"video\"] = [frame_name.split(\"#\")[0] for frame_name in df_800_even_40[\"frame\"]]\n",
    "df_800_even_40"
   ]
  },
  {
   "cell_type": "code",
   "execution_count": 40,
   "id": "14c0e80f",
   "metadata": {},
   "outputs": [
    {
     "data": {
      "text/html": [
       "<div>\n",
       "<style scoped>\n",
       "    .dataframe tbody tr th:only-of-type {\n",
       "        vertical-align: middle;\n",
       "    }\n",
       "\n",
       "    .dataframe tbody tr th {\n",
       "        vertical-align: top;\n",
       "    }\n",
       "\n",
       "    .dataframe thead th {\n",
       "        text-align: right;\n",
       "    }\n",
       "</style>\n",
       "<table border=\"1\" class=\"dataframe\">\n",
       "  <thead>\n",
       "    <tr style=\"text-align: right;\">\n",
       "      <th></th>\n",
       "      <th>video</th>\n",
       "      <th>label</th>\n",
       "      <th>frame_count</th>\n",
       "    </tr>\n",
       "  </thead>\n",
       "  <tbody>\n",
       "    <tr>\n",
       "      <th>0</th>\n",
       "      <td>vNonPorn1</td>\n",
       "      <td>0</td>\n",
       "      <td>40</td>\n",
       "    </tr>\n",
       "    <tr>\n",
       "      <th>1</th>\n",
       "      <td>vNonPorn10</td>\n",
       "      <td>0</td>\n",
       "      <td>40</td>\n",
       "    </tr>\n",
       "    <tr>\n",
       "      <th>2</th>\n",
       "      <td>vNonPorn100</td>\n",
       "      <td>0</td>\n",
       "      <td>40</td>\n",
       "    </tr>\n",
       "    <tr>\n",
       "      <th>3</th>\n",
       "      <td>vNonPorn1006</td>\n",
       "      <td>0</td>\n",
       "      <td>40</td>\n",
       "    </tr>\n",
       "    <tr>\n",
       "      <th>4</th>\n",
       "      <td>vNonPorn1007</td>\n",
       "      <td>0</td>\n",
       "      <td>40</td>\n",
       "    </tr>\n",
       "    <tr>\n",
       "      <th>...</th>\n",
       "      <td>...</td>\n",
       "      <td>...</td>\n",
       "      <td>...</td>\n",
       "    </tr>\n",
       "    <tr>\n",
       "      <th>793</th>\n",
       "      <td>vPorn94</td>\n",
       "      <td>1</td>\n",
       "      <td>40</td>\n",
       "    </tr>\n",
       "    <tr>\n",
       "      <th>794</th>\n",
       "      <td>vPorn95</td>\n",
       "      <td>1</td>\n",
       "      <td>40</td>\n",
       "    </tr>\n",
       "    <tr>\n",
       "      <th>795</th>\n",
       "      <td>vPorn96</td>\n",
       "      <td>1</td>\n",
       "      <td>40</td>\n",
       "    </tr>\n",
       "    <tr>\n",
       "      <th>796</th>\n",
       "      <td>vPorn97</td>\n",
       "      <td>1</td>\n",
       "      <td>40</td>\n",
       "    </tr>\n",
       "    <tr>\n",
       "      <th>797</th>\n",
       "      <td>vPorn98</td>\n",
       "      <td>1</td>\n",
       "      <td>40</td>\n",
       "    </tr>\n",
       "  </tbody>\n",
       "</table>\n",
       "<p>798 rows × 3 columns</p>\n",
       "</div>"
      ],
      "text/plain": [
       "            video  label  frame_count\n",
       "0       vNonPorn1      0           40\n",
       "1      vNonPorn10      0           40\n",
       "2     vNonPorn100      0           40\n",
       "3    vNonPorn1006      0           40\n",
       "4    vNonPorn1007      0           40\n",
       "..            ...    ...          ...\n",
       "793       vPorn94      1           40\n",
       "794       vPorn95      1           40\n",
       "795       vPorn96      1           40\n",
       "796       vPorn97      1           40\n",
       "797       vPorn98      1           40\n",
       "\n",
       "[798 rows x 3 columns]"
      ]
     },
     "execution_count": 40,
     "metadata": {},
     "output_type": "execute_result"
    }
   ],
   "source": [
    "agg = {\"video\": \"first\", \"label\": \"first\", \"frame\": \"size\"}\n",
    "df_800_even_40_videos = df_800_even_40[[\"video\", \"frame\", \"label\"]]\n",
    "df_800_even_40_videos = df_800_even_40_videos.groupby(\"video\").aggregate(agg).reset_index(drop=True)\n",
    "df_800_even_40_videos = df_800_even_40_videos.rename(columns={\"frame\": \"frame_count\"})\n",
    "df_800_even_40_videos"
   ]
  },
  {
   "cell_type": "code",
   "execution_count": 41,
   "id": "9c74403f",
   "metadata": {},
   "outputs": [
    {
     "name": "stdout",
     "output_type": "stream",
     "text": [
      "videos in /nas-ctm01/datasets/public/BIOMETRICS/pornography-database/data/Database/vNonPornEasy: 200\n",
      "videos in /nas-ctm01/datasets/public/BIOMETRICS/pornography-database/data/Database/vNonPornDifficulty: 198\n",
      "videos in /nas-ctm01/datasets/public/BIOMETRICS/pornography-database/data/Database/vPorn: 400\n"
     ]
    }
   ],
   "source": [
    "for path in paths:\n",
    "    videos_in_path = 0\n",
    "    for v in os.listdir(path):\n",
    "        if v.startswith(\".\"):\n",
    "            continue\n",
    "        \n",
    "        videos_in_path += 1\n",
    "        v_name = os.path.splitext(v)[0]\n",
    "        \n",
    "        if len(df_800_even_40_videos[df_800_even_40_videos[\"video\"] == v_name]) == 0:\n",
    "            print(f\"{v_name} not in dataset (it belongs to {path})\")\n",
    "        else:\n",
    "            df_800_even_40_videos.loc[df_800_even_40_videos[\"video\"] == v_name, \"folder\"] = os.path.basename(path)\n",
    "    \n",
    "    print(f\"videos in {path}: {videos_in_path}\")"
   ]
  },
  {
   "cell_type": "code",
   "execution_count": 42,
   "id": "e4f93cbd",
   "metadata": {},
   "outputs": [
    {
     "data": {
      "text/html": [
       "<div>\n",
       "<style scoped>\n",
       "    .dataframe tbody tr th:only-of-type {\n",
       "        vertical-align: middle;\n",
       "    }\n",
       "\n",
       "    .dataframe tbody tr th {\n",
       "        vertical-align: top;\n",
       "    }\n",
       "\n",
       "    .dataframe thead th {\n",
       "        text-align: right;\n",
       "    }\n",
       "</style>\n",
       "<table border=\"1\" class=\"dataframe\">\n",
       "  <thead>\n",
       "    <tr style=\"text-align: right;\">\n",
       "      <th></th>\n",
       "      <th>video</th>\n",
       "      <th>label</th>\n",
       "      <th>frame_count</th>\n",
       "      <th>folder</th>\n",
       "    </tr>\n",
       "  </thead>\n",
       "  <tbody>\n",
       "  </tbody>\n",
       "</table>\n",
       "</div>"
      ],
      "text/plain": [
       "Empty DataFrame\n",
       "Columns: [video, label, frame_count, folder]\n",
       "Index: []"
      ]
     },
     "execution_count": 42,
     "metadata": {},
     "output_type": "execute_result"
    }
   ],
   "source": [
    "# videos from which it was not possible to extract 40 frames\n",
    "df_800_even_40_videos[df_800_even_40_videos[\"frame_count\"] < 40]"
   ]
  },
  {
   "cell_type": "code",
   "execution_count": 43,
   "id": "a8e8cae4",
   "metadata": {},
   "outputs": [
    {
     "name": "stdout",
     "output_type": "stream",
     "text": [
      "number of videos: 798\n",
      "number of non-porn frames: 15920\n",
      "number of porn frames: 16000\n"
     ]
    }
   ],
   "source": [
    "# NOTE: I accidentally removed one video from its original location\n",
    "\n",
    "print(\"number of videos:\", len(df_800_even_40_videos))\n",
    "print(\"number of non-porn frames:\", len(df_800_even_40[df_800_even_40[\"label\"] == 0]))\n",
    "print(\"number of porn frames:\", len(df_800_even_40[df_800_even_40[\"label\"] == 1]))"
   ]
  },
  {
   "cell_type": "markdown",
   "id": "2c82a454",
   "metadata": {},
   "source": [
    "### Pornography-2k"
   ]
  },
  {
   "cell_type": "markdown",
   "id": "35af07b0",
   "metadata": {},
   "source": [
    "#### middle-20"
   ]
  },
  {
   "cell_type": "code",
   "execution_count": 44,
   "id": "6bba45e5",
   "metadata": {},
   "outputs": [
    {
     "data": {
      "text/plain": [
       "True"
      ]
     },
     "execution_count": 44,
     "metadata": {},
     "output_type": "execute_result"
    }
   ],
   "source": [
    "# check if data file is available\n",
    "data_loc_2k_middle_20 = \"/nas-ctm01/datasets/public/BIOMETRICS/pornography-2k-db/data-processed/middle-20\"\n",
    "os.path.isfile(f\"{data_loc_2k_middle_20}/data.csv\")"
   ]
  },
  {
   "cell_type": "code",
   "execution_count": 45,
   "id": "f266e61e",
   "metadata": {},
   "outputs": [
    {
     "data": {
      "text/html": [
       "<div>\n",
       "<style scoped>\n",
       "    .dataframe tbody tr th:only-of-type {\n",
       "        vertical-align: middle;\n",
       "    }\n",
       "\n",
       "    .dataframe tbody tr th {\n",
       "        vertical-align: top;\n",
       "    }\n",
       "\n",
       "    .dataframe thead th {\n",
       "        text-align: right;\n",
       "    }\n",
       "</style>\n",
       "<table border=\"1\" class=\"dataframe\">\n",
       "  <thead>\n",
       "    <tr style=\"text-align: right;\">\n",
       "      <th></th>\n",
       "      <th>frame</th>\n",
       "      <th>label</th>\n",
       "      <th>video</th>\n",
       "    </tr>\n",
       "  </thead>\n",
       "  <tbody>\n",
       "    <tr>\n",
       "      <th>0</th>\n",
       "      <td>vPorn000842#0.jpg</td>\n",
       "      <td>1</td>\n",
       "      <td>vPorn000842</td>\n",
       "    </tr>\n",
       "    <tr>\n",
       "      <th>1</th>\n",
       "      <td>vPorn000842#1.jpg</td>\n",
       "      <td>1</td>\n",
       "      <td>vPorn000842</td>\n",
       "    </tr>\n",
       "    <tr>\n",
       "      <th>2</th>\n",
       "      <td>vPorn000842#2.jpg</td>\n",
       "      <td>1</td>\n",
       "      <td>vPorn000842</td>\n",
       "    </tr>\n",
       "    <tr>\n",
       "      <th>3</th>\n",
       "      <td>vPorn000842#3.jpg</td>\n",
       "      <td>1</td>\n",
       "      <td>vPorn000842</td>\n",
       "    </tr>\n",
       "    <tr>\n",
       "      <th>4</th>\n",
       "      <td>vPorn000842#4.jpg</td>\n",
       "      <td>1</td>\n",
       "      <td>vPorn000842</td>\n",
       "    </tr>\n",
       "    <tr>\n",
       "      <th>...</th>\n",
       "      <td>...</td>\n",
       "      <td>...</td>\n",
       "      <td>...</td>\n",
       "    </tr>\n",
       "    <tr>\n",
       "      <th>39995</th>\n",
       "      <td>vPorn000431#15.jpg</td>\n",
       "      <td>1</td>\n",
       "      <td>vPorn000431</td>\n",
       "    </tr>\n",
       "    <tr>\n",
       "      <th>39996</th>\n",
       "      <td>vPorn000431#16.jpg</td>\n",
       "      <td>1</td>\n",
       "      <td>vPorn000431</td>\n",
       "    </tr>\n",
       "    <tr>\n",
       "      <th>39997</th>\n",
       "      <td>vPorn000431#17.jpg</td>\n",
       "      <td>1</td>\n",
       "      <td>vPorn000431</td>\n",
       "    </tr>\n",
       "    <tr>\n",
       "      <th>39998</th>\n",
       "      <td>vPorn000431#18.jpg</td>\n",
       "      <td>1</td>\n",
       "      <td>vPorn000431</td>\n",
       "    </tr>\n",
       "    <tr>\n",
       "      <th>39999</th>\n",
       "      <td>vPorn000431#19.jpg</td>\n",
       "      <td>1</td>\n",
       "      <td>vPorn000431</td>\n",
       "    </tr>\n",
       "  </tbody>\n",
       "</table>\n",
       "<p>40000 rows × 3 columns</p>\n",
       "</div>"
      ],
      "text/plain": [
       "                    frame  label        video\n",
       "0       vPorn000842#0.jpg      1  vPorn000842\n",
       "1       vPorn000842#1.jpg      1  vPorn000842\n",
       "2       vPorn000842#2.jpg      1  vPorn000842\n",
       "3       vPorn000842#3.jpg      1  vPorn000842\n",
       "4       vPorn000842#4.jpg      1  vPorn000842\n",
       "...                   ...    ...          ...\n",
       "39995  vPorn000431#15.jpg      1  vPorn000431\n",
       "39996  vPorn000431#16.jpg      1  vPorn000431\n",
       "39997  vPorn000431#17.jpg      1  vPorn000431\n",
       "39998  vPorn000431#18.jpg      1  vPorn000431\n",
       "39999  vPorn000431#19.jpg      1  vPorn000431\n",
       "\n",
       "[40000 rows x 3 columns]"
      ]
     },
     "execution_count": 45,
     "metadata": {},
     "output_type": "execute_result"
    }
   ],
   "source": [
    "df_2k_middle_20 = pd.read_csv(f\"{data_loc_2k_middle_20}/data.csv\")\n",
    "df_2k_middle_20[\"video\"] = [frame_name.split(\"#\")[0] for frame_name in df_2k_middle_20[\"frame\"]]\n",
    "df_2k_middle_20"
   ]
  },
  {
   "cell_type": "code",
   "execution_count": 46,
   "id": "ed6cb156",
   "metadata": {},
   "outputs": [
    {
     "data": {
      "text/html": [
       "<div>\n",
       "<style scoped>\n",
       "    .dataframe tbody tr th:only-of-type {\n",
       "        vertical-align: middle;\n",
       "    }\n",
       "\n",
       "    .dataframe tbody tr th {\n",
       "        vertical-align: top;\n",
       "    }\n",
       "\n",
       "    .dataframe thead th {\n",
       "        text-align: right;\n",
       "    }\n",
       "</style>\n",
       "<table border=\"1\" class=\"dataframe\">\n",
       "  <thead>\n",
       "    <tr style=\"text-align: right;\">\n",
       "      <th></th>\n",
       "      <th>video</th>\n",
       "      <th>label</th>\n",
       "      <th>frame_count</th>\n",
       "    </tr>\n",
       "  </thead>\n",
       "  <tbody>\n",
       "    <tr>\n",
       "      <th>0</th>\n",
       "      <td>vNonPorn000001</td>\n",
       "      <td>0</td>\n",
       "      <td>20</td>\n",
       "    </tr>\n",
       "    <tr>\n",
       "      <th>1</th>\n",
       "      <td>vNonPorn000002</td>\n",
       "      <td>0</td>\n",
       "      <td>20</td>\n",
       "    </tr>\n",
       "    <tr>\n",
       "      <th>2</th>\n",
       "      <td>vNonPorn000003</td>\n",
       "      <td>0</td>\n",
       "      <td>20</td>\n",
       "    </tr>\n",
       "    <tr>\n",
       "      <th>3</th>\n",
       "      <td>vNonPorn000004</td>\n",
       "      <td>0</td>\n",
       "      <td>20</td>\n",
       "    </tr>\n",
       "    <tr>\n",
       "      <th>4</th>\n",
       "      <td>vNonPorn000005</td>\n",
       "      <td>0</td>\n",
       "      <td>20</td>\n",
       "    </tr>\n",
       "    <tr>\n",
       "      <th>...</th>\n",
       "      <td>...</td>\n",
       "      <td>...</td>\n",
       "      <td>...</td>\n",
       "    </tr>\n",
       "    <tr>\n",
       "      <th>1995</th>\n",
       "      <td>vPorn000996</td>\n",
       "      <td>1</td>\n",
       "      <td>20</td>\n",
       "    </tr>\n",
       "    <tr>\n",
       "      <th>1996</th>\n",
       "      <td>vPorn000997</td>\n",
       "      <td>1</td>\n",
       "      <td>20</td>\n",
       "    </tr>\n",
       "    <tr>\n",
       "      <th>1997</th>\n",
       "      <td>vPorn000998</td>\n",
       "      <td>1</td>\n",
       "      <td>20</td>\n",
       "    </tr>\n",
       "    <tr>\n",
       "      <th>1998</th>\n",
       "      <td>vPorn000999</td>\n",
       "      <td>1</td>\n",
       "      <td>20</td>\n",
       "    </tr>\n",
       "    <tr>\n",
       "      <th>1999</th>\n",
       "      <td>vPorn001000</td>\n",
       "      <td>1</td>\n",
       "      <td>20</td>\n",
       "    </tr>\n",
       "  </tbody>\n",
       "</table>\n",
       "<p>2000 rows × 3 columns</p>\n",
       "</div>"
      ],
      "text/plain": [
       "               video  label  frame_count\n",
       "0     vNonPorn000001      0           20\n",
       "1     vNonPorn000002      0           20\n",
       "2     vNonPorn000003      0           20\n",
       "3     vNonPorn000004      0           20\n",
       "4     vNonPorn000005      0           20\n",
       "...              ...    ...          ...\n",
       "1995     vPorn000996      1           20\n",
       "1996     vPorn000997      1           20\n",
       "1997     vPorn000998      1           20\n",
       "1998     vPorn000999      1           20\n",
       "1999     vPorn001000      1           20\n",
       "\n",
       "[2000 rows x 3 columns]"
      ]
     },
     "execution_count": 46,
     "metadata": {},
     "output_type": "execute_result"
    }
   ],
   "source": [
    "agg = {\"video\": \"first\", \"label\": \"first\", \"frame\": \"size\"}\n",
    "df_2k_middle_20_videos = df_2k_middle_20[[\"video\", \"frame\", \"label\"]]\n",
    "df_2k_middle_20_videos = df_2k_middle_20_videos.groupby(\"video\").aggregate(agg).reset_index(drop=True)\n",
    "df_2k_middle_20_videos = df_2k_middle_20_videos.rename(columns={\"frame\": \"frame_count\"})\n",
    "df_2k_middle_20_videos"
   ]
  },
  {
   "cell_type": "code",
   "execution_count": 47,
   "id": "c3803d34",
   "metadata": {},
   "outputs": [
    {
     "data": {
      "text/html": [
       "<div>\n",
       "<style scoped>\n",
       "    .dataframe tbody tr th:only-of-type {\n",
       "        vertical-align: middle;\n",
       "    }\n",
       "\n",
       "    .dataframe tbody tr th {\n",
       "        vertical-align: top;\n",
       "    }\n",
       "\n",
       "    .dataframe thead th {\n",
       "        text-align: right;\n",
       "    }\n",
       "</style>\n",
       "<table border=\"1\" class=\"dataframe\">\n",
       "  <thead>\n",
       "    <tr style=\"text-align: right;\">\n",
       "      <th></th>\n",
       "      <th>video</th>\n",
       "      <th>label</th>\n",
       "      <th>frame_count</th>\n",
       "    </tr>\n",
       "  </thead>\n",
       "  <tbody>\n",
       "  </tbody>\n",
       "</table>\n",
       "</div>"
      ],
      "text/plain": [
       "Empty DataFrame\n",
       "Columns: [video, label, frame_count]\n",
       "Index: []"
      ]
     },
     "execution_count": 47,
     "metadata": {},
     "output_type": "execute_result"
    }
   ],
   "source": [
    "# videos from which it was not possible to extract 20 frames\n",
    "df_2k_middle_20_videos[df_2k_middle_20_videos[\"frame_count\"] < 20]"
   ]
  },
  {
   "cell_type": "code",
   "execution_count": 48,
   "id": "05928321",
   "metadata": {},
   "outputs": [
    {
     "name": "stdout",
     "output_type": "stream",
     "text": [
      "number of videos: 2000\n",
      "number of non-porn frames: 20000\n",
      "number of porn frames: 20000\n"
     ]
    }
   ],
   "source": [
    "print(\"number of videos:\", len(df_2k_middle_20_videos))\n",
    "print(\"number of non-porn frames:\", len(df_2k_middle_20[df_2k_middle_20[\"label\"] == 0]))\n",
    "print(\"number of porn frames:\", len(df_2k_middle_20[df_2k_middle_20[\"label\"] == 1]))"
   ]
  },
  {
   "cell_type": "markdown",
   "id": "ea9904e9",
   "metadata": {},
   "source": [
    "#### even-20"
   ]
  },
  {
   "cell_type": "code",
   "execution_count": 49,
   "id": "c297f048",
   "metadata": {},
   "outputs": [
    {
     "data": {
      "text/plain": [
       "True"
      ]
     },
     "execution_count": 49,
     "metadata": {},
     "output_type": "execute_result"
    }
   ],
   "source": [
    "# check if data file is available\n",
    "data_loc_2k_even_20 = \"/nas-ctm01/datasets/public/BIOMETRICS/pornography-2k-db/data-processed/even-20\"\n",
    "os.path.isfile(f\"{data_loc_2k_even_20}/data.csv\")"
   ]
  },
  {
   "cell_type": "code",
   "execution_count": 50,
   "id": "59ac27ab",
   "metadata": {},
   "outputs": [
    {
     "data": {
      "text/html": [
       "<div>\n",
       "<style scoped>\n",
       "    .dataframe tbody tr th:only-of-type {\n",
       "        vertical-align: middle;\n",
       "    }\n",
       "\n",
       "    .dataframe tbody tr th {\n",
       "        vertical-align: top;\n",
       "    }\n",
       "\n",
       "    .dataframe thead th {\n",
       "        text-align: right;\n",
       "    }\n",
       "</style>\n",
       "<table border=\"1\" class=\"dataframe\">\n",
       "  <thead>\n",
       "    <tr style=\"text-align: right;\">\n",
       "      <th></th>\n",
       "      <th>frame</th>\n",
       "      <th>label</th>\n",
       "      <th>video</th>\n",
       "    </tr>\n",
       "  </thead>\n",
       "  <tbody>\n",
       "    <tr>\n",
       "      <th>0</th>\n",
       "      <td>vPorn000842#0.jpg</td>\n",
       "      <td>1</td>\n",
       "      <td>vPorn000842</td>\n",
       "    </tr>\n",
       "    <tr>\n",
       "      <th>1</th>\n",
       "      <td>vPorn000842#1.jpg</td>\n",
       "      <td>1</td>\n",
       "      <td>vPorn000842</td>\n",
       "    </tr>\n",
       "    <tr>\n",
       "      <th>2</th>\n",
       "      <td>vPorn000842#2.jpg</td>\n",
       "      <td>1</td>\n",
       "      <td>vPorn000842</td>\n",
       "    </tr>\n",
       "    <tr>\n",
       "      <th>3</th>\n",
       "      <td>vPorn000842#3.jpg</td>\n",
       "      <td>1</td>\n",
       "      <td>vPorn000842</td>\n",
       "    </tr>\n",
       "    <tr>\n",
       "      <th>4</th>\n",
       "      <td>vPorn000842#4.jpg</td>\n",
       "      <td>1</td>\n",
       "      <td>vPorn000842</td>\n",
       "    </tr>\n",
       "    <tr>\n",
       "      <th>...</th>\n",
       "      <td>...</td>\n",
       "      <td>...</td>\n",
       "      <td>...</td>\n",
       "    </tr>\n",
       "    <tr>\n",
       "      <th>39995</th>\n",
       "      <td>vPorn000431#15.jpg</td>\n",
       "      <td>1</td>\n",
       "      <td>vPorn000431</td>\n",
       "    </tr>\n",
       "    <tr>\n",
       "      <th>39996</th>\n",
       "      <td>vPorn000431#16.jpg</td>\n",
       "      <td>1</td>\n",
       "      <td>vPorn000431</td>\n",
       "    </tr>\n",
       "    <tr>\n",
       "      <th>39997</th>\n",
       "      <td>vPorn000431#17.jpg</td>\n",
       "      <td>1</td>\n",
       "      <td>vPorn000431</td>\n",
       "    </tr>\n",
       "    <tr>\n",
       "      <th>39998</th>\n",
       "      <td>vPorn000431#18.jpg</td>\n",
       "      <td>1</td>\n",
       "      <td>vPorn000431</td>\n",
       "    </tr>\n",
       "    <tr>\n",
       "      <th>39999</th>\n",
       "      <td>vPorn000431#19.jpg</td>\n",
       "      <td>1</td>\n",
       "      <td>vPorn000431</td>\n",
       "    </tr>\n",
       "  </tbody>\n",
       "</table>\n",
       "<p>40000 rows × 3 columns</p>\n",
       "</div>"
      ],
      "text/plain": [
       "                    frame  label        video\n",
       "0       vPorn000842#0.jpg      1  vPorn000842\n",
       "1       vPorn000842#1.jpg      1  vPorn000842\n",
       "2       vPorn000842#2.jpg      1  vPorn000842\n",
       "3       vPorn000842#3.jpg      1  vPorn000842\n",
       "4       vPorn000842#4.jpg      1  vPorn000842\n",
       "...                   ...    ...          ...\n",
       "39995  vPorn000431#15.jpg      1  vPorn000431\n",
       "39996  vPorn000431#16.jpg      1  vPorn000431\n",
       "39997  vPorn000431#17.jpg      1  vPorn000431\n",
       "39998  vPorn000431#18.jpg      1  vPorn000431\n",
       "39999  vPorn000431#19.jpg      1  vPorn000431\n",
       "\n",
       "[40000 rows x 3 columns]"
      ]
     },
     "execution_count": 50,
     "metadata": {},
     "output_type": "execute_result"
    }
   ],
   "source": [
    "df_2k_even_20 = pd.read_csv(f\"{data_loc_2k_even_20}/data.csv\")\n",
    "df_2k_even_20[\"video\"] = [frame_name.split(\"#\")[0] for frame_name in df_2k_even_20[\"frame\"]]\n",
    "df_2k_even_20"
   ]
  },
  {
   "cell_type": "code",
   "execution_count": 51,
   "id": "56980670",
   "metadata": {},
   "outputs": [
    {
     "data": {
      "text/html": [
       "<div>\n",
       "<style scoped>\n",
       "    .dataframe tbody tr th:only-of-type {\n",
       "        vertical-align: middle;\n",
       "    }\n",
       "\n",
       "    .dataframe tbody tr th {\n",
       "        vertical-align: top;\n",
       "    }\n",
       "\n",
       "    .dataframe thead th {\n",
       "        text-align: right;\n",
       "    }\n",
       "</style>\n",
       "<table border=\"1\" class=\"dataframe\">\n",
       "  <thead>\n",
       "    <tr style=\"text-align: right;\">\n",
       "      <th></th>\n",
       "      <th>video</th>\n",
       "      <th>label</th>\n",
       "      <th>frame_count</th>\n",
       "    </tr>\n",
       "  </thead>\n",
       "  <tbody>\n",
       "    <tr>\n",
       "      <th>0</th>\n",
       "      <td>vNonPorn000001</td>\n",
       "      <td>0</td>\n",
       "      <td>20</td>\n",
       "    </tr>\n",
       "    <tr>\n",
       "      <th>1</th>\n",
       "      <td>vNonPorn000002</td>\n",
       "      <td>0</td>\n",
       "      <td>20</td>\n",
       "    </tr>\n",
       "    <tr>\n",
       "      <th>2</th>\n",
       "      <td>vNonPorn000003</td>\n",
       "      <td>0</td>\n",
       "      <td>20</td>\n",
       "    </tr>\n",
       "    <tr>\n",
       "      <th>3</th>\n",
       "      <td>vNonPorn000004</td>\n",
       "      <td>0</td>\n",
       "      <td>20</td>\n",
       "    </tr>\n",
       "    <tr>\n",
       "      <th>4</th>\n",
       "      <td>vNonPorn000005</td>\n",
       "      <td>0</td>\n",
       "      <td>20</td>\n",
       "    </tr>\n",
       "    <tr>\n",
       "      <th>...</th>\n",
       "      <td>...</td>\n",
       "      <td>...</td>\n",
       "      <td>...</td>\n",
       "    </tr>\n",
       "    <tr>\n",
       "      <th>1995</th>\n",
       "      <td>vPorn000996</td>\n",
       "      <td>1</td>\n",
       "      <td>20</td>\n",
       "    </tr>\n",
       "    <tr>\n",
       "      <th>1996</th>\n",
       "      <td>vPorn000997</td>\n",
       "      <td>1</td>\n",
       "      <td>20</td>\n",
       "    </tr>\n",
       "    <tr>\n",
       "      <th>1997</th>\n",
       "      <td>vPorn000998</td>\n",
       "      <td>1</td>\n",
       "      <td>20</td>\n",
       "    </tr>\n",
       "    <tr>\n",
       "      <th>1998</th>\n",
       "      <td>vPorn000999</td>\n",
       "      <td>1</td>\n",
       "      <td>20</td>\n",
       "    </tr>\n",
       "    <tr>\n",
       "      <th>1999</th>\n",
       "      <td>vPorn001000</td>\n",
       "      <td>1</td>\n",
       "      <td>20</td>\n",
       "    </tr>\n",
       "  </tbody>\n",
       "</table>\n",
       "<p>2000 rows × 3 columns</p>\n",
       "</div>"
      ],
      "text/plain": [
       "               video  label  frame_count\n",
       "0     vNonPorn000001      0           20\n",
       "1     vNonPorn000002      0           20\n",
       "2     vNonPorn000003      0           20\n",
       "3     vNonPorn000004      0           20\n",
       "4     vNonPorn000005      0           20\n",
       "...              ...    ...          ...\n",
       "1995     vPorn000996      1           20\n",
       "1996     vPorn000997      1           20\n",
       "1997     vPorn000998      1           20\n",
       "1998     vPorn000999      1           20\n",
       "1999     vPorn001000      1           20\n",
       "\n",
       "[2000 rows x 3 columns]"
      ]
     },
     "execution_count": 51,
     "metadata": {},
     "output_type": "execute_result"
    }
   ],
   "source": [
    "agg = {\"video\": \"first\", \"label\": \"first\", \"frame\": \"size\"}\n",
    "df_2k_even_20_videos = df_2k_even_20[[\"video\", \"frame\", \"label\"]]\n",
    "df_2k_even_20_videos = df_2k_even_20_videos.groupby(\"video\").aggregate(agg).reset_index(drop=True)\n",
    "df_2k_even_20_videos = df_2k_even_20_videos.rename(columns={\"frame\": \"frame_count\"})\n",
    "df_2k_even_20_videos"
   ]
  },
  {
   "cell_type": "code",
   "execution_count": 52,
   "id": "c481ac2c",
   "metadata": {},
   "outputs": [
    {
     "data": {
      "text/html": [
       "<div>\n",
       "<style scoped>\n",
       "    .dataframe tbody tr th:only-of-type {\n",
       "        vertical-align: middle;\n",
       "    }\n",
       "\n",
       "    .dataframe tbody tr th {\n",
       "        vertical-align: top;\n",
       "    }\n",
       "\n",
       "    .dataframe thead th {\n",
       "        text-align: right;\n",
       "    }\n",
       "</style>\n",
       "<table border=\"1\" class=\"dataframe\">\n",
       "  <thead>\n",
       "    <tr style=\"text-align: right;\">\n",
       "      <th></th>\n",
       "      <th>video</th>\n",
       "      <th>label</th>\n",
       "      <th>frame_count</th>\n",
       "    </tr>\n",
       "  </thead>\n",
       "  <tbody>\n",
       "  </tbody>\n",
       "</table>\n",
       "</div>"
      ],
      "text/plain": [
       "Empty DataFrame\n",
       "Columns: [video, label, frame_count]\n",
       "Index: []"
      ]
     },
     "execution_count": 52,
     "metadata": {},
     "output_type": "execute_result"
    }
   ],
   "source": [
    "# videos from which it was not possible to extract 20 frames\n",
    "df_2k_even_20_videos[df_2k_even_20_videos[\"frame_count\"] < 20]"
   ]
  },
  {
   "cell_type": "code",
   "execution_count": 53,
   "id": "74522123",
   "metadata": {},
   "outputs": [
    {
     "name": "stdout",
     "output_type": "stream",
     "text": [
      "number of videos: 2000\n",
      "number of non-porn frames: 20000\n",
      "number of porn frames: 20000\n"
     ]
    }
   ],
   "source": [
    "print(\"number of videos:\", len(df_2k_even_20_videos))\n",
    "print(\"number of non-porn frames:\", len(df_2k_even_20[df_2k_even_20[\"label\"] == 0]))\n",
    "print(\"number of porn frames:\", len(df_2k_even_20[df_2k_even_20[\"label\"] == 1]))"
   ]
  },
  {
   "cell_type": "markdown",
   "id": "098b07a5",
   "metadata": {},
   "source": [
    "## Model training and testing"
   ]
  },
  {
   "cell_type": "code",
   "execution_count": 2,
   "id": "7b199d9a",
   "metadata": {},
   "outputs": [],
   "source": [
    "def true_positives(df):\n",
    "    return len(df[(df[\"Target\"] == 1) & (df[\"Prediction\"] == 1)])\n",
    "\n",
    "\n",
    "def true_negatives(df):\n",
    "    return len(df[(df[\"Target\"] == 0) & (df[\"Prediction\"] == 0)])\n",
    "\n",
    "\n",
    "def false_positives(df):\n",
    "    return len(df[(df[\"Target\"] == 0) & (df[\"Prediction\"] == 1)])\n",
    "\n",
    "\n",
    "def false_negatives(df):\n",
    "    return len(df[(df[\"Target\"] == 1) & (df[\"Prediction\"] == 0)])\n",
    "\n",
    "\n",
    "def separate_correct_and_incorrect(row):\n",
    "    target = row[\"Target\"]\n",
    "\n",
    "    correct_frames = []\n",
    "    incorrect_frames = []\n",
    "    correct_confidences = []\n",
    "    incorrect_confidences = []\n",
    "\n",
    "    for frame, prediction, confidence in zip(row[\"Frame\"], row[\"Prediction\"], row[\"Confidence\"]):\n",
    "        if target == prediction:\n",
    "            correct_frames.append(frame)\n",
    "            correct_confidences.append(confidence)\n",
    "        else:\n",
    "            incorrect_frames.append(frame)\n",
    "            incorrect_confidences.append(confidence)\n",
    "\n",
    "    return pd.Series(\n",
    "        [correct_frames, incorrect_frames, correct_confidences, incorrect_confidences],\n",
    "        index=[\n",
    "            \"Correct_frames\",\n",
    "            \"Incorrect_frames\",\n",
    "            \"Correct_confidences\",\n",
    "            \"Incorrect_confidences\",\n",
    "        ],\n",
    "    )\n",
    "\n",
    "\n",
    "def get_video_df_separated(df):\n",
    "    df[\"Video\"] = df[\"Frame\"].str.split(\"#\").str[0]\n",
    "\n",
    "    # Group by video and aggregate columns\n",
    "    video_df = (\n",
    "        df.groupby(\"Video\")\n",
    "        .agg(\n",
    "            {\n",
    "                \"Target\": \"first\",\n",
    "                \"Prediction\": lambda x: list(x),\n",
    "                \"Frame\": lambda x: list(x),\n",
    "                \"Confidence\": lambda x: list(x),\n",
    "            }\n",
    "        )\n",
    "        .reset_index()\n",
    "    )\n",
    "\n",
    "    # Apply aggregation function\n",
    "    video_df[\n",
    "        [\n",
    "            \"Correct_frames\",\n",
    "            \"Incorrect_frames\",\n",
    "            \"Correct_confidences\",\n",
    "            \"Incorrect_confidences\",\n",
    "        ]\n",
    "    ] = video_df.apply(separate_correct_and_incorrect, axis=1)\n",
    "\n",
    "    # Drop unnecessary columns\n",
    "    video_df.drop([\"Frame\", \"Prediction\", \"Confidence\"], axis=1, inplace=True)\n",
    "\n",
    "    return video_df\n",
    "\n",
    "\n",
    "def videos_totally_correctly_classified(df): # no incorrectly classified frames\n",
    "    return len(df[df.apply(lambda row: len(row[\"Incorrect_frames\"]) == 0, axis=1)])\n",
    "\n",
    "\n",
    "def videos_partially_correctly_classified(df): # some incorrectly classified frames\n",
    "    return len(\n",
    "        df[\n",
    "            df.apply(\n",
    "                lambda row: (\n",
    "                    len(row[\"Correct_frames\"]) > 0 and len(row[\"Incorrect_frames\"]) > 0\n",
    "                )\n",
    "                and (len(row[\"Correct_frames\"]) > len(row[\"Incorrect_frames\"])),\n",
    "                axis=1,\n",
    "            )\n",
    "        ]\n",
    "    )\n",
    "\n",
    "\n",
    "def videos_partially_correctly_classified_relaxed(df):\n",
    "    return len(\n",
    "        df[\n",
    "            df.apply(\n",
    "                lambda row: (\n",
    "                    len(row[\"Correct_frames\"]) > 0 and len(row[\"Incorrect_frames\"]) > 0\n",
    "                )\n",
    "                and (len(row[\"Correct_frames\"]) >= len(row[\"Incorrect_frames\"])),\n",
    "                axis=1,\n",
    "            )\n",
    "        ]\n",
    "    )\n",
    "\n",
    "\n",
    "def videos_totally_incorrectly_classified(df):\n",
    "    return len(df[df.apply(lambda row: len(row[\"Correct_frames\"]) == 0, axis=1)])\n",
    "\n",
    "\n",
    "def videos_partially_incorrectly_classified(df):  # some correctly classified frames\n",
    "    return len(\n",
    "        df[\n",
    "            df.apply(\n",
    "                lambda row: (\n",
    "                    len(row[\"Correct_frames\"]) > 0 and len(row[\"Incorrect_frames\"]) > 0\n",
    "                )\n",
    "                and (len(row[\"Incorrect_frames\"]) > len(row[\"Correct_frames\"])),\n",
    "                axis=1,\n",
    "            )\n",
    "        ]\n",
    "    )"
   ]
  },
  {
   "cell_type": "markdown",
   "id": "38300c95",
   "metadata": {},
   "source": [
    "### Pornography-800"
   ]
  },
  {
   "cell_type": "markdown",
   "id": "bb0b79f2",
   "metadata": {},
   "source": [
    "#### VGG19"
   ]
  },
  {
   "cell_type": "code",
   "execution_count": 3,
   "id": "aba2a3e2",
   "metadata": {},
   "outputs": [
    {
     "name": "stdout",
     "output_type": "stream",
     "text": [
      "Total videos: 160\n",
      "Correctly classified: 153\n",
      "Correctly classified (relaxed): 154\n",
      "Accuracy: 0.95625\n",
      "Accuracy (relaxed): 0.9625\n"
     ]
    }
   ],
   "source": [
    "df = pd.read_csv(\"results/pornography-800/cnns/no-freeze/even-20/results/vgg19_freeze_False_epochs_100_batch_16_optim_sgd_aug_False_split_10_20.csv\")\n",
    "df_videos = get_video_df_separated(df)\n",
    "\n",
    "corrects = videos_totally_correctly_classified(df_videos) + videos_partially_correctly_classified(df_videos)\n",
    "corrects_relaxed = videos_totally_correctly_classified(df_videos) + videos_partially_correctly_classified_relaxed(df_videos)\n",
    "\n",
    "print(\"Total videos:\", len(df_videos))\n",
    "print(\"Correctly classified:\", corrects)\n",
    "print(\"Correctly classified (relaxed):\", corrects_relaxed)\n",
    "print(\"Accuracy:\", corrects / len(df_videos))\n",
    "print(\"Accuracy (relaxed):\", corrects_relaxed/len(df_videos))"
   ]
  },
  {
   "cell_type": "markdown",
   "id": "343b35e6",
   "metadata": {},
   "source": [
    "#### VGG19 cross-dataset tested on Pornography-2k"
   ]
  },
  {
   "cell_type": "code",
   "execution_count": 4,
   "id": "254d9420",
   "metadata": {},
   "outputs": [
    {
     "name": "stdout",
     "output_type": "stream",
     "text": [
      "Total videos: 400\n",
      "Correctly classified: 360\n",
      "Correctly classified (relaxed): 368\n",
      "Accuracy: 0.9\n",
      "Accuracy (relaxed): 0.92\n"
     ]
    }
   ],
   "source": [
    "df = pd.read_csv(\"results/cross-dataset-testing/train-800-test-2k/vgg19_freeze_False_epochs_100_batch_16_optim_sgd_aug_False_split_10_20.csv\")\n",
    "df_videos = get_video_df_separated(df)\n",
    "\n",
    "corrects = videos_totally_correctly_classified(df_videos) + videos_partially_correctly_classified(df_videos)\n",
    "corrects_relaxed = videos_totally_correctly_classified(df_videos) + videos_partially_correctly_classified_relaxed(df_videos)\n",
    "\n",
    "print(\"Total videos:\", len(df_videos))\n",
    "print(\"Correctly classified:\", corrects)\n",
    "print(\"Correctly classified (relaxed):\", corrects_relaxed)\n",
    "print(\"Accuracy:\", corrects / len(df_videos))\n",
    "print(\"Accuracy (relaxed):\", corrects_relaxed/len(df_videos))"
   ]
  },
  {
   "cell_type": "markdown",
   "id": "c0e56cae",
   "metadata": {},
   "source": [
    "#### ViT"
   ]
  },
  {
   "cell_type": "code",
   "execution_count": 5,
   "id": "8b04120c",
   "metadata": {},
   "outputs": [
    {
     "name": "stdout",
     "output_type": "stream",
     "text": [
      "Total videos: 160\n",
      "Correctly classified: 159\n",
      "Correctly classified (relaxed): 159\n",
      "Accuracy: 0.99375\n",
      "Accuracy (relaxed): 0.99375\n"
     ]
    }
   ],
   "source": [
    "df = pd.read_csv(\"results/pornography-800/transformers/no-freeze/even-20/results/vit_base_patch16_224_epochs_50_batch_16_optim_sgd_aug_False_split_10_20.csv\")\n",
    "df_videos = get_video_df_separated(df)\n",
    "\n",
    "corrects = videos_totally_correctly_classified(df_videos) + videos_partially_correctly_classified(df_videos)\n",
    "corrects_relaxed = videos_totally_correctly_classified(df_videos) + videos_partially_correctly_classified_relaxed(df_videos)\n",
    "\n",
    "print(\"Total videos:\", len(df_videos))\n",
    "print(\"Correctly classified:\", corrects)\n",
    "print(\"Correctly classified (relaxed):\", corrects_relaxed)\n",
    "print(\"Accuracy:\", corrects / len(df_videos))\n",
    "print(\"Accuracy (relaxed):\", corrects_relaxed/len(df_videos))"
   ]
  },
  {
   "cell_type": "markdown",
   "id": "7ec045bb",
   "metadata": {},
   "source": [
    "#### ViT cross-dataset tested on Pornography-2k"
   ]
  },
  {
   "cell_type": "code",
   "execution_count": 6,
   "id": "e4294453",
   "metadata": {},
   "outputs": [
    {
     "name": "stdout",
     "output_type": "stream",
     "text": [
      "Total videos: 400\n",
      "Correctly classified: 385\n",
      "Correctly classified (relaxed): 386\n",
      "Accuracy: 0.9625\n",
      "Accuracy (relaxed): 0.965\n"
     ]
    }
   ],
   "source": [
    "df = pd.read_csv(\"results/cross-dataset-testing/train-800-test-2k/vit_base_patch16_224_epochs_50_batch_16_optim_sgd_aug_False_split_10_20.csv\")\n",
    "df_videos = get_video_df_separated(df)\n",
    "\n",
    "corrects = videos_totally_correctly_classified(df_videos) + videos_partially_correctly_classified(df_videos)\n",
    "corrects_relaxed = videos_totally_correctly_classified(df_videos) + videos_partially_correctly_classified_relaxed(df_videos)\n",
    "\n",
    "print(\"Total videos:\", len(df_videos))\n",
    "print(\"Correctly classified:\", corrects)\n",
    "print(\"Correctly classified (relaxed):\", corrects_relaxed)\n",
    "print(\"Accuracy:\", corrects / len(df_videos))\n",
    "print(\"Accuracy (relaxed):\", corrects_relaxed/len(df_videos))"
   ]
  },
  {
   "cell_type": "markdown",
   "id": "40b8ea7f",
   "metadata": {},
   "source": [
    "### Pornography-2k"
   ]
  },
  {
   "cell_type": "markdown",
   "id": "f0e5f199",
   "metadata": {},
   "source": [
    "#### VGG19"
   ]
  },
  {
   "cell_type": "code",
   "execution_count": 7,
   "id": "2df05b2a",
   "metadata": {},
   "outputs": [
    {
     "name": "stdout",
     "output_type": "stream",
     "text": [
      "Total videos: 400\n",
      "Correctly classified: 382\n",
      "Correctly classified (relaxed): 385\n",
      "Accuracy: 0.955\n",
      "Accuracy (relaxed): 0.9625\n"
     ]
    }
   ],
   "source": [
    "df = pd.read_csv(\"results/pornography-2k/cnns/data-aug/even-20/results/vgg19_freeze_False_epochs_50_batch_16_optim_sgd_aug_True_split_10_20.csv\")\n",
    "df_videos = get_video_df_separated(df)\n",
    "\n",
    "corrects = videos_totally_correctly_classified(df_videos) + videos_partially_correctly_classified(df_videos)\n",
    "corrects_relaxed = videos_totally_correctly_classified(df_videos) + videos_partially_correctly_classified_relaxed(df_videos)\n",
    "\n",
    "print(\"Total videos:\", len(df_videos))\n",
    "print(\"Correctly classified:\", corrects)\n",
    "print(\"Correctly classified (relaxed):\", corrects_relaxed)\n",
    "print(\"Accuracy:\", corrects / len(df_videos))\n",
    "print(\"Accuracy (relaxed):\", corrects_relaxed/len(df_videos))"
   ]
  },
  {
   "cell_type": "markdown",
   "id": "f10a7d27",
   "metadata": {},
   "source": [
    "#### VGG19 cross-dataset tested on Pornography-800"
   ]
  },
  {
   "cell_type": "code",
   "execution_count": 8,
   "id": "73d8b2d0",
   "metadata": {},
   "outputs": [
    {
     "name": "stdout",
     "output_type": "stream",
     "text": [
      "Total videos: 160\n",
      "Correctly classified: 158\n",
      "Correctly classified (relaxed): 158\n",
      "Accuracy: 0.9875\n",
      "Accuracy (relaxed): 0.9875\n"
     ]
    }
   ],
   "source": [
    "df = pd.read_csv(\"results/cross-dataset-testing/train-2k-test-800/vgg19_freeze_False_epochs_50_batch_16_optim_sgd_aug_True_split_10_20.csv\")\n",
    "df_videos = get_video_df_separated(df)\n",
    "\n",
    "corrects = videos_totally_correctly_classified(df_videos) + videos_partially_correctly_classified(df_videos)\n",
    "corrects_relaxed = videos_totally_correctly_classified(df_videos) + videos_partially_correctly_classified_relaxed(df_videos)\n",
    "\n",
    "print(\"Total videos:\", len(df_videos))\n",
    "print(\"Correctly classified:\", corrects)\n",
    "print(\"Correctly classified (relaxed):\", corrects_relaxed)\n",
    "print(\"Accuracy:\", corrects / len(df_videos))\n",
    "print(\"Accuracy (relaxed):\", corrects_relaxed/len(df_videos))"
   ]
  },
  {
   "cell_type": "markdown",
   "id": "1d7651e1",
   "metadata": {},
   "source": [
    "#### ViT "
   ]
  },
  {
   "cell_type": "code",
   "execution_count": 9,
   "id": "6428b169",
   "metadata": {},
   "outputs": [
    {
     "name": "stdout",
     "output_type": "stream",
     "text": [
      "Total videos: 400\n",
      "Correctly classified: 392\n",
      "Correctly classified (relaxed): 392\n",
      "Accuracy: 0.98\n",
      "Accuracy (relaxed): 0.98\n"
     ]
    }
   ],
   "source": [
    "df = pd.read_csv(\"results/pornography-2k/transformers/data-aug/even-20/results/vit_base_patch16_224_epochs_50_batch_16_optim_sgd_aug_True_split_10_20.csv\")\n",
    "df_videos = get_video_df_separated(df)\n",
    "\n",
    "corrects = videos_totally_correctly_classified(df_videos) + videos_partially_correctly_classified(df_videos)\n",
    "corrects_relaxed = videos_totally_correctly_classified(df_videos) + videos_partially_correctly_classified_relaxed(df_videos)\n",
    "\n",
    "print(\"Total videos:\", len(df_videos))\n",
    "print(\"Correctly classified:\", corrects)\n",
    "print(\"Correctly classified (relaxed):\", corrects_relaxed)\n",
    "print(\"Accuracy:\", corrects / len(df_videos))\n",
    "print(\"Accuracy (relaxed):\", corrects_relaxed/len(df_videos))"
   ]
  },
  {
   "cell_type": "markdown",
   "id": "27bdea84",
   "metadata": {},
   "source": [
    "#### ViT cross-dataset tested on Pornography-800"
   ]
  },
  {
   "cell_type": "code",
   "execution_count": 10,
   "id": "3e52ace6",
   "metadata": {},
   "outputs": [
    {
     "name": "stdout",
     "output_type": "stream",
     "text": [
      "Total videos: 160\n",
      "Correctly classified: 159\n",
      "Correctly classified (relaxed): 159\n",
      "Accuracy: 0.99375\n",
      "Accuracy (relaxed): 0.99375\n"
     ]
    }
   ],
   "source": [
    "df = pd.read_csv(\"results/cross-dataset-testing/train-2k-test-800/vit_base_patch16_224_epochs_50_batch_16_optim_sgd_aug_True_split_10_20.csv\")\n",
    "df_videos = get_video_df_separated(df)\n",
    "\n",
    "corrects = videos_totally_correctly_classified(df_videos) + videos_partially_correctly_classified(df_videos)\n",
    "corrects_relaxed = videos_totally_correctly_classified(df_videos) + videos_partially_correctly_classified_relaxed(df_videos)\n",
    "\n",
    "print(\"Total videos:\", len(df_videos))\n",
    "print(\"Correctly classified:\", corrects)\n",
    "print(\"Correctly classified (relaxed):\", corrects_relaxed)\n",
    "print(\"Accuracy:\", corrects / len(df_videos))\n",
    "print(\"Accuracy (relaxed):\", corrects_relaxed/len(df_videos))"
   ]
  }
 ],
 "metadata": {
  "kernelspec": {
   "display_name": "Python 3 (ipykernel)",
   "language": "python",
   "name": "python3"
  },
  "language_info": {
   "codemirror_mode": {
    "name": "ipython",
    "version": 3
   },
   "file_extension": ".py",
   "mimetype": "text/x-python",
   "name": "python",
   "nbconvert_exporter": "python",
   "pygments_lexer": "ipython3",
   "version": "3.10.13"
  }
 },
 "nbformat": 4,
 "nbformat_minor": 5
}
